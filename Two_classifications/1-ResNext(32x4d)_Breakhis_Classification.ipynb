{
 "cells": [
  {
   "cell_type": "markdown",
   "metadata": {
    "colab_type": "text",
    "id": "j8d_U6iIAEbQ"
   },
   "source": [
    "### Build and train the ResNeXT 50 and 101 network and retrain it by breast cancer data base"
   ]
  },
  {
   "cell_type": "code",
   "execution_count": 1,
   "metadata": {
    "colab": {
     "base_uri": "https://localhost:8080/",
     "height": 123
    },
    "colab_type": "code",
    "collapsed": true,
    "executionInfo": {
     "elapsed": 22129,
     "status": "ok",
     "timestamp": 1591137777403,
     "user": {
      "displayName": "FAEZEHSADAT SHAHIDI MAN181002",
      "photoUrl": "",
      "userId": "15928786153813768879"
     },
     "user_tz": -480
    },
    "id": "gnZL28MH2TMQ",
    "outputId": "37841264-c9a9-4451-c0e0-dd269acb5499"
   },
   "outputs": [
    {
     "name": "stdout",
     "output_type": "stream",
     "text": [
      "Go to this URL in a browser: https://accounts.google.com/o/oauth2/auth?client_id=947318989803-6bn6qk8qdgf4n4g3pfee6491hc0brc4i.apps.googleusercontent.com&redirect_uri=urn%3aietf%3awg%3aoauth%3a2.0%3aoob&response_type=code&scope=email%20https%3a%2f%2fwww.googleapis.com%2fauth%2fdocs.test%20https%3a%2f%2fwww.googleapis.com%2fauth%2fdrive%20https%3a%2f%2fwww.googleapis.com%2fauth%2fdrive.photos.readonly%20https%3a%2f%2fwww.googleapis.com%2fauth%2fpeopleapi.readonly\n",
      "\n",
      "Enter your authorization code:\n",
      "··········\n",
      "Mounted at /content/drive\n"
     ]
    }
   ],
   "source": [
    "# the model has been developed and examined on the Google Colab\n",
    "from google.colab import drive\n",
    "drive.mount('/content/drive')"
   ]
  },
  {
   "cell_type": "markdown",
   "metadata": {
    "colab_type": "text",
    "id": "2ZTjlVNQAaty"
   },
   "source": [
    "### import the liberaries"
   ]
  },
  {
   "cell_type": "code",
   "execution_count": 0,
   "metadata": {
    "colab": {},
    "colab_type": "code",
    "id": "x1x11QDZ4gM-"
   },
   "outputs": [],
   "source": [
    "import torch\n",
    "from torch import nn, optim\n",
    "from torchvision import datasets ,transforms, models\n",
    "import numpy as np\n",
    "import matplotlib.pyplot as plt\n",
    "import helper\n",
    "import math\n",
    "import time as evaltime\n",
    "from torch import nn\n",
    "from collections import OrderedDict\n",
    "import tqdm\n",
    "from tqdm import tqdm\n",
    "import pandas as pd"
   ]
  },
  {
   "cell_type": "code",
   "execution_count": null,
   "metadata": {},
   "outputs": [],
   "source": [
    "# if the GPU is available train from the GPU Otherwise, choose the CPU\n",
    "device=torch.device('cuda:0' if torch.cuda.is_available() else 'cpu')"
   ]
  },
  {
   "cell_type": "markdown",
   "metadata": {
    "colab_type": "text",
    "id": "dS06clwVAngY"
   },
   "source": [
    "###  Load the pre trained model and change the FC layer to taylor the number of classes 2 and 8"
   ]
  },
  {
   "cell_type": "code",
   "execution_count": 3,
   "metadata": {
    "colab": {
     "base_uri": "https://localhost:8080/",
     "height": 83,
     "referenced_widgets": [
      "058d9869d3b640168c3da34af07f3c73",
      "633b8ac5056648399775b189b3aa0bfb",
      "b9853be2a52e40fda70759f41b1991b0",
      "f2ec8d7cdadf4d07b094f242468ea5fa",
      "92bd910edc224c04921f92fa574761b4",
      "bbf4e14a133a448d9aa2343cb1d56dd8",
      "b6ee1314d2e94d339fb46e8da539bba1",
      "05504560325e43fb873fb8da2a2fd072"
     ]
    },
    "colab_type": "code",
    "executionInfo": {
     "elapsed": 9384,
     "status": "ok",
     "timestamp": 1591137791653,
     "user": {
      "displayName": "FAEZEHSADAT SHAHIDI MAN181002",
      "photoUrl": "",
      "userId": "15928786153813768879"
     },
     "user_tz": -480
    },
    "id": "IOS1NXpCrYft",
    "outputId": "1e4da2d0-f937-4349-c9fe-10cbd09735f2"
   },
   "outputs": [
    {
     "name": "stderr",
     "output_type": "stream",
     "text": [
      "Downloading: \"https://download.pytorch.org/models/resnext101_32x8d-8ba56ff5.pth\" to /root/.cache/torch/checkpoints/resnext101_32x8d-8ba56ff5.pth\n"
     ]
    },
    {
     "data": {
      "application/vnd.jupyter.widget-view+json": {
       "model_id": "058d9869d3b640168c3da34af07f3c73",
       "version_major": 2,
       "version_minor": 0
      },
      "text/plain": [
       "HBox(children=(FloatProgress(value=0.0, max=356082095.0), HTML(value='')))"
      ]
     },
     "metadata": {
      "tags": []
     },
     "output_type": "display_data"
    },
    {
     "name": "stdout",
     "output_type": "stream",
     "text": [
      "\n"
     ]
    }
   ],
   "source": [
    "# Donwload the pretrained model \n",
    "ResNext101_2c= models.resnext101_32x8d(pretrained=True)\n",
    "\n",
    "# disable the parameters of the pre-trained model to be trained\n",
    "for params in ResNext101_2c.parameters():\n",
    "    params.required_grad=False"
   ]
  },
  {
   "cell_type": "code",
   "execution_count": 0,
   "metadata": {
    "colab": {},
    "colab_type": "code",
    "id": "CPqfxJOyr_Rd"
   },
   "outputs": [],
   "source": [
    "# adding three linear layer to the end of the model \n",
    "classifier= nn.Sequential(OrderedDict([\n",
    "    ('0', nn.Linear(2048,1024)),\n",
    "    ('1',nn.ReLU(inplace=True)),\n",
    "    ('2', nn.Dropout(p=0.5)),\n",
    "    ('3', nn.Linear(1024,1024)),\n",
    "    ('4',nn.ReLU(inplace=True)),\n",
    "    ('5', nn.Dropout(p=0.5)),\n",
    "    ('6', nn.Linear(1024,2)),\n",
    "    ('output', nn.LogSoftmax(dim=1))\n",
    "    \n",
    "]))\n",
    "# add the classifier as the fc to the model \n",
    "ResNext101_2c.fc=classifier\n",
    "# make the parameters to learn \n",
    "#In order to retrain the model, define the require grad true for all the parameters in the network.\n",
    "for params in ResNext101_2c.fc.parameters():\n",
    "    params.required_grad=True"
   ]
  },
  {
   "cell_type": "markdown",
   "metadata": {
    "colab_type": "text",
    "id": "IwfQ9qVHB2Rb"
   },
   "source": [
    "### Define the loss and optimization. "
   ]
  },
  {
   "cell_type": "code",
   "execution_count": 5,
   "metadata": {
    "colab": {
     "base_uri": "https://localhost:8080/",
     "height": 1000
    },
    "colab_type": "code",
    "collapsed": true,
    "executionInfo": {
     "elapsed": 10446,
     "status": "ok",
     "timestamp": 1591137841620,
     "user": {
      "displayName": "FAEZEHSADAT SHAHIDI MAN181002",
      "photoUrl": "",
      "userId": "15928786153813768879"
     },
     "user_tz": -480
    },
    "id": "xQhcL-6w3DQg",
    "outputId": "e06243b0-59a3-4e24-fc40-79fa64307201"
   },
   "outputs": [
    {
     "data": {
      "text/plain": [
       "ResNet(\n",
       "  (conv1): Conv2d(3, 64, kernel_size=(7, 7), stride=(2, 2), padding=(3, 3), bias=False)\n",
       "  (bn1): BatchNorm2d(64, eps=1e-05, momentum=0.1, affine=True, track_running_stats=True)\n",
       "  (relu): ReLU(inplace=True)\n",
       "  (maxpool): MaxPool2d(kernel_size=3, stride=2, padding=1, dilation=1, ceil_mode=False)\n",
       "  (layer1): Sequential(\n",
       "    (0): Bottleneck(\n",
       "      (conv1): Conv2d(64, 256, kernel_size=(1, 1), stride=(1, 1), bias=False)\n",
       "      (bn1): BatchNorm2d(256, eps=1e-05, momentum=0.1, affine=True, track_running_stats=True)\n",
       "      (conv2): Conv2d(256, 256, kernel_size=(3, 3), stride=(1, 1), padding=(1, 1), groups=32, bias=False)\n",
       "      (bn2): BatchNorm2d(256, eps=1e-05, momentum=0.1, affine=True, track_running_stats=True)\n",
       "      (conv3): Conv2d(256, 256, kernel_size=(1, 1), stride=(1, 1), bias=False)\n",
       "      (bn3): BatchNorm2d(256, eps=1e-05, momentum=0.1, affine=True, track_running_stats=True)\n",
       "      (relu): ReLU(inplace=True)\n",
       "      (downsample): Sequential(\n",
       "        (0): Conv2d(64, 256, kernel_size=(1, 1), stride=(1, 1), bias=False)\n",
       "        (1): BatchNorm2d(256, eps=1e-05, momentum=0.1, affine=True, track_running_stats=True)\n",
       "      )\n",
       "    )\n",
       "    (1): Bottleneck(\n",
       "      (conv1): Conv2d(256, 256, kernel_size=(1, 1), stride=(1, 1), bias=False)\n",
       "      (bn1): BatchNorm2d(256, eps=1e-05, momentum=0.1, affine=True, track_running_stats=True)\n",
       "      (conv2): Conv2d(256, 256, kernel_size=(3, 3), stride=(1, 1), padding=(1, 1), groups=32, bias=False)\n",
       "      (bn2): BatchNorm2d(256, eps=1e-05, momentum=0.1, affine=True, track_running_stats=True)\n",
       "      (conv3): Conv2d(256, 256, kernel_size=(1, 1), stride=(1, 1), bias=False)\n",
       "      (bn3): BatchNorm2d(256, eps=1e-05, momentum=0.1, affine=True, track_running_stats=True)\n",
       "      (relu): ReLU(inplace=True)\n",
       "    )\n",
       "    (2): Bottleneck(\n",
       "      (conv1): Conv2d(256, 256, kernel_size=(1, 1), stride=(1, 1), bias=False)\n",
       "      (bn1): BatchNorm2d(256, eps=1e-05, momentum=0.1, affine=True, track_running_stats=True)\n",
       "      (conv2): Conv2d(256, 256, kernel_size=(3, 3), stride=(1, 1), padding=(1, 1), groups=32, bias=False)\n",
       "      (bn2): BatchNorm2d(256, eps=1e-05, momentum=0.1, affine=True, track_running_stats=True)\n",
       "      (conv3): Conv2d(256, 256, kernel_size=(1, 1), stride=(1, 1), bias=False)\n",
       "      (bn3): BatchNorm2d(256, eps=1e-05, momentum=0.1, affine=True, track_running_stats=True)\n",
       "      (relu): ReLU(inplace=True)\n",
       "    )\n",
       "  )\n",
       "  (layer2): Sequential(\n",
       "    (0): Bottleneck(\n",
       "      (conv1): Conv2d(256, 512, kernel_size=(1, 1), stride=(1, 1), bias=False)\n",
       "      (bn1): BatchNorm2d(512, eps=1e-05, momentum=0.1, affine=True, track_running_stats=True)\n",
       "      (conv2): Conv2d(512, 512, kernel_size=(3, 3), stride=(2, 2), padding=(1, 1), groups=32, bias=False)\n",
       "      (bn2): BatchNorm2d(512, eps=1e-05, momentum=0.1, affine=True, track_running_stats=True)\n",
       "      (conv3): Conv2d(512, 512, kernel_size=(1, 1), stride=(1, 1), bias=False)\n",
       "      (bn3): BatchNorm2d(512, eps=1e-05, momentum=0.1, affine=True, track_running_stats=True)\n",
       "      (relu): ReLU(inplace=True)\n",
       "      (downsample): Sequential(\n",
       "        (0): Conv2d(256, 512, kernel_size=(1, 1), stride=(2, 2), bias=False)\n",
       "        (1): BatchNorm2d(512, eps=1e-05, momentum=0.1, affine=True, track_running_stats=True)\n",
       "      )\n",
       "    )\n",
       "    (1): Bottleneck(\n",
       "      (conv1): Conv2d(512, 512, kernel_size=(1, 1), stride=(1, 1), bias=False)\n",
       "      (bn1): BatchNorm2d(512, eps=1e-05, momentum=0.1, affine=True, track_running_stats=True)\n",
       "      (conv2): Conv2d(512, 512, kernel_size=(3, 3), stride=(1, 1), padding=(1, 1), groups=32, bias=False)\n",
       "      (bn2): BatchNorm2d(512, eps=1e-05, momentum=0.1, affine=True, track_running_stats=True)\n",
       "      (conv3): Conv2d(512, 512, kernel_size=(1, 1), stride=(1, 1), bias=False)\n",
       "      (bn3): BatchNorm2d(512, eps=1e-05, momentum=0.1, affine=True, track_running_stats=True)\n",
       "      (relu): ReLU(inplace=True)\n",
       "    )\n",
       "    (2): Bottleneck(\n",
       "      (conv1): Conv2d(512, 512, kernel_size=(1, 1), stride=(1, 1), bias=False)\n",
       "      (bn1): BatchNorm2d(512, eps=1e-05, momentum=0.1, affine=True, track_running_stats=True)\n",
       "      (conv2): Conv2d(512, 512, kernel_size=(3, 3), stride=(1, 1), padding=(1, 1), groups=32, bias=False)\n",
       "      (bn2): BatchNorm2d(512, eps=1e-05, momentum=0.1, affine=True, track_running_stats=True)\n",
       "      (conv3): Conv2d(512, 512, kernel_size=(1, 1), stride=(1, 1), bias=False)\n",
       "      (bn3): BatchNorm2d(512, eps=1e-05, momentum=0.1, affine=True, track_running_stats=True)\n",
       "      (relu): ReLU(inplace=True)\n",
       "    )\n",
       "    (3): Bottleneck(\n",
       "      (conv1): Conv2d(512, 512, kernel_size=(1, 1), stride=(1, 1), bias=False)\n",
       "      (bn1): BatchNorm2d(512, eps=1e-05, momentum=0.1, affine=True, track_running_stats=True)\n",
       "      (conv2): Conv2d(512, 512, kernel_size=(3, 3), stride=(1, 1), padding=(1, 1), groups=32, bias=False)\n",
       "      (bn2): BatchNorm2d(512, eps=1e-05, momentum=0.1, affine=True, track_running_stats=True)\n",
       "      (conv3): Conv2d(512, 512, kernel_size=(1, 1), stride=(1, 1), bias=False)\n",
       "      (bn3): BatchNorm2d(512, eps=1e-05, momentum=0.1, affine=True, track_running_stats=True)\n",
       "      (relu): ReLU(inplace=True)\n",
       "    )\n",
       "  )\n",
       "  (layer3): Sequential(\n",
       "    (0): Bottleneck(\n",
       "      (conv1): Conv2d(512, 1024, kernel_size=(1, 1), stride=(1, 1), bias=False)\n",
       "      (bn1): BatchNorm2d(1024, eps=1e-05, momentum=0.1, affine=True, track_running_stats=True)\n",
       "      (conv2): Conv2d(1024, 1024, kernel_size=(3, 3), stride=(2, 2), padding=(1, 1), groups=32, bias=False)\n",
       "      (bn2): BatchNorm2d(1024, eps=1e-05, momentum=0.1, affine=True, track_running_stats=True)\n",
       "      (conv3): Conv2d(1024, 1024, kernel_size=(1, 1), stride=(1, 1), bias=False)\n",
       "      (bn3): BatchNorm2d(1024, eps=1e-05, momentum=0.1, affine=True, track_running_stats=True)\n",
       "      (relu): ReLU(inplace=True)\n",
       "      (downsample): Sequential(\n",
       "        (0): Conv2d(512, 1024, kernel_size=(1, 1), stride=(2, 2), bias=False)\n",
       "        (1): BatchNorm2d(1024, eps=1e-05, momentum=0.1, affine=True, track_running_stats=True)\n",
       "      )\n",
       "    )\n",
       "    (1): Bottleneck(\n",
       "      (conv1): Conv2d(1024, 1024, kernel_size=(1, 1), stride=(1, 1), bias=False)\n",
       "      (bn1): BatchNorm2d(1024, eps=1e-05, momentum=0.1, affine=True, track_running_stats=True)\n",
       "      (conv2): Conv2d(1024, 1024, kernel_size=(3, 3), stride=(1, 1), padding=(1, 1), groups=32, bias=False)\n",
       "      (bn2): BatchNorm2d(1024, eps=1e-05, momentum=0.1, affine=True, track_running_stats=True)\n",
       "      (conv3): Conv2d(1024, 1024, kernel_size=(1, 1), stride=(1, 1), bias=False)\n",
       "      (bn3): BatchNorm2d(1024, eps=1e-05, momentum=0.1, affine=True, track_running_stats=True)\n",
       "      (relu): ReLU(inplace=True)\n",
       "    )\n",
       "    (2): Bottleneck(\n",
       "      (conv1): Conv2d(1024, 1024, kernel_size=(1, 1), stride=(1, 1), bias=False)\n",
       "      (bn1): BatchNorm2d(1024, eps=1e-05, momentum=0.1, affine=True, track_running_stats=True)\n",
       "      (conv2): Conv2d(1024, 1024, kernel_size=(3, 3), stride=(1, 1), padding=(1, 1), groups=32, bias=False)\n",
       "      (bn2): BatchNorm2d(1024, eps=1e-05, momentum=0.1, affine=True, track_running_stats=True)\n",
       "      (conv3): Conv2d(1024, 1024, kernel_size=(1, 1), stride=(1, 1), bias=False)\n",
       "      (bn3): BatchNorm2d(1024, eps=1e-05, momentum=0.1, affine=True, track_running_stats=True)\n",
       "      (relu): ReLU(inplace=True)\n",
       "    )\n",
       "    (3): Bottleneck(\n",
       "      (conv1): Conv2d(1024, 1024, kernel_size=(1, 1), stride=(1, 1), bias=False)\n",
       "      (bn1): BatchNorm2d(1024, eps=1e-05, momentum=0.1, affine=True, track_running_stats=True)\n",
       "      (conv2): Conv2d(1024, 1024, kernel_size=(3, 3), stride=(1, 1), padding=(1, 1), groups=32, bias=False)\n",
       "      (bn2): BatchNorm2d(1024, eps=1e-05, momentum=0.1, affine=True, track_running_stats=True)\n",
       "      (conv3): Conv2d(1024, 1024, kernel_size=(1, 1), stride=(1, 1), bias=False)\n",
       "      (bn3): BatchNorm2d(1024, eps=1e-05, momentum=0.1, affine=True, track_running_stats=True)\n",
       "      (relu): ReLU(inplace=True)\n",
       "    )\n",
       "    (4): Bottleneck(\n",
       "      (conv1): Conv2d(1024, 1024, kernel_size=(1, 1), stride=(1, 1), bias=False)\n",
       "      (bn1): BatchNorm2d(1024, eps=1e-05, momentum=0.1, affine=True, track_running_stats=True)\n",
       "      (conv2): Conv2d(1024, 1024, kernel_size=(3, 3), stride=(1, 1), padding=(1, 1), groups=32, bias=False)\n",
       "      (bn2): BatchNorm2d(1024, eps=1e-05, momentum=0.1, affine=True, track_running_stats=True)\n",
       "      (conv3): Conv2d(1024, 1024, kernel_size=(1, 1), stride=(1, 1), bias=False)\n",
       "      (bn3): BatchNorm2d(1024, eps=1e-05, momentum=0.1, affine=True, track_running_stats=True)\n",
       "      (relu): ReLU(inplace=True)\n",
       "    )\n",
       "    (5): Bottleneck(\n",
       "      (conv1): Conv2d(1024, 1024, kernel_size=(1, 1), stride=(1, 1), bias=False)\n",
       "      (bn1): BatchNorm2d(1024, eps=1e-05, momentum=0.1, affine=True, track_running_stats=True)\n",
       "      (conv2): Conv2d(1024, 1024, kernel_size=(3, 3), stride=(1, 1), padding=(1, 1), groups=32, bias=False)\n",
       "      (bn2): BatchNorm2d(1024, eps=1e-05, momentum=0.1, affine=True, track_running_stats=True)\n",
       "      (conv3): Conv2d(1024, 1024, kernel_size=(1, 1), stride=(1, 1), bias=False)\n",
       "      (bn3): BatchNorm2d(1024, eps=1e-05, momentum=0.1, affine=True, track_running_stats=True)\n",
       "      (relu): ReLU(inplace=True)\n",
       "    )\n",
       "    (6): Bottleneck(\n",
       "      (conv1): Conv2d(1024, 1024, kernel_size=(1, 1), stride=(1, 1), bias=False)\n",
       "      (bn1): BatchNorm2d(1024, eps=1e-05, momentum=0.1, affine=True, track_running_stats=True)\n",
       "      (conv2): Conv2d(1024, 1024, kernel_size=(3, 3), stride=(1, 1), padding=(1, 1), groups=32, bias=False)\n",
       "      (bn2): BatchNorm2d(1024, eps=1e-05, momentum=0.1, affine=True, track_running_stats=True)\n",
       "      (conv3): Conv2d(1024, 1024, kernel_size=(1, 1), stride=(1, 1), bias=False)\n",
       "      (bn3): BatchNorm2d(1024, eps=1e-05, momentum=0.1, affine=True, track_running_stats=True)\n",
       "      (relu): ReLU(inplace=True)\n",
       "    )\n",
       "    (7): Bottleneck(\n",
       "      (conv1): Conv2d(1024, 1024, kernel_size=(1, 1), stride=(1, 1), bias=False)\n",
       "      (bn1): BatchNorm2d(1024, eps=1e-05, momentum=0.1, affine=True, track_running_stats=True)\n",
       "      (conv2): Conv2d(1024, 1024, kernel_size=(3, 3), stride=(1, 1), padding=(1, 1), groups=32, bias=False)\n",
       "      (bn2): BatchNorm2d(1024, eps=1e-05, momentum=0.1, affine=True, track_running_stats=True)\n",
       "      (conv3): Conv2d(1024, 1024, kernel_size=(1, 1), stride=(1, 1), bias=False)\n",
       "      (bn3): BatchNorm2d(1024, eps=1e-05, momentum=0.1, affine=True, track_running_stats=True)\n",
       "      (relu): ReLU(inplace=True)\n",
       "    )\n",
       "    (8): Bottleneck(\n",
       "      (conv1): Conv2d(1024, 1024, kernel_size=(1, 1), stride=(1, 1), bias=False)\n",
       "      (bn1): BatchNorm2d(1024, eps=1e-05, momentum=0.1, affine=True, track_running_stats=True)\n",
       "      (conv2): Conv2d(1024, 1024, kernel_size=(3, 3), stride=(1, 1), padding=(1, 1), groups=32, bias=False)\n",
       "      (bn2): BatchNorm2d(1024, eps=1e-05, momentum=0.1, affine=True, track_running_stats=True)\n",
       "      (conv3): Conv2d(1024, 1024, kernel_size=(1, 1), stride=(1, 1), bias=False)\n",
       "      (bn3): BatchNorm2d(1024, eps=1e-05, momentum=0.1, affine=True, track_running_stats=True)\n",
       "      (relu): ReLU(inplace=True)\n",
       "    )\n",
       "    (9): Bottleneck(\n",
       "      (conv1): Conv2d(1024, 1024, kernel_size=(1, 1), stride=(1, 1), bias=False)\n",
       "      (bn1): BatchNorm2d(1024, eps=1e-05, momentum=0.1, affine=True, track_running_stats=True)\n",
       "      (conv2): Conv2d(1024, 1024, kernel_size=(3, 3), stride=(1, 1), padding=(1, 1), groups=32, bias=False)\n",
       "      (bn2): BatchNorm2d(1024, eps=1e-05, momentum=0.1, affine=True, track_running_stats=True)\n",
       "      (conv3): Conv2d(1024, 1024, kernel_size=(1, 1), stride=(1, 1), bias=False)\n",
       "      (bn3): BatchNorm2d(1024, eps=1e-05, momentum=0.1, affine=True, track_running_stats=True)\n",
       "      (relu): ReLU(inplace=True)\n",
       "    )\n",
       "    (10): Bottleneck(\n",
       "      (conv1): Conv2d(1024, 1024, kernel_size=(1, 1), stride=(1, 1), bias=False)\n",
       "      (bn1): BatchNorm2d(1024, eps=1e-05, momentum=0.1, affine=True, track_running_stats=True)\n",
       "      (conv2): Conv2d(1024, 1024, kernel_size=(3, 3), stride=(1, 1), padding=(1, 1), groups=32, bias=False)\n",
       "      (bn2): BatchNorm2d(1024, eps=1e-05, momentum=0.1, affine=True, track_running_stats=True)\n",
       "      (conv3): Conv2d(1024, 1024, kernel_size=(1, 1), stride=(1, 1), bias=False)\n",
       "      (bn3): BatchNorm2d(1024, eps=1e-05, momentum=0.1, affine=True, track_running_stats=True)\n",
       "      (relu): ReLU(inplace=True)\n",
       "    )\n",
       "    (11): Bottleneck(\n",
       "      (conv1): Conv2d(1024, 1024, kernel_size=(1, 1), stride=(1, 1), bias=False)\n",
       "      (bn1): BatchNorm2d(1024, eps=1e-05, momentum=0.1, affine=True, track_running_stats=True)\n",
       "      (conv2): Conv2d(1024, 1024, kernel_size=(3, 3), stride=(1, 1), padding=(1, 1), groups=32, bias=False)\n",
       "      (bn2): BatchNorm2d(1024, eps=1e-05, momentum=0.1, affine=True, track_running_stats=True)\n",
       "      (conv3): Conv2d(1024, 1024, kernel_size=(1, 1), stride=(1, 1), bias=False)\n",
       "      (bn3): BatchNorm2d(1024, eps=1e-05, momentum=0.1, affine=True, track_running_stats=True)\n",
       "      (relu): ReLU(inplace=True)\n",
       "    )\n",
       "    (12): Bottleneck(\n",
       "      (conv1): Conv2d(1024, 1024, kernel_size=(1, 1), stride=(1, 1), bias=False)\n",
       "      (bn1): BatchNorm2d(1024, eps=1e-05, momentum=0.1, affine=True, track_running_stats=True)\n",
       "      (conv2): Conv2d(1024, 1024, kernel_size=(3, 3), stride=(1, 1), padding=(1, 1), groups=32, bias=False)\n",
       "      (bn2): BatchNorm2d(1024, eps=1e-05, momentum=0.1, affine=True, track_running_stats=True)\n",
       "      (conv3): Conv2d(1024, 1024, kernel_size=(1, 1), stride=(1, 1), bias=False)\n",
       "      (bn3): BatchNorm2d(1024, eps=1e-05, momentum=0.1, affine=True, track_running_stats=True)\n",
       "      (relu): ReLU(inplace=True)\n",
       "    )\n",
       "    (13): Bottleneck(\n",
       "      (conv1): Conv2d(1024, 1024, kernel_size=(1, 1), stride=(1, 1), bias=False)\n",
       "      (bn1): BatchNorm2d(1024, eps=1e-05, momentum=0.1, affine=True, track_running_stats=True)\n",
       "      (conv2): Conv2d(1024, 1024, kernel_size=(3, 3), stride=(1, 1), padding=(1, 1), groups=32, bias=False)\n",
       "      (bn2): BatchNorm2d(1024, eps=1e-05, momentum=0.1, affine=True, track_running_stats=True)\n",
       "      (conv3): Conv2d(1024, 1024, kernel_size=(1, 1), stride=(1, 1), bias=False)\n",
       "      (bn3): BatchNorm2d(1024, eps=1e-05, momentum=0.1, affine=True, track_running_stats=True)\n",
       "      (relu): ReLU(inplace=True)\n",
       "    )\n",
       "    (14): Bottleneck(\n",
       "      (conv1): Conv2d(1024, 1024, kernel_size=(1, 1), stride=(1, 1), bias=False)\n",
       "      (bn1): BatchNorm2d(1024, eps=1e-05, momentum=0.1, affine=True, track_running_stats=True)\n",
       "      (conv2): Conv2d(1024, 1024, kernel_size=(3, 3), stride=(1, 1), padding=(1, 1), groups=32, bias=False)\n",
       "      (bn2): BatchNorm2d(1024, eps=1e-05, momentum=0.1, affine=True, track_running_stats=True)\n",
       "      (conv3): Conv2d(1024, 1024, kernel_size=(1, 1), stride=(1, 1), bias=False)\n",
       "      (bn3): BatchNorm2d(1024, eps=1e-05, momentum=0.1, affine=True, track_running_stats=True)\n",
       "      (relu): ReLU(inplace=True)\n",
       "    )\n",
       "    (15): Bottleneck(\n",
       "      (conv1): Conv2d(1024, 1024, kernel_size=(1, 1), stride=(1, 1), bias=False)\n",
       "      (bn1): BatchNorm2d(1024, eps=1e-05, momentum=0.1, affine=True, track_running_stats=True)\n",
       "      (conv2): Conv2d(1024, 1024, kernel_size=(3, 3), stride=(1, 1), padding=(1, 1), groups=32, bias=False)\n",
       "      (bn2): BatchNorm2d(1024, eps=1e-05, momentum=0.1, affine=True, track_running_stats=True)\n",
       "      (conv3): Conv2d(1024, 1024, kernel_size=(1, 1), stride=(1, 1), bias=False)\n",
       "      (bn3): BatchNorm2d(1024, eps=1e-05, momentum=0.1, affine=True, track_running_stats=True)\n",
       "      (relu): ReLU(inplace=True)\n",
       "    )\n",
       "    (16): Bottleneck(\n",
       "      (conv1): Conv2d(1024, 1024, kernel_size=(1, 1), stride=(1, 1), bias=False)\n",
       "      (bn1): BatchNorm2d(1024, eps=1e-05, momentum=0.1, affine=True, track_running_stats=True)\n",
       "      (conv2): Conv2d(1024, 1024, kernel_size=(3, 3), stride=(1, 1), padding=(1, 1), groups=32, bias=False)\n",
       "      (bn2): BatchNorm2d(1024, eps=1e-05, momentum=0.1, affine=True, track_running_stats=True)\n",
       "      (conv3): Conv2d(1024, 1024, kernel_size=(1, 1), stride=(1, 1), bias=False)\n",
       "      (bn3): BatchNorm2d(1024, eps=1e-05, momentum=0.1, affine=True, track_running_stats=True)\n",
       "      (relu): ReLU(inplace=True)\n",
       "    )\n",
       "    (17): Bottleneck(\n",
       "      (conv1): Conv2d(1024, 1024, kernel_size=(1, 1), stride=(1, 1), bias=False)\n",
       "      (bn1): BatchNorm2d(1024, eps=1e-05, momentum=0.1, affine=True, track_running_stats=True)\n",
       "      (conv2): Conv2d(1024, 1024, kernel_size=(3, 3), stride=(1, 1), padding=(1, 1), groups=32, bias=False)\n",
       "      (bn2): BatchNorm2d(1024, eps=1e-05, momentum=0.1, affine=True, track_running_stats=True)\n",
       "      (conv3): Conv2d(1024, 1024, kernel_size=(1, 1), stride=(1, 1), bias=False)\n",
       "      (bn3): BatchNorm2d(1024, eps=1e-05, momentum=0.1, affine=True, track_running_stats=True)\n",
       "      (relu): ReLU(inplace=True)\n",
       "    )\n",
       "    (18): Bottleneck(\n",
       "      (conv1): Conv2d(1024, 1024, kernel_size=(1, 1), stride=(1, 1), bias=False)\n",
       "      (bn1): BatchNorm2d(1024, eps=1e-05, momentum=0.1, affine=True, track_running_stats=True)\n",
       "      (conv2): Conv2d(1024, 1024, kernel_size=(3, 3), stride=(1, 1), padding=(1, 1), groups=32, bias=False)\n",
       "      (bn2): BatchNorm2d(1024, eps=1e-05, momentum=0.1, affine=True, track_running_stats=True)\n",
       "      (conv3): Conv2d(1024, 1024, kernel_size=(1, 1), stride=(1, 1), bias=False)\n",
       "      (bn3): BatchNorm2d(1024, eps=1e-05, momentum=0.1, affine=True, track_running_stats=True)\n",
       "      (relu): ReLU(inplace=True)\n",
       "    )\n",
       "    (19): Bottleneck(\n",
       "      (conv1): Conv2d(1024, 1024, kernel_size=(1, 1), stride=(1, 1), bias=False)\n",
       "      (bn1): BatchNorm2d(1024, eps=1e-05, momentum=0.1, affine=True, track_running_stats=True)\n",
       "      (conv2): Conv2d(1024, 1024, kernel_size=(3, 3), stride=(1, 1), padding=(1, 1), groups=32, bias=False)\n",
       "      (bn2): BatchNorm2d(1024, eps=1e-05, momentum=0.1, affine=True, track_running_stats=True)\n",
       "      (conv3): Conv2d(1024, 1024, kernel_size=(1, 1), stride=(1, 1), bias=False)\n",
       "      (bn3): BatchNorm2d(1024, eps=1e-05, momentum=0.1, affine=True, track_running_stats=True)\n",
       "      (relu): ReLU(inplace=True)\n",
       "    )\n",
       "    (20): Bottleneck(\n",
       "      (conv1): Conv2d(1024, 1024, kernel_size=(1, 1), stride=(1, 1), bias=False)\n",
       "      (bn1): BatchNorm2d(1024, eps=1e-05, momentum=0.1, affine=True, track_running_stats=True)\n",
       "      (conv2): Conv2d(1024, 1024, kernel_size=(3, 3), stride=(1, 1), padding=(1, 1), groups=32, bias=False)\n",
       "      (bn2): BatchNorm2d(1024, eps=1e-05, momentum=0.1, affine=True, track_running_stats=True)\n",
       "      (conv3): Conv2d(1024, 1024, kernel_size=(1, 1), stride=(1, 1), bias=False)\n",
       "      (bn3): BatchNorm2d(1024, eps=1e-05, momentum=0.1, affine=True, track_running_stats=True)\n",
       "      (relu): ReLU(inplace=True)\n",
       "    )\n",
       "    (21): Bottleneck(\n",
       "      (conv1): Conv2d(1024, 1024, kernel_size=(1, 1), stride=(1, 1), bias=False)\n",
       "      (bn1): BatchNorm2d(1024, eps=1e-05, momentum=0.1, affine=True, track_running_stats=True)\n",
       "      (conv2): Conv2d(1024, 1024, kernel_size=(3, 3), stride=(1, 1), padding=(1, 1), groups=32, bias=False)\n",
       "      (bn2): BatchNorm2d(1024, eps=1e-05, momentum=0.1, affine=True, track_running_stats=True)\n",
       "      (conv3): Conv2d(1024, 1024, kernel_size=(1, 1), stride=(1, 1), bias=False)\n",
       "      (bn3): BatchNorm2d(1024, eps=1e-05, momentum=0.1, affine=True, track_running_stats=True)\n",
       "      (relu): ReLU(inplace=True)\n",
       "    )\n",
       "    (22): Bottleneck(\n",
       "      (conv1): Conv2d(1024, 1024, kernel_size=(1, 1), stride=(1, 1), bias=False)\n",
       "      (bn1): BatchNorm2d(1024, eps=1e-05, momentum=0.1, affine=True, track_running_stats=True)\n",
       "      (conv2): Conv2d(1024, 1024, kernel_size=(3, 3), stride=(1, 1), padding=(1, 1), groups=32, bias=False)\n",
       "      (bn2): BatchNorm2d(1024, eps=1e-05, momentum=0.1, affine=True, track_running_stats=True)\n",
       "      (conv3): Conv2d(1024, 1024, kernel_size=(1, 1), stride=(1, 1), bias=False)\n",
       "      (bn3): BatchNorm2d(1024, eps=1e-05, momentum=0.1, affine=True, track_running_stats=True)\n",
       "      (relu): ReLU(inplace=True)\n",
       "    )\n",
       "  )\n",
       "  (layer4): Sequential(\n",
       "    (0): Bottleneck(\n",
       "      (conv1): Conv2d(1024, 2048, kernel_size=(1, 1), stride=(1, 1), bias=False)\n",
       "      (bn1): BatchNorm2d(2048, eps=1e-05, momentum=0.1, affine=True, track_running_stats=True)\n",
       "      (conv2): Conv2d(2048, 2048, kernel_size=(3, 3), stride=(2, 2), padding=(1, 1), groups=32, bias=False)\n",
       "      (bn2): BatchNorm2d(2048, eps=1e-05, momentum=0.1, affine=True, track_running_stats=True)\n",
       "      (conv3): Conv2d(2048, 2048, kernel_size=(1, 1), stride=(1, 1), bias=False)\n",
       "      (bn3): BatchNorm2d(2048, eps=1e-05, momentum=0.1, affine=True, track_running_stats=True)\n",
       "      (relu): ReLU(inplace=True)\n",
       "      (downsample): Sequential(\n",
       "        (0): Conv2d(1024, 2048, kernel_size=(1, 1), stride=(2, 2), bias=False)\n",
       "        (1): BatchNorm2d(2048, eps=1e-05, momentum=0.1, affine=True, track_running_stats=True)\n",
       "      )\n",
       "    )\n",
       "    (1): Bottleneck(\n",
       "      (conv1): Conv2d(2048, 2048, kernel_size=(1, 1), stride=(1, 1), bias=False)\n",
       "      (bn1): BatchNorm2d(2048, eps=1e-05, momentum=0.1, affine=True, track_running_stats=True)\n",
       "      (conv2): Conv2d(2048, 2048, kernel_size=(3, 3), stride=(1, 1), padding=(1, 1), groups=32, bias=False)\n",
       "      (bn2): BatchNorm2d(2048, eps=1e-05, momentum=0.1, affine=True, track_running_stats=True)\n",
       "      (conv3): Conv2d(2048, 2048, kernel_size=(1, 1), stride=(1, 1), bias=False)\n",
       "      (bn3): BatchNorm2d(2048, eps=1e-05, momentum=0.1, affine=True, track_running_stats=True)\n",
       "      (relu): ReLU(inplace=True)\n",
       "    )\n",
       "    (2): Bottleneck(\n",
       "      (conv1): Conv2d(2048, 2048, kernel_size=(1, 1), stride=(1, 1), bias=False)\n",
       "      (bn1): BatchNorm2d(2048, eps=1e-05, momentum=0.1, affine=True, track_running_stats=True)\n",
       "      (conv2): Conv2d(2048, 2048, kernel_size=(3, 3), stride=(1, 1), padding=(1, 1), groups=32, bias=False)\n",
       "      (bn2): BatchNorm2d(2048, eps=1e-05, momentum=0.1, affine=True, track_running_stats=True)\n",
       "      (conv3): Conv2d(2048, 2048, kernel_size=(1, 1), stride=(1, 1), bias=False)\n",
       "      (bn3): BatchNorm2d(2048, eps=1e-05, momentum=0.1, affine=True, track_running_stats=True)\n",
       "      (relu): ReLU(inplace=True)\n",
       "    )\n",
       "  )\n",
       "  (avgpool): AdaptiveAvgPool2d(output_size=(1, 1))\n",
       "  (fc): Sequential(\n",
       "    (0): Linear(in_features=2048, out_features=1024, bias=True)\n",
       "    (1): ReLU(inplace=True)\n",
       "    (2): Dropout(p=0.5, inplace=False)\n",
       "    (3): Linear(in_features=1024, out_features=1024, bias=True)\n",
       "    (4): ReLU(inplace=True)\n",
       "    (5): Dropout(p=0.5, inplace=False)\n",
       "    (6): Linear(in_features=1024, out_features=2, bias=True)\n",
       "    (output): LogSoftmax()\n",
       "  )\n",
       ")"
      ]
     },
     "execution_count": 5,
     "metadata": {
      "tags": []
     },
     "output_type": "execute_result"
    }
   ],
   "source": [
    "# using NLLLoss and adam as the loss function and optimization funcion, also learning rate set to 0.0002\n",
    "critirion= nn.NLLLoss()\n",
    "optimizer = optim.Adam(ResNext101_2c.parameters(), lr=0.0002)\n",
    "\n",
    "# transfer the model to the GPU before training if there is any\n",
    "ResNext101_2c.to(device)"
   ]
  },
  {
   "cell_type": "markdown",
   "metadata": {
    "colab_type": "text",
    "id": "UtNfhSBeCUlq"
   },
   "source": [
    "\n",
    "### load the images to the train and test loader, with the ratio of 65/35"
   ]
  },
  {
   "cell_type": "code",
   "execution_count": 6,
   "metadata": {
    "colab": {
     "base_uri": "https://localhost:8080/",
     "height": 34
    },
    "colab_type": "code",
    "executionInfo": {
     "elapsed": 83504,
     "status": "ok",
     "timestamp": 1591137936942,
     "user": {
      "displayName": "FAEZEHSADAT SHAHIDI MAN181002",
      "photoUrl": "",
      "userId": "15928786153813768879"
     },
     "user_tz": -480
    },
    "id": "a8BWg6-Y3Urt",
    "outputId": "943189d2-0f99-43a2-b8f2-fe13df95d70c"
   },
   "outputs": [
    {
     "name": "stdout",
     "output_type": "stream",
     "text": [
      "7909 ['benign', 'malignant']\n"
     ]
    }
   ],
   "source": [
    "# set the locations \n",
    "dir_two_Classes='BreaKHis_v1/histology_slides/breast_cancer_images/'\n",
    "\n",
    "dir_checkpoints='to_save_checkpoints/'\n",
    "dir_statistics='to_save_statistics/'\n",
    "\n",
    "\n",
    "# split the train and test datasets with the ration of 90/10\n",
    "ratio=0.9\n",
    "# Using the data augmentation techniques\n",
    "train_transform = transforms.Compose([\n",
    "    transforms.Resize((256,256)),\n",
    "    transforms.RandomRotation(45),\n",
    "    transforms.RandomVerticalFlip(p=0.5),\n",
    "    transforms.RandomHorizontalFlip(p=0.5),\n",
    "    transforms.ToTensor(),\n",
    "    transforms.Normalize((0.485, 0.456, 0.406),(0.229, 0.224, 0.225))\n",
    "])\n",
    "\n",
    "# save the datset\n",
    "dataset= datasets.ImageFolder(dir_two_Classes,transform=train_transform)\n",
    "# split the train and test sample based on the len \n",
    "train_sample_len=math.ceil(len(dataset)*ratio)\n",
    "test_sample_len=len(dataset)-train_sample_len\n",
    "\n",
    "# Using random split in the torch to split the images into train and test set\n",
    "trainset,testset=torch.utils.data.random_split(dataset,[train_sample_len,test_sample_len] )\n",
    "\n",
    "# Using dataloader for the train and test set and set the batch size into 32\n",
    "trainloader = torch.utils.data.DataLoader(trainset, batch_size=32, num_workers=4, shuffle=True)\n",
    "testloader =torch.utils.data.DataLoader(testset, batch_size=1, num_workers=4, shuffle=False)\n",
    "\n",
    "# In this work the number of classes are 2\n",
    "classes=trainset.dataset.classes\n",
    "# the number of images and the name of classes\n",
    "print( len(dataset), classes)"
   ]
  },
  {
   "cell_type": "markdown",
   "metadata": {
    "colab_type": "text",
    "id": "3fwNVR8IChX_"
   },
   "source": [
    "### Display an example of image out of all to be confirmed that the trainset is already loaded and Data augmentation has been applied "
   ]
  },
  {
   "cell_type": "code",
   "execution_count": 0,
   "metadata": {
    "colab": {
     "base_uri": "https://localhost:8080/",
     "height": 303
    },
    "colab_type": "code",
    "executionInfo": {
     "elapsed": 9027,
     "status": "ok",
     "timestamp": 1589856845794,
     "user": {
      "displayName": "FAEZEHSADAT SHAHIDI MAN181002",
      "photoUrl": "",
      "userId": "15928786153813768879"
     },
     "user_tz": -480
    },
    "id": "WaOcXU_GCmQ3",
    "outputId": "8ef77f74-38d6-4440-c93e-48eab18464c2"
   },
   "outputs": [
    {
     "name": "stderr",
     "output_type": "stream",
     "text": [
      "Clipping input data to the valid range for imshow with RGB data ([0..1] for floats or [0..255] for integers).\n"
     ]
    },
    {
     "data": {
      "text/plain": [
       "<matplotlib.image.AxesImage at 0x7f399e1eae80>"
      ]
     },
     "execution_count": 7,
     "metadata": {
      "tags": []
     },
     "output_type": "execute_result"
    },
    {
     "data": {
      "image/png": "[encoded data removed]",
      "text/plain": [
       "<Figure size 432x288 with 1 Axes>"
      ]
     },
     "metadata": {
      "needs_background": "light",
      "tags": []
     },
     "output_type": "display_data"
    }
   ],
   "source": [
    "images=iter(testloader).next()\n",
    "type(images)\n",
    "images[0][0].shape\n",
    "img=images[0][0].permute(1,2,0)\n",
    "\n",
    "plt.imshow(img)"
   ]
  },
  {
   "cell_type": "markdown",
   "metadata": {
    "colab_type": "text",
    "id": "rExcZPB4I-oy"
   },
   "source": [
    "## Train the model"
   ]
  },
  {
   "cell_type": "code",
   "execution_count": 7,
   "metadata": {
    "colab": {
     "base_uri": "https://localhost:8080/",
     "height": 1000
    },
    "colab_type": "code",
    "collapsed": true,
    "executionInfo": {
     "elapsed": 29107004,
     "status": "ok",
     "timestamp": 1591167043954,
     "user": {
      "displayName": "FAEZEHSADAT SHAHIDI MAN181002",
      "photoUrl": "",
      "userId": "15928786153813768879"
     },
     "user_tz": -480
    },
    "id": "UVLZprO9Rbck",
    "outputId": "6df817a3-7e40-4b6a-e0f5-9dd6cf64e755"
   },
   "outputs": [
    {
     "name": "stderr",
     "output_type": "stream",
     "text": [
      "[1/100], training_loss: 0.2839, training_accuracy: 0.8810 : 100%|██████████| 223/223 [10:13<00:00,  2.75s/it]\n",
      "test_loss: 0.2524, test_accuracy: 0.8975: 100%|██████████| 790/790 [01:05<00:00, 12.00it/s]\n"
     ]
    },
    {
     "name": "stdout",
     "output_type": "stream",
     "text": [
      "saving the model with min loss of : 0.2524022615031351\n"
     ]
    },
    {
     "name": "stderr",
     "output_type": "stream",
     "text": [
      "[2/100], training_loss: 0.2093, training_accuracy: 0.9215 : 100%|██████████| 223/223 [04:07<00:00,  1.11s/it]\n",
      "test_loss: 0.1991, test_accuracy: 0.9342: 100%|██████████| 790/790 [00:37<00:00, 21.21it/s]\n"
     ]
    },
    {
     "name": "stdout",
     "output_type": "stream",
     "text": [
      "saving the model with min loss of : 0.19910964396180986\n"
     ]
    },
    {
     "name": "stderr",
     "output_type": "stream",
     "text": [
      "[3/100], training_loss: 0.1737, training_accuracy: 0.9355 : 100%|██████████| 223/223 [04:07<00:00,  1.11s/it]\n",
      "test_loss: 0.1348, test_accuracy: 0.9456: 100%|██████████| 790/790 [00:37<00:00, 21.26it/s]\n"
     ]
    },
    {
     "name": "stdout",
     "output_type": "stream",
     "text": [
      "saving the model with min loss of : 0.13475279083734826\n"
     ]
    },
    {
     "name": "stderr",
     "output_type": "stream",
     "text": [
      "[4/100], training_loss: 0.1388, training_accuracy: 0.9452 : 100%|██████████| 223/223 [04:07<00:00,  1.11s/it]\n",
      "test_loss: 0.3532, test_accuracy: 0.8911: 100%|██████████| 790/790 [00:37<00:00, 21.32it/s]\n",
      "[5/100], training_loss: 0.1225, training_accuracy: 0.9560 : 100%|██████████| 223/223 [04:07<00:00,  1.11s/it]\n",
      "test_loss: 0.1138, test_accuracy: 0.9494: 100%|██████████| 790/790 [00:36<00:00, 21.36it/s]\n"
     ]
    },
    {
     "name": "stdout",
     "output_type": "stream",
     "text": [
      "saving the model with min loss of : 0.11384558477733708\n"
     ]
    },
    {
     "name": "stderr",
     "output_type": "stream",
     "text": [
      "[6/100], training_loss: 0.1081, training_accuracy: 0.9592 : 100%|██████████| 223/223 [04:07<00:00,  1.11s/it]\n",
      "test_loss: 0.1357, test_accuracy: 0.9544: 100%|██████████| 790/790 [00:36<00:00, 21.50it/s]\n",
      "[7/100], training_loss: 0.1098, training_accuracy: 0.9585 : 100%|██████████| 223/223 [04:07<00:00,  1.11s/it]\n",
      "test_loss: 0.0775, test_accuracy: 0.9658: 100%|██████████| 790/790 [00:36<00:00, 21.62it/s]\n"
     ]
    },
    {
     "name": "stdout",
     "output_type": "stream",
     "text": [
      "saving the model with min loss of : 0.0774945011621789\n"
     ]
    },
    {
     "name": "stderr",
     "output_type": "stream",
     "text": [
      "[8/100], training_loss: 0.0889, training_accuracy: 0.9671 : 100%|██████████| 223/223 [04:07<00:00,  1.11s/it]\n",
      "test_loss: 0.3079, test_accuracy: 0.8937: 100%|██████████| 790/790 [00:36<00:00, 21.43it/s]\n",
      "[9/100], training_loss: 0.0814, training_accuracy: 0.9697 : 100%|██████████| 223/223 [04:07<00:00,  1.11s/it]\n",
      "test_loss: 0.0952, test_accuracy: 0.9582: 100%|██████████| 790/790 [00:37<00:00, 21.24it/s]\n",
      "[10/100], training_loss: 0.0802, training_accuracy: 0.9735 : 100%|██████████| 223/223 [04:07<00:00,  1.11s/it]\n",
      "test_loss: 0.1531, test_accuracy: 0.9380: 100%|██████████| 790/790 [00:36<00:00, 21.48it/s]\n",
      "[11/100], training_loss: 0.0685, training_accuracy: 0.9749 : 100%|██████████| 223/223 [04:07<00:00,  1.11s/it]\n",
      "test_loss: 0.0814, test_accuracy: 0.9696: 100%|██████████| 790/790 [00:36<00:00, 21.40it/s]\n",
      "[12/100], training_loss: 0.0600, training_accuracy: 0.9767 : 100%|██████████| 223/223 [04:07<00:00,  1.11s/it]\n",
      "test_loss: 0.0512, test_accuracy: 0.9785: 100%|██████████| 790/790 [00:36<00:00, 21.48it/s]\n"
     ]
    },
    {
     "name": "stdout",
     "output_type": "stream",
     "text": [
      "saving the model with min loss of : 0.05124427529075478\n"
     ]
    },
    {
     "name": "stderr",
     "output_type": "stream",
     "text": [
      "[13/100], training_loss: 0.0616, training_accuracy: 0.9781 : 100%|██████████| 223/223 [04:07<00:00,  1.11s/it]\n",
      "test_loss: 0.0746, test_accuracy: 0.9696: 100%|██████████| 790/790 [00:37<00:00, 20.83it/s]\n",
      "[14/100], training_loss: 0.0494, training_accuracy: 0.9836 : 100%|██████████| 223/223 [04:08<00:00,  1.12s/it]\n",
      "test_loss: 0.1256, test_accuracy: 0.9532: 100%|██████████| 790/790 [00:38<00:00, 20.77it/s]\n",
      "[15/100], training_loss: 0.0499, training_accuracy: 0.9822 : 100%|██████████| 223/223 [04:08<00:00,  1.11s/it]\n",
      "test_loss: 0.0545, test_accuracy: 0.9759: 100%|██████████| 790/790 [00:38<00:00, 20.74it/s]\n",
      "[16/100], training_loss: 0.0465, training_accuracy: 0.9851 : 100%|██████████| 223/223 [04:08<00:00,  1.11s/it]\n",
      "test_loss: 0.1141, test_accuracy: 0.9684: 100%|██████████| 790/790 [00:37<00:00, 21.24it/s]\n",
      "[17/100], training_loss: 0.0527, training_accuracy: 0.9807 : 100%|██████████| 223/223 [04:07<00:00,  1.11s/it]\n",
      "test_loss: 0.0593, test_accuracy: 0.9810: 100%|██████████| 790/790 [00:37<00:00, 21.12it/s]\n",
      "[18/100], training_loss: 0.0397, training_accuracy: 0.9865 : 100%|██████████| 223/223 [04:07<00:00,  1.11s/it]\n",
      "test_loss: 0.0759, test_accuracy: 0.9747: 100%|██████████| 790/790 [00:37<00:00, 21.16it/s]\n",
      "[19/100], training_loss: 0.0401, training_accuracy: 0.9851 : 100%|██████████| 223/223 [04:07<00:00,  1.11s/it]\n",
      "test_loss: 0.1005, test_accuracy: 0.9633: 100%|██████████| 790/790 [00:37<00:00, 21.30it/s]\n",
      "[20/100], training_loss: 0.0420, training_accuracy: 0.9864 : 100%|██████████| 223/223 [04:07<00:00,  1.11s/it]\n",
      "test_loss: 0.0749, test_accuracy: 0.9759: 100%|██████████| 790/790 [00:36<00:00, 21.43it/s]\n",
      "[21/100], training_loss: 0.0418, training_accuracy: 0.9858 : 100%|██████████| 223/223 [04:07<00:00,  1.11s/it]\n",
      "test_loss: 0.0481, test_accuracy: 0.9835: 100%|██████████| 790/790 [00:36<00:00, 21.47it/s]\n"
     ]
    },
    {
     "name": "stdout",
     "output_type": "stream",
     "text": [
      "saving the model with min loss of : 0.048098419059680986\n"
     ]
    },
    {
     "name": "stderr",
     "output_type": "stream",
     "text": [
      "[22/100], training_loss: 0.0409, training_accuracy: 0.9849 : 100%|██████████| 223/223 [04:07<00:00,  1.11s/it]\n",
      "test_loss: 0.0909, test_accuracy: 0.9595: 100%|██████████| 790/790 [00:36<00:00, 21.45it/s]\n",
      "[23/100], training_loss: 0.0460, training_accuracy: 0.9840 : 100%|██████████| 223/223 [04:07<00:00,  1.11s/it]\n",
      "test_loss: 0.0717, test_accuracy: 0.9709: 100%|██████████| 790/790 [00:36<00:00, 21.49it/s]\n",
      "[24/100], training_loss: 0.0315, training_accuracy: 0.9893 : 100%|██████████| 223/223 [04:07<00:00,  1.11s/it]\n",
      "test_loss: 0.0750, test_accuracy: 0.9684: 100%|██████████| 790/790 [00:36<00:00, 21.41it/s]\n",
      "[25/100], training_loss: 0.0343, training_accuracy: 0.9864 : 100%|██████████| 223/223 [04:07<00:00,  1.11s/it]\n",
      "test_loss: 0.0759, test_accuracy: 0.9658: 100%|██████████| 790/790 [00:36<00:00, 21.44it/s]\n",
      "[26/100], training_loss: 0.0240, training_accuracy: 0.9907 : 100%|██████████| 223/223 [04:07<00:00,  1.11s/it]\n",
      "test_loss: 0.3329, test_accuracy: 0.9544: 100%|██████████| 790/790 [00:37<00:00, 21.26it/s]\n",
      "[27/100], training_loss: 0.0248, training_accuracy: 0.9898 : 100%|██████████| 223/223 [04:07<00:00,  1.11s/it]\n",
      "test_loss: 0.0418, test_accuracy: 0.9861: 100%|██████████| 790/790 [00:36<00:00, 21.48it/s]\n"
     ]
    },
    {
     "name": "stdout",
     "output_type": "stream",
     "text": [
      "saving the model with min loss of : 0.041771308228939395\n"
     ]
    },
    {
     "name": "stderr",
     "output_type": "stream",
     "text": [
      "[28/100], training_loss: 0.0356, training_accuracy: 0.9891 : 100%|██████████| 223/223 [04:07<00:00,  1.11s/it]\n",
      "test_loss: 0.0454, test_accuracy: 0.9835: 100%|██████████| 790/790 [00:37<00:00, 21.15it/s]\n",
      "[29/100], training_loss: 0.0196, training_accuracy: 0.9938 : 100%|██████████| 223/223 [04:07<00:00,  1.11s/it]\n",
      "test_loss: 0.0710, test_accuracy: 0.9772: 100%|██████████| 790/790 [00:37<00:00, 21.23it/s]\n",
      "[30/100], training_loss: 0.0265, training_accuracy: 0.9915 : 100%|██████████| 223/223 [04:08<00:00,  1.11s/it]\n",
      "test_loss: 0.0814, test_accuracy: 0.9785: 100%|██████████| 790/790 [00:38<00:00, 20.34it/s]\n",
      "[31/100], training_loss: 0.0211, training_accuracy: 0.9927 : 100%|██████████| 223/223 [04:09<00:00,  1.12s/it]\n",
      "test_loss: 0.0860, test_accuracy: 0.9785: 100%|██████████| 790/790 [00:39<00:00, 19.81it/s]\n",
      "[32/100], training_loss: 0.0221, training_accuracy: 0.9917 : 100%|██████████| 223/223 [04:09<00:00,  1.12s/it]\n",
      "test_loss: 0.0482, test_accuracy: 0.9785: 100%|██████████| 790/790 [00:38<00:00, 20.45it/s]\n",
      "[33/100], training_loss: 0.0276, training_accuracy: 0.9912 : 100%|██████████| 223/223 [04:08<00:00,  1.12s/it]\n",
      "test_loss: 0.0433, test_accuracy: 0.9835: 100%|██████████| 790/790 [00:38<00:00, 20.38it/s]\n",
      "[34/100], training_loss: 0.0295, training_accuracy: 0.9909 : 100%|██████████| 223/223 [04:08<00:00,  1.12s/it]\n",
      "test_loss: 0.0815, test_accuracy: 0.9734: 100%|██████████| 790/790 [00:38<00:00, 20.33it/s]\n",
      "[35/100], training_loss: 0.0361, training_accuracy: 0.9893 : 100%|██████████| 223/223 [04:08<00:00,  1.12s/it]\n",
      "test_loss: 0.0671, test_accuracy: 0.9810: 100%|██████████| 790/790 [00:39<00:00, 20.19it/s]\n",
      "[36/100], training_loss: 0.0292, training_accuracy: 0.9893 : 100%|██████████| 223/223 [04:08<00:00,  1.12s/it]\n",
      "test_loss: 0.0461, test_accuracy: 0.9823: 100%|██████████| 790/790 [00:38<00:00, 20.28it/s]\n",
      "[37/100], training_loss: 0.0343, training_accuracy: 0.9888 : 100%|██████████| 223/223 [04:09<00:00,  1.12s/it]\n",
      "test_loss: 0.0390, test_accuracy: 0.9848: 100%|██████████| 790/790 [00:38<00:00, 20.47it/s]\n"
     ]
    },
    {
     "name": "stdout",
     "output_type": "stream",
     "text": [
      "saving the model with min loss of : 0.03903997947898092\n"
     ]
    },
    {
     "name": "stderr",
     "output_type": "stream",
     "text": [
      "[38/100], training_loss: 0.0229, training_accuracy: 0.9922 : 100%|██████████| 223/223 [04:08<00:00,  1.12s/it]\n",
      "test_loss: 0.0354, test_accuracy: 0.9861: 100%|██████████| 790/790 [00:38<00:00, 20.52it/s]\n"
     ]
    },
    {
     "name": "stdout",
     "output_type": "stream",
     "text": [
      "saving the model with min loss of : 0.03542448825474027\n"
     ]
    },
    {
     "name": "stderr",
     "output_type": "stream",
     "text": [
      "[39/100], training_loss: 0.0249, training_accuracy: 0.9903 : 100%|██████████| 223/223 [04:08<00:00,  1.12s/it]\n",
      "test_loss: 0.0459, test_accuracy: 0.9810: 100%|██████████| 790/790 [00:38<00:00, 20.69it/s]\n",
      "[40/100], training_loss: 0.0185, training_accuracy: 0.9931 : 100%|██████████| 223/223 [04:08<00:00,  1.11s/it]\n",
      "test_loss: 0.0622, test_accuracy: 0.9797: 100%|██████████| 790/790 [00:38<00:00, 20.78it/s]\n",
      "[41/100], training_loss: 0.0230, training_accuracy: 0.9940 : 100%|██████████| 223/223 [04:08<00:00,  1.11s/it]\n",
      "test_loss: 0.0409, test_accuracy: 0.9835: 100%|██████████| 790/790 [00:39<00:00, 19.78it/s]\n",
      "[42/100], training_loss: 0.0159, training_accuracy: 0.9934 : 100%|██████████| 223/223 [04:08<00:00,  1.12s/it]\n",
      "test_loss: 0.0242, test_accuracy: 0.9886: 100%|██████████| 790/790 [00:38<00:00, 20.45it/s]\n"
     ]
    },
    {
     "name": "stdout",
     "output_type": "stream",
     "text": [
      "saving the model with min loss of : 0.024175855932356435\n"
     ]
    },
    {
     "name": "stderr",
     "output_type": "stream",
     "text": [
      "[43/100], training_loss: 0.0208, training_accuracy: 0.9922 : 100%|██████████| 223/223 [04:08<00:00,  1.12s/it]\n",
      "test_loss: 0.0728, test_accuracy: 0.9797: 100%|██████████| 790/790 [00:39<00:00, 20.24it/s]\n",
      "[44/100], training_loss: 0.0257, training_accuracy: 0.9926 : 100%|██████████| 223/223 [04:08<00:00,  1.12s/it]\n",
      "test_loss: 0.0869, test_accuracy: 0.9772: 100%|██████████| 790/790 [00:38<00:00, 20.39it/s]\n",
      "[45/100], training_loss: 0.0231, training_accuracy: 0.9923 : 100%|██████████| 223/223 [04:08<00:00,  1.12s/it]\n",
      "test_loss: 0.0559, test_accuracy: 0.9835: 100%|██████████| 790/790 [00:38<00:00, 20.28it/s]\n",
      "[46/100], training_loss: 0.0223, training_accuracy: 0.9919 : 100%|██████████| 223/223 [04:08<00:00,  1.11s/it]\n",
      "test_loss: 0.0667, test_accuracy: 0.9810: 100%|██████████| 790/790 [00:38<00:00, 20.39it/s]\n",
      "[47/100], training_loss: 0.0304, training_accuracy: 0.9926 : 100%|██████████| 223/223 [04:08<00:00,  1.12s/it]\n",
      "test_loss: 0.0289, test_accuracy: 0.9873: 100%|██████████| 790/790 [00:38<00:00, 20.58it/s]\n",
      "[48/100], training_loss: 0.0209, training_accuracy: 0.9930 : 100%|██████████| 223/223 [04:08<00:00,  1.11s/it]\n",
      "test_loss: 0.0416, test_accuracy: 0.9848: 100%|██████████| 790/790 [00:38<00:00, 20.66it/s]\n",
      "[49/100], training_loss: 0.0156, training_accuracy: 0.9941 : 100%|██████████| 223/223 [04:08<00:00,  1.11s/it]\n",
      "test_loss: 0.0633, test_accuracy: 0.9835: 100%|██████████| 790/790 [00:38<00:00, 20.71it/s]\n",
      "[50/100], training_loss: 0.0212, training_accuracy: 0.9930 : 100%|██████████| 223/223 [04:08<00:00,  1.11s/it]\n",
      "test_loss: 0.0425, test_accuracy: 0.9823: 100%|██████████| 790/790 [00:37<00:00, 20.83it/s]\n",
      "[51/100], training_loss: 0.0204, training_accuracy: 0.9941 : 100%|██████████| 223/223 [04:08<00:00,  1.11s/it]\n",
      "test_loss: 0.0851, test_accuracy: 0.9759: 100%|██████████| 790/790 [00:38<00:00, 20.74it/s]\n",
      "[52/100], training_loss: 0.0187, training_accuracy: 0.9943 : 100%|██████████| 223/223 [04:08<00:00,  1.11s/it]\n",
      "test_loss: 0.0426, test_accuracy: 0.9835: 100%|██████████| 790/790 [00:39<00:00, 20.12it/s]\n",
      "[53/100], training_loss: 0.0118, training_accuracy: 0.9962 : 100%|██████████| 223/223 [04:08<00:00,  1.11s/it]\n",
      "test_loss: 0.0963, test_accuracy: 0.9658: 100%|██████████| 790/790 [00:38<00:00, 20.45it/s]\n",
      "[54/100], training_loss: 0.0177, training_accuracy: 0.9941 : 100%|██████████| 223/223 [04:08<00:00,  1.11s/it]\n",
      "test_loss: 0.0635, test_accuracy: 0.9797: 100%|██████████| 790/790 [00:38<00:00, 20.69it/s]\n",
      "[55/100], training_loss: 0.0171, training_accuracy: 0.9951 : 100%|██████████| 223/223 [04:08<00:00,  1.11s/it]\n",
      "test_loss: 0.0294, test_accuracy: 0.9899: 100%|██████████| 790/790 [00:37<00:00, 20.89it/s]\n",
      "[56/100], training_loss: 0.0160, training_accuracy: 0.9948 : 100%|██████████| 223/223 [04:08<00:00,  1.11s/it]\n",
      "test_loss: 0.0471, test_accuracy: 0.9861: 100%|██████████| 790/790 [00:38<00:00, 20.78it/s]\n",
      "[57/100], training_loss: 0.0225, training_accuracy: 0.9936 : 100%|██████████| 223/223 [04:07<00:00,  1.11s/it]\n",
      "test_loss: 0.0556, test_accuracy: 0.9835: 100%|██████████| 790/790 [00:37<00:00, 20.87it/s]\n",
      "[58/100], training_loss: 0.0241, training_accuracy: 0.9910 : 100%|██████████| 223/223 [04:08<00:00,  1.11s/it]\n",
      "test_loss: 0.1713, test_accuracy: 0.9519: 100%|██████████| 790/790 [00:37<00:00, 21.16it/s]\n",
      "[59/100], training_loss: 0.0188, training_accuracy: 0.9938 : 100%|██████████| 223/223 [04:07<00:00,  1.11s/it]\n",
      "test_loss: 0.0477, test_accuracy: 0.9848: 100%|██████████| 790/790 [00:37<00:00, 21.06it/s]\n",
      "[60/100], training_loss: 0.0148, training_accuracy: 0.9955 : 100%|██████████| 223/223 [04:07<00:00,  1.11s/it]\n",
      "test_loss: 0.1561, test_accuracy: 0.9646: 100%|██████████| 790/790 [00:38<00:00, 20.69it/s]\n",
      "[61/100], training_loss: 0.0182, training_accuracy: 0.9941 : 100%|██████████| 223/223 [04:08<00:00,  1.12s/it]\n",
      "test_loss: 0.0812, test_accuracy: 0.9772: 100%|██████████| 790/790 [00:38<00:00, 20.31it/s]\n",
      "[62/100], training_loss: 0.0138, training_accuracy: 0.9941 : 100%|██████████| 223/223 [04:08<00:00,  1.12s/it]\n",
      "test_loss: 0.0334, test_accuracy: 0.9911: 100%|██████████| 790/790 [00:39<00:00, 20.13it/s]\n",
      "[63/100], training_loss: 0.0125, training_accuracy: 0.9958 : 100%|██████████| 223/223 [04:09<00:00,  1.12s/it]\n",
      "test_loss: 0.0363, test_accuracy: 0.9911: 100%|██████████| 790/790 [00:39<00:00, 19.92it/s]\n",
      "[64/100], training_loss: 0.0226, training_accuracy: 0.9926 : 100%|██████████| 223/223 [04:09<00:00,  1.12s/it]\n",
      "test_loss: 0.0946, test_accuracy: 0.9797: 100%|██████████| 790/790 [00:39<00:00, 19.92it/s]\n",
      "[65/100], training_loss: 0.0148, training_accuracy: 0.9948 : 100%|██████████| 223/223 [04:09<00:00,  1.12s/it]\n",
      "test_loss: 0.0321, test_accuracy: 0.9937: 100%|██████████| 790/790 [00:39<00:00, 19.92it/s]\n",
      "[66/100], training_loss: 0.0064, training_accuracy: 0.9979 : 100%|██████████| 223/223 [04:08<00:00,  1.12s/it]\n",
      "test_loss: 0.0265, test_accuracy: 0.9949: 100%|██████████| 790/790 [00:39<00:00, 19.87it/s]\n",
      "[67/100], training_loss: 0.0159, training_accuracy: 0.9961 : 100%|██████████| 223/223 [04:09<00:00,  1.12s/it]\n",
      "test_loss: 0.0977, test_accuracy: 0.9620: 100%|██████████| 790/790 [00:39<00:00, 19.88it/s]\n",
      "[68/100], training_loss: 0.0158, training_accuracy: 0.9941 : 100%|██████████| 223/223 [04:09<00:00,  1.12s/it]\n",
      "test_loss: 0.0852, test_accuracy: 0.9823: 100%|██████████| 790/790 [00:39<00:00, 19.92it/s]\n",
      "[69/100], training_loss: 0.0103, training_accuracy: 0.9961 : 100%|██████████| 223/223 [04:08<00:00,  1.12s/it]\n",
      "test_loss: 0.0609, test_accuracy: 0.9911: 100%|██████████| 790/790 [00:39<00:00, 19.96it/s]\n",
      "[70/100], training_loss: 0.0183, training_accuracy: 0.9941 : 100%|██████████| 223/223 [04:08<00:00,  1.12s/it]\n",
      "test_loss: 0.0442, test_accuracy: 0.9861: 100%|██████████| 790/790 [00:38<00:00, 20.78it/s]\n",
      "[71/100], training_loss: 0.0131, training_accuracy: 0.9955 : 100%|██████████| 223/223 [04:08<00:00,  1.11s/it]\n",
      "test_loss: 0.0597, test_accuracy: 0.9886: 100%|██████████| 790/790 [00:38<00:00, 20.47it/s]\n",
      "[72/100], training_loss: 0.0102, training_accuracy: 0.9969 : 100%|██████████| 223/223 [04:08<00:00,  1.11s/it]\n",
      "test_loss: 0.0621, test_accuracy: 0.9797: 100%|██████████| 790/790 [00:39<00:00, 20.06it/s]\n",
      "[73/100], training_loss: 0.0143, training_accuracy: 0.9959 : 100%|██████████| 223/223 [04:09<00:00,  1.12s/it]\n",
      "test_loss: 0.1224, test_accuracy: 0.9759: 100%|██████████| 790/790 [00:39<00:00, 20.12it/s]\n",
      "[74/100], training_loss: 0.0102, training_accuracy: 0.9963 : 100%|██████████| 223/223 [04:08<00:00,  1.12s/it]\n",
      "test_loss: 0.0376, test_accuracy: 0.9886: 100%|██████████| 790/790 [00:39<00:00, 20.11it/s]\n",
      "[75/100], training_loss: 0.0254, training_accuracy: 0.9916 : 100%|██████████| 223/223 [04:09<00:00,  1.12s/it]\n",
      "test_loss: 0.0398, test_accuracy: 0.9873: 100%|██████████| 790/790 [00:38<00:00, 20.30it/s]\n",
      "[76/100], training_loss: 0.0128, training_accuracy: 0.9957 : 100%|██████████| 223/223 [04:08<00:00,  1.12s/it]\n",
      "test_loss: 0.0383, test_accuracy: 0.9861: 100%|██████████| 790/790 [00:39<00:00, 20.14it/s]\n",
      "[77/100], training_loss: 0.0115, training_accuracy: 0.9972 : 100%|██████████| 223/223 [04:09<00:00,  1.12s/it]\n",
      "test_loss: 0.1666, test_accuracy: 0.9633: 100%|██████████| 790/790 [00:38<00:00, 20.30it/s]\n",
      "[78/100], training_loss: 0.0182, training_accuracy: 0.9935 : 100%|██████████| 223/223 [04:08<00:00,  1.12s/it]\n",
      "test_loss: 0.0262, test_accuracy: 0.9911: 100%|██████████| 790/790 [00:39<00:00, 20.08it/s]\n",
      "[79/100], training_loss: 0.0162, training_accuracy: 0.9944 : 100%|██████████| 223/223 [04:08<00:00,  1.12s/it]\n",
      "test_loss: 0.0930, test_accuracy: 0.9861: 100%|██████████| 790/790 [00:39<00:00, 20.14it/s]\n",
      "[80/100], training_loss: 0.0116, training_accuracy: 0.9961 : 100%|██████████| 223/223 [04:08<00:00,  1.12s/it]\n",
      "test_loss: 0.0192, test_accuracy: 0.9937: 100%|██████████| 790/790 [00:38<00:00, 20.39it/s]\n"
     ]
    },
    {
     "name": "stdout",
     "output_type": "stream",
     "text": [
      "saving the model with min loss of : 0.01915584338616721\n"
     ]
    },
    {
     "name": "stderr",
     "output_type": "stream",
     "text": [
      "[81/100], training_loss: 0.0094, training_accuracy: 0.9975 : 100%|██████████| 223/223 [04:08<00:00,  1.12s/it]\n",
      "test_loss: 0.0443, test_accuracy: 0.9886: 100%|██████████| 790/790 [00:38<00:00, 20.29it/s]\n",
      "[82/100], training_loss: 0.0241, training_accuracy: 0.9927 : 100%|██████████| 223/223 [04:08<00:00,  1.12s/it]\n",
      "test_loss: 0.0527, test_accuracy: 0.9823: 100%|██████████| 790/790 [00:39<00:00, 20.10it/s]\n",
      "[83/100], training_loss: 0.0110, training_accuracy: 0.9968 : 100%|██████████| 223/223 [04:09<00:00,  1.12s/it]\n",
      "test_loss: 0.0232, test_accuracy: 0.9924: 100%|██████████| 790/790 [00:39<00:00, 20.04it/s]\n",
      "[84/100], training_loss: 0.0138, training_accuracy: 0.9962 : 100%|██████████| 223/223 [04:09<00:00,  1.12s/it]\n",
      "test_loss: 0.0214, test_accuracy: 0.9924: 100%|██████████| 790/790 [00:39<00:00, 20.04it/s]\n",
      "[85/100], training_loss: 0.0106, training_accuracy: 0.9969 : 100%|██████████| 223/223 [04:08<00:00,  1.12s/it]\n",
      "test_loss: 0.0696, test_accuracy: 0.9823: 100%|██████████| 790/790 [00:39<00:00, 19.91it/s]\n",
      "[86/100], training_loss: 0.0130, training_accuracy: 0.9955 : 100%|██████████| 223/223 [04:09<00:00,  1.12s/it]\n",
      "test_loss: 0.0332, test_accuracy: 0.9848: 100%|██████████| 790/790 [00:39<00:00, 19.98it/s]\n",
      "[87/100], training_loss: 0.0144, training_accuracy: 0.9954 : 100%|██████████| 223/223 [04:08<00:00,  1.12s/it]\n",
      "test_loss: 0.0553, test_accuracy: 0.9848: 100%|██████████| 790/790 [00:39<00:00, 19.97it/s]\n",
      "[88/100], training_loss: 0.0097, training_accuracy: 0.9966 : 100%|██████████| 223/223 [04:09<00:00,  1.12s/it]\n",
      "test_loss: 0.0472, test_accuracy: 0.9899: 100%|██████████| 790/790 [00:39<00:00, 19.97it/s]\n",
      "[89/100], training_loss: 0.0136, training_accuracy: 0.9952 : 100%|██████████| 223/223 [04:09<00:00,  1.12s/it]\n",
      "test_loss: 0.0242, test_accuracy: 0.9949: 100%|██████████| 790/790 [00:39<00:00, 20.09it/s]\n",
      "[90/100], training_loss: 0.0131, training_accuracy: 0.9951 : 100%|██████████| 223/223 [04:08<00:00,  1.12s/it]\n",
      "test_loss: 0.0303, test_accuracy: 0.9937: 100%|██████████| 790/790 [00:40<00:00, 19.54it/s]\n",
      "[91/100], training_loss: 0.0249, training_accuracy: 0.9917 : 100%|██████████| 223/223 [04:09<00:00,  1.12s/it]\n",
      "test_loss: 0.0456, test_accuracy: 0.9873: 100%|██████████| 790/790 [00:38<00:00, 20.28it/s]\n",
      "[92/100], training_loss: 0.0130, training_accuracy: 0.9965 : 100%|██████████| 223/223 [04:08<00:00,  1.12s/it]\n",
      "test_loss: 0.0361, test_accuracy: 0.9924: 100%|██████████| 790/790 [00:39<00:00, 20.06it/s]\n",
      "[93/100], training_loss: 0.0086, training_accuracy: 0.9980 : 100%|██████████| 223/223 [04:09<00:00,  1.12s/it]\n",
      "test_loss: 0.0284, test_accuracy: 0.9924: 100%|██████████| 790/790 [00:39<00:00, 20.00it/s]\n",
      "[94/100], training_loss: 0.0122, training_accuracy: 0.9955 : 100%|██████████| 223/223 [04:09<00:00,  1.12s/it]\n",
      "test_loss: 0.0633, test_accuracy: 0.9810: 100%|██████████| 790/790 [00:40<00:00, 19.63it/s]\n",
      "[95/100], training_loss: 0.0140, training_accuracy: 0.9969 : 100%|██████████| 223/223 [04:08<00:00,  1.11s/it]\n",
      "test_loss: 0.0214, test_accuracy: 0.9937: 100%|██████████| 790/790 [00:38<00:00, 20.52it/s]\n",
      "[96/100], training_loss: 0.0151, training_accuracy: 0.9947 : 100%|██████████| 223/223 [04:08<00:00,  1.12s/it]\n",
      "test_loss: 0.0310, test_accuracy: 0.9886: 100%|██████████| 790/790 [00:39<00:00, 20.11it/s]\n",
      "[97/100], training_loss: 0.0083, training_accuracy: 0.9972 : 100%|██████████| 223/223 [04:08<00:00,  1.12s/it]\n",
      "test_loss: 0.0942, test_accuracy: 0.9823: 100%|██████████| 790/790 [00:39<00:00, 19.94it/s]\n",
      "[98/100], training_loss: 0.0179, training_accuracy: 0.9937 : 100%|██████████| 223/223 [04:09<00:00,  1.12s/it]\n",
      "test_loss: 0.0315, test_accuracy: 0.9861: 100%|██████████| 790/790 [00:39<00:00, 20.09it/s]\n",
      "[99/100], training_loss: 0.0071, training_accuracy: 0.9975 : 100%|██████████| 223/223 [04:11<00:00,  1.13s/it]\n",
      "test_loss: 0.0610, test_accuracy: 0.9861: 100%|██████████| 790/790 [00:38<00:00, 20.51it/s]\n",
      "[100/100], training_loss: 0.0110, training_accuracy: 0.9966 : 100%|██████████| 223/223 [04:10<00:00,  1.12s/it]\n",
      "test_loss: 0.0298, test_accuracy: 0.9911: 100%|██████████| 790/790 [00:38<00:00, 20.73it/s]\n"
     ]
    }
   ],
   "source": [
    "epochs = 100\n",
    "steps= 0\n",
    "print_every=100\n",
    "running_loss=0\n",
    "min_val_loss = np.Inf\n",
    "results={'epoch':[],'training_loss':[], 'test_loss':[], 'test_accuracy':[], 'training_accuracy':[]}\n",
    "\n",
    "for e in range(1,epochs+1):\n",
    "  running_results={'loss':0, 'accuracy':0,'minutes':0,'steps':0}\n",
    "  ResNext101_2c.train()\n",
    "  train_bar=tqdm(trainloader)\n",
    "  running_loss=0\n",
    "\n",
    "  for images, labels in train_bar:\n",
    "      start_time= evaltime.time()\n",
    "      images, labels = images.to(device), labels.to(device)\n",
    "      running_results['steps']+=1\n",
    "      optimizer.zero_grad()\n",
    "      output=ResNext101_2c.forward(images)\n",
    "      ps=torch.exp(output)\n",
    "      loss=critirion(output,labels)\n",
    "      loss.backward()\n",
    "      optimizer.step()\n",
    "      # running_loss+=loss.item()\n",
    "      running_results['loss']+=loss.item()\n",
    "      equality = (ps.max(dim=1)[1]==labels.data)\n",
    "      running_results['accuracy']+=equality.type(torch.FloatTensor).mean()\n",
    "      train_bar.set_description(desc='[%d/%d], training_loss: %.4f, training_accuracy: %.4f '% \n",
    "                                (e,epochs, running_results['loss']/running_results['steps'],running_results['accuracy']/running_results['steps']))\n",
    "  test_bar=tqdm(testloader, desc='Validation Results:')\n",
    "  ResNext101_2c.eval()\n",
    "  valing_results={'test_loss':0, 'test_accuracy':0, 'min_loss':0, 'steps':0}\n",
    "  with torch.no_grad():\n",
    "    for images, labels in test_bar: \n",
    "      valing_results['steps']+=1\n",
    "      images, labels = images.to(device), labels.to(device)\n",
    "      output=ResNext101_2c.forward(images)\n",
    "      loss=critirion(output,labels)\n",
    "      valing_results['test_loss']+= loss.item()\n",
    "      ps=torch.exp(output)\n",
    "      equality = (ps.max(dim=1)[1]==labels.data)\n",
    "      valing_results['test_accuracy']+=equality.type(torch.FloatTensor).mean()\n",
    "      test_bar.set_description(desc='test_loss: %.4f, test_accuracy: %.4f'%\n",
    "                               (valing_results['test_loss']/valing_results['steps'], valing_results['test_accuracy']/valing_results['steps'] ))\n",
    "    if (valing_results['test_loss']/valing_results['steps']< min_val_loss):\n",
    "            min_val_loss=valing_results['test_loss']/valing_results['steps']\n",
    "            print('saving the model with min loss of : '+ str(min_val_loss))\n",
    "            torch.save(ResNext101_2c.state_dict(),dir_checkpoints+\"dataaug_checkpoint_resnext101_32x8d_2c.pth\")\n",
    "\n",
    "     \n",
    "  results['training_loss'].append(running_results['loss']/running_results['steps'])\n",
    "  results['test_loss'].append(valing_results['test_loss']/valing_results['steps'])\n",
    "  results['test_accuracy'].append(valing_results['test_accuracy'].item()/valing_results['steps'])\n",
    "  results['training_accuracy'].append(running_results['accuracy'].item()/running_results['steps'])\n",
    "  \n",
    "  data_frame=pd.DataFrame(\n",
    "        data={\n",
    "            # 'Epoch':1,\n",
    "            'Training_Loss':results['training_loss'],\n",
    "            'Test_Loss': results['test_loss'],\n",
    "            'Test_Accuracy':results['test_accuracy'],\n",
    "            'Training_Accuracy':results['training_accuracy'],\n",
    "           \n",
    "                 },\n",
    "        index=range(1,e+1)\n",
    "    )\n",
    "  data_frame.to_csv(dir_statistics+ 'dataaug_Resnext101_32x8d_eval_results.csv',  index_label=\"Epoch\")    \n"
   ]
  },
  {
   "cell_type": "code",
   "execution_count": 0,
   "metadata": {
    "colab": {},
    "colab_type": "code",
    "id": "e88zcuxCSBFT"
   },
   "outputs": [],
   "source": []
  }
 ],
 "metadata": {
  "accelerator": "GPU",
  "colab": {
   "collapsed_sections": [],
   "name": "1-ResNext(32x4d)_Breakhis_Classification.ipynb",
   "provenance": []
  },
  "kernelspec": {
   "display_name": "Python 3 (ipykernel)",
   "language": "python",
   "name": "python3"
  },
  "language_info": {
   "codemirror_mode": {
    "name": "ipython",
    "version": 3
   },
   "file_extension": ".py",
   "mimetype": "text/x-python",
   "name": "python",
   "nbconvert_exporter": "python",
   "pygments_lexer": "ipython3",
   "version": "3.8.8"
  },
  "widgets": {
   "application/vnd.jupyter.widget-state+json": {
    "05504560325e43fb873fb8da2a2fd072": {
     "model_module": "@jupyter-widgets/base",
     "model_name": "LayoutModel",
     "state": {
      "_model_module": "@jupyter-widgets/base",
      "_model_module_version": "1.2.0",
      "_model_name": "LayoutModel",
      "_view_count": null,
      "_view_module": "@jupyter-widgets/base",
      "_view_module_version": "1.2.0",
      "_view_name": "LayoutView",
      "align_content": null,
      "align_items": null,
      "align_self": null,
      "border": null,
      "bottom": null,
      "display": null,
      "flex": null,
      "flex_flow": null,
      "grid_area": null,
      "grid_auto_columns": null,
      "grid_auto_flow": null,
      "grid_auto_rows": null,
      "grid_column": null,
      "grid_gap": null,
      "grid_row": null,
      "grid_template_areas": null,
      "grid_template_columns": null,
      "grid_template_rows": null,
      "height": null,
      "justify_content": null,
      "justify_items": null,
      "left": null,
      "margin": null,
      "max_height": null,
      "max_width": null,
      "min_height": null,
      "min_width": null,
      "object_fit": null,
      "object_position": null,
      "order": null,
      "overflow": null,
      "overflow_x": null,
      "overflow_y": null,
      "padding": null,
      "right": null,
      "top": null,
      "visibility": null,
      "width": null
     }
    },
    "058d9869d3b640168c3da34af07f3c73": {
     "model_module": "@jupyter-widgets/controls",
     "model_name": "HBoxModel",
     "state": {
      "_dom_classes": [],
      "_model_module": "@jupyter-widgets/controls",
      "_model_module_version": "1.5.0",
      "_model_name": "HBoxModel",
      "_view_count": null,
      "_view_module": "@jupyter-widgets/controls",
      "_view_module_version": "1.5.0",
      "_view_name": "HBoxView",
      "box_style": "",
      "children": [
       "IPY_MODEL_b9853be2a52e40fda70759f41b1991b0",
       "IPY_MODEL_f2ec8d7cdadf4d07b094f242468ea5fa"
      ],
      "layout": "IPY_MODEL_633b8ac5056648399775b189b3aa0bfb"
     }
    },
    "633b8ac5056648399775b189b3aa0bfb": {
     "model_module": "@jupyter-widgets/base",
     "model_name": "LayoutModel",
     "state": {
      "_model_module": "@jupyter-widgets/base",
      "_model_module_version": "1.2.0",
      "_model_name": "LayoutModel",
      "_view_count": null,
      "_view_module": "@jupyter-widgets/base",
      "_view_module_version": "1.2.0",
      "_view_name": "LayoutView",
      "align_content": null,
      "align_items": null,
      "align_self": null,
      "border": null,
      "bottom": null,
      "display": null,
      "flex": null,
      "flex_flow": null,
      "grid_area": null,
      "grid_auto_columns": null,
      "grid_auto_flow": null,
      "grid_auto_rows": null,
      "grid_column": null,
      "grid_gap": null,
      "grid_row": null,
      "grid_template_areas": null,
      "grid_template_columns": null,
      "grid_template_rows": null,
      "height": null,
      "justify_content": null,
      "justify_items": null,
      "left": null,
      "margin": null,
      "max_height": null,
      "max_width": null,
      "min_height": null,
      "min_width": null,
      "object_fit": null,
      "object_position": null,
      "order": null,
      "overflow": null,
      "overflow_x": null,
      "overflow_y": null,
      "padding": null,
      "right": null,
      "top": null,
      "visibility": null,
      "width": null
     }
    },
    "92bd910edc224c04921f92fa574761b4": {
     "model_module": "@jupyter-widgets/controls",
     "model_name": "ProgressStyleModel",
     "state": {
      "_model_module": "@jupyter-widgets/controls",
      "_model_module_version": "1.5.0",
      "_model_name": "ProgressStyleModel",
      "_view_count": null,
      "_view_module": "@jupyter-widgets/base",
      "_view_module_version": "1.2.0",
      "_view_name": "StyleView",
      "bar_color": null,
      "description_width": "initial"
     }
    },
    "b6ee1314d2e94d339fb46e8da539bba1": {
     "model_module": "@jupyter-widgets/controls",
     "model_name": "DescriptionStyleModel",
     "state": {
      "_model_module": "@jupyter-widgets/controls",
      "_model_module_version": "1.5.0",
      "_model_name": "DescriptionStyleModel",
      "_view_count": null,
      "_view_module": "@jupyter-widgets/base",
      "_view_module_version": "1.2.0",
      "_view_name": "StyleView",
      "description_width": ""
     }
    },
    "b9853be2a52e40fda70759f41b1991b0": {
     "model_module": "@jupyter-widgets/controls",
     "model_name": "FloatProgressModel",
     "state": {
      "_dom_classes": [],
      "_model_module": "@jupyter-widgets/controls",
      "_model_module_version": "1.5.0",
      "_model_name": "FloatProgressModel",
      "_view_count": null,
      "_view_module": "@jupyter-widgets/controls",
      "_view_module_version": "1.5.0",
      "_view_name": "ProgressView",
      "bar_style": "success",
      "description": "100%",
      "description_tooltip": null,
      "layout": "IPY_MODEL_bbf4e14a133a448d9aa2343cb1d56dd8",
      "max": 356082095,
      "min": 0,
      "orientation": "horizontal",
      "style": "IPY_MODEL_92bd910edc224c04921f92fa574761b4",
      "value": 356082095
     }
    },
    "bbf4e14a133a448d9aa2343cb1d56dd8": {
     "model_module": "@jupyter-widgets/base",
     "model_name": "LayoutModel",
     "state": {
      "_model_module": "@jupyter-widgets/base",
      "_model_module_version": "1.2.0",
      "_model_name": "LayoutModel",
      "_view_count": null,
      "_view_module": "@jupyter-widgets/base",
      "_view_module_version": "1.2.0",
      "_view_name": "LayoutView",
      "align_content": null,
      "align_items": null,
      "align_self": null,
      "border": null,
      "bottom": null,
      "display": null,
      "flex": null,
      "flex_flow": null,
      "grid_area": null,
      "grid_auto_columns": null,
      "grid_auto_flow": null,
      "grid_auto_rows": null,
      "grid_column": null,
      "grid_gap": null,
      "grid_row": null,
      "grid_template_areas": null,
      "grid_template_columns": null,
      "grid_template_rows": null,
      "height": null,
      "justify_content": null,
      "justify_items": null,
      "left": null,
      "margin": null,
      "max_height": null,
      "max_width": null,
      "min_height": null,
      "min_width": null,
      "object_fit": null,
      "object_position": null,
      "order": null,
      "overflow": null,
      "overflow_x": null,
      "overflow_y": null,
      "padding": null,
      "right": null,
      "top": null,
      "visibility": null,
      "width": null
     }
    },
    "f2ec8d7cdadf4d07b094f242468ea5fa": {
     "model_module": "@jupyter-widgets/controls",
     "model_name": "HTMLModel",
     "state": {
      "_dom_classes": [],
      "_model_module": "@jupyter-widgets/controls",
      "_model_module_version": "1.5.0",
      "_model_name": "HTMLModel",
      "_view_count": null,
      "_view_module": "@jupyter-widgets/controls",
      "_view_module_version": "1.5.0",
      "_view_name": "HTMLView",
      "description": "",
      "description_tooltip": null,
      "layout": "IPY_MODEL_05504560325e43fb873fb8da2a2fd072",
      "placeholder": "​",
      "style": "IPY_MODEL_b6ee1314d2e94d339fb46e8da539bba1",
      "value": " 340M/340M [00:06&lt;00:00, 56.7MB/s]"
     }
    }
   }
  }
 },
 "nbformat": 4,
 "nbformat_minor": 1
}
