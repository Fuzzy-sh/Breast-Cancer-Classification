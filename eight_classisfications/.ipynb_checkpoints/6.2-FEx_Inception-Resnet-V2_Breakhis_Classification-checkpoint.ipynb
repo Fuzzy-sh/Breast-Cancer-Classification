{
 "cells": [
  {
   "cell_type": "markdown",
   "metadata": {
    "colab_type": "text",
    "id": "j8d_U6iIAEbQ"
   },
   "source": [
    "### Build and train the Inception_Res_V2 network and retrain it by breast cancer data base"
   ]
  },
  {
   "cell_type": "code",
   "execution_count": null,
   "metadata": {
    "colab": {
     "base_uri": "https://localhost:8080/",
     "height": 123
    },
    "colab_type": "code",
    "executionInfo": {
     "elapsed": 20115,
     "status": "ok",
     "timestamp": 1590848446997,
     "user": {
      "displayName": "FAEZEHSADAT SHAHIDI MAN181002",
      "photoUrl": "",
      "userId": "15928786153813768879"
     },
     "user_tz": -480
    },
    "id": "gnZL28MH2TMQ",
    "outputId": "345025b6-5ebb-40ae-8048-febc4c64018d"
   },
   "outputs": [],
   "source": [
    "from google.colab import drive\n",
    "drive.mount('/content/drive')"
   ]
  },
  {
   "cell_type": "markdown",
   "metadata": {
    "colab_type": "text",
    "id": "2ZTjlVNQAaty"
   },
   "source": [
    "### Import the liberaries"
   ]
  },
  {
   "cell_type": "code",
   "execution_count": null,
   "metadata": {
    "colab": {
     "base_uri": "https://localhost:8080/",
     "height": 344
    },
    "colab_type": "code",
    "executionInfo": {
     "elapsed": 11991,
     "status": "ok",
     "timestamp": 1590848463699,
     "user": {
      "displayName": "FAEZEHSADAT SHAHIDI MAN181002",
      "photoUrl": "",
      "userId": "15928786153813768879"
     },
     "user_tz": -480
    },
    "id": "x1x11QDZ4gM-",
    "outputId": "d886675a-359f-4d69-c61b-d804a23fd4e5"
   },
   "outputs": [],
   "source": [
    "# !pip install pretrainedmodels\n",
    "import torch\n",
    "from torch import nn, optim\n",
    "from torchvision import datasets ,transforms, models\n",
    "import numpy as np\n",
    "import matplotlib.pyplot as plt\n",
    "import helper\n",
    "import math\n",
    "import time as evaltime\n",
    "from torch import nn\n",
    "from collections import OrderedDict\n",
    "\n",
    "import pretrainedmodels\n",
    "import tqdm\n",
    "from tqdm import tqdm\n",
    "import pandas as pd\n",
    "\n",
    "#################################\n",
    "device=torch.device('cuda:0' if torch.cuda.is_available() else 'cpu')"
   ]
  },
  {
   "cell_type": "markdown",
   "metadata": {
    "colab_type": "text",
    "id": "dS06clwVAngY"
   },
   "source": [
    "## Load the pre trained model and change the FC layer to taylor the number of classes: 8"
   ]
  },
  {
   "cell_type": "code",
   "execution_count": 4,
   "metadata": {
    "colab": {
     "base_uri": "https://localhost:8080/",
     "height": 83,
     "referenced_widgets": [
      "98936597338c435093f25a0a12d5241f",
      "665fc67d489e47b0a11b21dcb736b347",
      "31e3c2a9c27b4bd28acb46202a3ee6b0",
      "3e467ee129134191a0ef9df4d509c82c",
      "e6bac74a4ef7407589831cc9f90f2122",
      "1abcece9c77e4bfa9e181b361fc1ea13",
      "b30ba87c99254d6a956d6aa843ff6657",
      "7a096eaa9f234c3da4e8c965ca5164e0"
     ]
    },
    "colab_type": "code",
    "executionInfo": {
     "elapsed": 632277,
     "status": "ok",
     "timestamp": 1590849135494,
     "user": {
      "displayName": "FAEZEHSADAT SHAHIDI MAN181002",
      "photoUrl": "",
      "userId": "15928786153813768879"
     },
     "user_tz": -480
    },
    "id": "IOS1NXpCrYft",
    "outputId": "e58c1dc8-a665-44ce-e53a-d097b0a34615"
   },
   "outputs": [
    {
     "name": "stderr",
     "output_type": "stream",
     "text": [
      "Downloading: \"http://data.lip6.fr/cadene/pretrainedmodels/inceptionresnetv2-520b38e4.pth\" to /root/.cache/torch/checkpoints/inceptionresnetv2-520b38e4.pth\n"
     ]
    },
    {
     "data": {
      "application/vnd.jupyter.widget-view+json": {
       "model_id": "98936597338c435093f25a0a12d5241f",
       "version_major": 2,
       "version_minor": 0
      },
      "text/plain": [
       "HBox(children=(FloatProgress(value=0.0, max=223774246.0), HTML(value='')))"
      ]
     },
     "metadata": {
      "tags": []
     },
     "output_type": "display_data"
    },
    {
     "name": "stdout",
     "output_type": "stream",
     "text": [
      "\n"
     ]
    }
   ],
   "source": [
    "import ssl\n",
    "ssl._create_default_https_context = ssl._create_unverified_context\n",
    "\n",
    "inceptionresnetv2 = 'inceptionresnetv2' \n",
    "Inception_Res_V2 = pretrainedmodels.__dict__[inceptionresnetv2](num_classes=1000, pretrained='imagenet')\n"
   ]
  },
  {
   "cell_type": "code",
   "execution_count": 0,
   "metadata": {
    "colab": {},
    "colab_type": "code",
    "id": "CPqfxJOyr_Rd"
   },
   "outputs": [],
   "source": [
    "classifier= nn.Sequential(OrderedDict([\n",
    "    ('0', nn.Linear(1536,8)),\n",
    "    ('output', nn.LogSoftmax(dim=1))\n",
    "    \n",
    "]))\n",
    "\n",
    "Inception_Res_V2.last_linear=classifier\n",
    "for params in Inception_Res_V2.parameters():\n",
    "    params.required_grad=False\n",
    "for params in Inception_Res_V2.last_linear.parameters():\n",
    "    params.required_grad=True"
   ]
  },
  {
   "cell_type": "markdown",
   "metadata": {
    "colab_type": "text",
    "id": "IwfQ9qVHB2Rb"
   },
   "source": [
    "## define the loss and optimization. in order to retrain the model, define the require grad true for all the parameters in the network."
   ]
  },
  {
   "cell_type": "code",
   "execution_count": null,
   "metadata": {
    "colab": {
     "base_uri": "https://localhost:8080/",
     "height": 1000
    },
    "colab_type": "code",
    "executionInfo": {
     "elapsed": 10444,
     "status": "ok",
     "timestamp": 1590849169327,
     "user": {
      "displayName": "FAEZEHSADAT SHAHIDI MAN181002",
      "photoUrl": "",
      "userId": "15928786153813768879"
     },
     "user_tz": -480
    },
    "id": "xQhcL-6w3DQg",
    "outputId": "e1459ac1-a26c-43e3-85dd-6596c0892bc1"
   },
   "outputs": [],
   "source": [
    "critirion= nn.NLLLoss()\n",
    "optimizer = optim.Adam(Inception_Res_V2.parameters(), lr=0.0002)\n",
    "Inception_Res_V2.to(device)"
   ]
  },
  {
   "cell_type": "markdown",
   "metadata": {
    "colab_type": "text",
    "id": "UtNfhSBeCUlq"
   },
   "source": [
    "\n",
    "### load the images to the train and test loader, with the ratio of 65/35"
   ]
  },
  {
   "cell_type": "code",
   "execution_count": 7,
   "metadata": {
    "colab": {
     "base_uri": "https://localhost:8080/",
     "height": 34
    },
    "colab_type": "code",
    "executionInfo": {
     "elapsed": 53470,
     "status": "ok",
     "timestamp": 1590849247084,
     "user": {
      "displayName": "FAEZEHSADAT SHAHIDI MAN181002",
      "photoUrl": "",
      "userId": "15928786153813768879"
     },
     "user_tz": -480
    },
    "id": "a8BWg6-Y3Urt",
    "outputId": "1642c4fe-7f44-4dae-cdc3-2cb11e1c50a5"
   },
   "outputs": [
    {
     "name": "stdout",
     "output_type": "stream",
     "text": [
      "7919 ['adenosis', 'ductal_carcinoma', 'fibroadenoma', 'lobular_carcinoma', 'mucinous_carcinoma', 'papillary_carcinoma', 'phyllodes_tumor', 'tubular_adenoma']\n"
     ]
    }
   ],
   "source": [
    "dir_eight_Classes='To the brest cancer images for eight classifications/'\n",
    "dir_checkpoints='To the /checkpoints/'\n",
    "dir_statistics='To the/statistics/'\n",
    "\n",
    "\n",
    "ratio=0.9 # split the train and test datasets with the ration of 90/10\n",
    "train_transform = transforms.Compose([\n",
    "    transforms.Resize((299,299)),\n",
    "    # transforms.RandomRotation(45),\n",
    "    # transforms.RandomVerticalFlip(p=0.5),\n",
    "    # transforms.RandomHorizontalFlip(p=0.5),\n",
    "    # transforms.RandomResizedCrop((224,224),scale=(0.08, 1.0), ratio=(0.75, 1.3333333333333333), interpolation=2),\n",
    "    transforms.ToTensor(),\n",
    "    transforms.Normalize((0.485, 0.456, 0.406),(0.229, 0.224, 0.225))\n",
    "])\n",
    "\n",
    "dataset= datasets.ImageFolder(dir_two_Classes,transform=train_transform)\n",
    "train_sample_len=math.ceil(len(dataset)*ratio)\n",
    "test_sample_len=len(dataset)-train_sample_len\n",
    "trainset,testset=torch.utils.data.random_split(dataset,[train_sample_len,test_sample_len] )\n",
    "\n",
    "trainloader = torch.utils.data.DataLoader(trainset, batch_size=32, num_workers=4, shuffle=True)\n",
    "testloader =torch.utils.data.DataLoader(testset, batch_size=1, num_workers=4, shuffle=False)\n",
    "classes=trainset.dataset.classes\n",
    "print (len(dataset), classes)"
   ]
  },
  {
   "cell_type": "markdown",
   "metadata": {
    "colab_type": "text",
    "id": "3fwNVR8IChX_"
   },
   "source": [
    "### Showing one image out of all to be confirmed that the trainset is already loaded"
   ]
  },
  {
   "cell_type": "code",
   "execution_count": 0,
   "metadata": {
    "colab": {
     "base_uri": "https://localhost:8080/",
     "height": 303
    },
    "colab_type": "code",
    "executionInfo": {
     "elapsed": 11985,
     "status": "ok",
     "timestamp": 1589984028190,
     "user": {
      "displayName": "FAEZEHSADAT SHAHIDI MAN181002",
      "photoUrl": "",
      "userId": "15928786153813768879"
     },
     "user_tz": -480
    },
    "id": "WaOcXU_GCmQ3",
    "outputId": "a7ac32dd-d95e-41ab-fa9c-67ba4cf47f48"
   },
   "outputs": [
    {
     "name": "stderr",
     "output_type": "stream",
     "text": [
      "Clipping input data to the valid range for imshow with RGB data ([0..1] for floats or [0..255] for integers).\n"
     ]
    },
    {
     "data": {
      "text/plain": [
       "<matplotlib.image.AxesImage at 0x7f952470f240>"
      ]
     },
     "execution_count": 8,
     "metadata": {
      "tags": []
     },
     "output_type": "execute_result"
    },
    {
     "data": {
      "image/png": "[encoded data removed]",
      "text/plain": [
       "<Figure size 432x288 with 1 Axes>"
      ]
     },
     "metadata": {
      "needs_background": "light",
      "tags": []
     },
     "output_type": "display_data"
    }
   ],
   "source": [
    "images=iter(testloader).next()\n",
    "type(images)\n",
    "images[0][0].shape\n",
    "img=images[0][0].permute(1,2,0)\n",
    "# images.size\n",
    "plt.imshow(img)"
   ]
  },
  {
   "cell_type": "markdown",
   "metadata": {
    "colab_type": "text",
    "id": "rExcZPB4I-oy"
   },
   "source": [
    "### Train and test the model"
   ]
  },
  {
   "cell_type": "code",
   "execution_count": null,
   "metadata": {
    "colab": {
     "base_uri": "https://localhost:8080/",
     "height": 1000
    },
    "colab_type": "code",
    "executionInfo": {
     "elapsed": 11834232,
     "status": "ok",
     "timestamp": 1589887038716,
     "user": {
      "displayName": "fuzzy sh",
      "photoUrl": "",
      "userId": "16419153695920026108"
     },
     "user_tz": -480
    },
    "id": "UVLZprO9Rbck",
    "outputId": "ce6ba20e-1d3d-42e1-c551-fe4aa4f5071d"
   },
   "outputs": [],
   "source": [
    "epochs = 100\n",
    "steps= 0\n",
    "print_every=100\n",
    "running_loss=0\n",
    "min_val_loss = np.Inf\n",
    "results={'epoch':[],'training_loss':[], 'test_loss':[], 'test_accuracy':[], 'training_accuracy':[]}\n",
    "\n",
    "for e in range(1,epochs+1):\n",
    "  running_results={'loss':0, 'accuracy':0,'minutes':0,'steps':0}\n",
    "  Inception_Res_V2.train()\n",
    "  train_bar=tqdm(trainloader)\n",
    "  running_loss=0\n",
    "\n",
    "  for images, labels in train_bar:\n",
    "      start_time= evaltime.time()\n",
    "      images, labels = images.to(device), labels.to(device)\n",
    "      running_results['steps']+=1\n",
    "      optimizer.zero_grad()\n",
    "      output=Inception_Res_V2.forward(images)\n",
    "      ps=torch.exp(output)\n",
    "      loss=critirion(output,labels)\n",
    "      loss.backward()\n",
    "      optimizer.step()\n",
    "      # running_loss+=loss.item()\n",
    "      running_results['loss']+=loss.item()\n",
    "      equality = (ps.max(dim=1)[1]==labels.data)\n",
    "      running_results['accuracy']+=equality.type(torch.FloatTensor).mean()\n",
    "      train_bar.set_description(desc='[%d/%d], training_loss: %.4f, training_accuracy: %.4f '% \n",
    "                                (e,epochs, running_results['loss']/running_results['steps'],running_results['accuracy']/running_results['steps']))\n",
    "  test_bar=tqdm(testloader, desc='Validation Results:')\n",
    "  Inception_Res_V2.eval()\n",
    "  valing_results={'test_loss':0, 'test_accuracy':0, 'min_loss':0, 'steps':0}\n",
    "\n",
    "\n",
    "  with torch.no_grad():\n",
    "    for images, labels in test_bar: \n",
    "      valing_results['steps']+=1\n",
    "      images, labels = images.to(device), labels.to(device)\n",
    "      output=Inception_Res_V2.forward(images)\n",
    "      loss=critirion(output,labels)\n",
    "      valing_results['test_loss']+= loss.item()\n",
    "      ps=torch.exp(output)\n",
    "      equality = (ps.max(dim=1)[1]==labels.data)\n",
    "      valing_results['test_accuracy']+=equality.type(torch.FloatTensor).mean()\n",
    "      test_bar.set_description(desc='test_loss: %.4f, test_accuracy: %.4f'%\n",
    "                               (valing_results['test_loss']/valing_results['steps'], valing_results['test_accuracy']/valing_results['steps'] ))\n",
    "    if (valing_results['test_loss']/valing_results['steps']< min_val_loss):\n",
    "            min_val_loss=valing_results['test_loss']/valing_results['steps']\n",
    "            print('saving the model with min loss of : '+ str(min_val_loss))\n",
    "            torch.save(Inception_Res_V2.state_dict(),dir_checkpoints+\"FEx_checkpoint_Inception_Res_V2_2c.pth\")\n",
    "\n",
    "     \n",
    "  results['training_loss'].append(running_results['loss']/running_results['steps'])\n",
    "  results['test_loss'].append(valing_results['test_loss']/valing_results['steps'])\n",
    "  results['test_accuracy'].append(valing_results['test_accuracy'].item()/valing_results['steps'])\n",
    "  results['training_accuracy'].append(running_results['accuracy'].item()/running_results['steps'])\n",
    "  \n",
    "  data_frame=pd.DataFrame(\n",
    "        data={\n",
    "            # 'Epoch':1,\n",
    "            'Training_Loss':results['training_loss'],\n",
    "            'Test_Loss': results['test_loss'],\n",
    "            'Test_Accuracy':results['test_accuracy'],\n",
    "            'Training_Accuracy':results['training_accuracy'],\n",
    "           \n",
    "                 },\n",
    "        index=range(1,e+1)\n",
    "    )\n",
    "  data_frame.to_csv(dir_statistics+ 'FEx_Inception_Res_V2_eval_results.csv',  index_label=\"Epoch\")    \n"
   ]
  },
  {
   "cell_type": "code",
   "execution_count": 0,
   "metadata": {
    "colab": {},
    "colab_type": "code",
    "id": "e88zcuxCSBFT"
   },
   "outputs": [],
   "source": []
  }
 ],
 "metadata": {
  "accelerator": "GPU",
  "colab": {
   "collapsed_sections": [],
   "machine_shape": "hm",
   "name": "6.2-FEx_Inception-Resnet-V2_Breakhis_Classification.ipynb",
   "provenance": []
  },
  "kernelspec": {
   "display_name": "Python 3 (ipykernel)",
   "language": "python",
   "name": "python3"
  },
  "language_info": {
   "codemirror_mode": {
    "name": "ipython",
    "version": 3
   },
   "file_extension": ".py",
   "mimetype": "text/x-python",
   "name": "python",
   "nbconvert_exporter": "python",
   "pygments_lexer": "ipython3",
   "version": "3.8.8"
  },
  "widgets": {
   "application/vnd.jupyter.widget-state+json": {
    "1abcece9c77e4bfa9e181b361fc1ea13": {
     "model_module": "@jupyter-widgets/base",
     "model_name": "LayoutModel",
     "state": {
      "_model_module": "@jupyter-widgets/base",
      "_model_module_version": "1.2.0",
      "_model_name": "LayoutModel",
      "_view_count": null,
      "_view_module": "@jupyter-widgets/base",
      "_view_module_version": "1.2.0",
      "_view_name": "LayoutView",
      "align_content": null,
      "align_items": null,
      "align_self": null,
      "border": null,
      "bottom": null,
      "display": null,
      "flex": null,
      "flex_flow": null,
      "grid_area": null,
      "grid_auto_columns": null,
      "grid_auto_flow": null,
      "grid_auto_rows": null,
      "grid_column": null,
      "grid_gap": null,
      "grid_row": null,
      "grid_template_areas": null,
      "grid_template_columns": null,
      "grid_template_rows": null,
      "height": null,
      "justify_content": null,
      "justify_items": null,
      "left": null,
      "margin": null,
      "max_height": null,
      "max_width": null,
      "min_height": null,
      "min_width": null,
      "object_fit": null,
      "object_position": null,
      "order": null,
      "overflow": null,
      "overflow_x": null,
      "overflow_y": null,
      "padding": null,
      "right": null,
      "top": null,
      "visibility": null,
      "width": null
     }
    },
    "31e3c2a9c27b4bd28acb46202a3ee6b0": {
     "model_module": "@jupyter-widgets/controls",
     "model_name": "FloatProgressModel",
     "state": {
      "_dom_classes": [],
      "_model_module": "@jupyter-widgets/controls",
      "_model_module_version": "1.5.0",
      "_model_name": "FloatProgressModel",
      "_view_count": null,
      "_view_module": "@jupyter-widgets/controls",
      "_view_module_version": "1.5.0",
      "_view_name": "ProgressView",
      "bar_style": "success",
      "description": "100%",
      "description_tooltip": null,
      "layout": "IPY_MODEL_1abcece9c77e4bfa9e181b361fc1ea13",
      "max": 223774246,
      "min": 0,
      "orientation": "horizontal",
      "style": "IPY_MODEL_e6bac74a4ef7407589831cc9f90f2122",
      "value": 223774246
     }
    },
    "3e467ee129134191a0ef9df4d509c82c": {
     "model_module": "@jupyter-widgets/controls",
     "model_name": "HTMLModel",
     "state": {
      "_dom_classes": [],
      "_model_module": "@jupyter-widgets/controls",
      "_model_module_version": "1.5.0",
      "_model_name": "HTMLModel",
      "_view_count": null,
      "_view_module": "@jupyter-widgets/controls",
      "_view_module_version": "1.5.0",
      "_view_name": "HTMLView",
      "description": "",
      "description_tooltip": null,
      "layout": "IPY_MODEL_7a096eaa9f234c3da4e8c965ca5164e0",
      "placeholder": "​",
      "style": "IPY_MODEL_b30ba87c99254d6a956d6aa843ff6657",
      "value": " 213M/213M [10:29&lt;00:00, 356kB/s]"
     }
    },
    "665fc67d489e47b0a11b21dcb736b347": {
     "model_module": "@jupyter-widgets/base",
     "model_name": "LayoutModel",
     "state": {
      "_model_module": "@jupyter-widgets/base",
      "_model_module_version": "1.2.0",
      "_model_name": "LayoutModel",
      "_view_count": null,
      "_view_module": "@jupyter-widgets/base",
      "_view_module_version": "1.2.0",
      "_view_name": "LayoutView",
      "align_content": null,
      "align_items": null,
      "align_self": null,
      "border": null,
      "bottom": null,
      "display": null,
      "flex": null,
      "flex_flow": null,
      "grid_area": null,
      "grid_auto_columns": null,
      "grid_auto_flow": null,
      "grid_auto_rows": null,
      "grid_column": null,
      "grid_gap": null,
      "grid_row": null,
      "grid_template_areas": null,
      "grid_template_columns": null,
      "grid_template_rows": null,
      "height": null,
      "justify_content": null,
      "justify_items": null,
      "left": null,
      "margin": null,
      "max_height": null,
      "max_width": null,
      "min_height": null,
      "min_width": null,
      "object_fit": null,
      "object_position": null,
      "order": null,
      "overflow": null,
      "overflow_x": null,
      "overflow_y": null,
      "padding": null,
      "right": null,
      "top": null,
      "visibility": null,
      "width": null
     }
    },
    "7a096eaa9f234c3da4e8c965ca5164e0": {
     "model_module": "@jupyter-widgets/base",
     "model_name": "LayoutModel",
     "state": {
      "_model_module": "@jupyter-widgets/base",
      "_model_module_version": "1.2.0",
      "_model_name": "LayoutModel",
      "_view_count": null,
      "_view_module": "@jupyter-widgets/base",
      "_view_module_version": "1.2.0",
      "_view_name": "LayoutView",
      "align_content": null,
      "align_items": null,
      "align_self": null,
      "border": null,
      "bottom": null,
      "display": null,
      "flex": null,
      "flex_flow": null,
      "grid_area": null,
      "grid_auto_columns": null,
      "grid_auto_flow": null,
      "grid_auto_rows": null,
      "grid_column": null,
      "grid_gap": null,
      "grid_row": null,
      "grid_template_areas": null,
      "grid_template_columns": null,
      "grid_template_rows": null,
      "height": null,
      "justify_content": null,
      "justify_items": null,
      "left": null,
      "margin": null,
      "max_height": null,
      "max_width": null,
      "min_height": null,
      "min_width": null,
      "object_fit": null,
      "object_position": null,
      "order": null,
      "overflow": null,
      "overflow_x": null,
      "overflow_y": null,
      "padding": null,
      "right": null,
      "top": null,
      "visibility": null,
      "width": null
     }
    },
    "98936597338c435093f25a0a12d5241f": {
     "model_module": "@jupyter-widgets/controls",
     "model_name": "HBoxModel",
     "state": {
      "_dom_classes": [],
      "_model_module": "@jupyter-widgets/controls",
      "_model_module_version": "1.5.0",
      "_model_name": "HBoxModel",
      "_view_count": null,
      "_view_module": "@jupyter-widgets/controls",
      "_view_module_version": "1.5.0",
      "_view_name": "HBoxView",
      "box_style": "",
      "children": [
       "IPY_MODEL_31e3c2a9c27b4bd28acb46202a3ee6b0",
       "IPY_MODEL_3e467ee129134191a0ef9df4d509c82c"
      ],
      "layout": "IPY_MODEL_665fc67d489e47b0a11b21dcb736b347"
     }
    },
    "b30ba87c99254d6a956d6aa843ff6657": {
     "model_module": "@jupyter-widgets/controls",
     "model_name": "DescriptionStyleModel",
     "state": {
      "_model_module": "@jupyter-widgets/controls",
      "_model_module_version": "1.5.0",
      "_model_name": "DescriptionStyleModel",
      "_view_count": null,
      "_view_module": "@jupyter-widgets/base",
      "_view_module_version": "1.2.0",
      "_view_name": "StyleView",
      "description_width": ""
     }
    },
    "e6bac74a4ef7407589831cc9f90f2122": {
     "model_module": "@jupyter-widgets/controls",
     "model_name": "ProgressStyleModel",
     "state": {
      "_model_module": "@jupyter-widgets/controls",
      "_model_module_version": "1.5.0",
      "_model_name": "ProgressStyleModel",
      "_view_count": null,
      "_view_module": "@jupyter-widgets/base",
      "_view_module_version": "1.2.0",
      "_view_name": "StyleView",
      "bar_color": null,
      "description_width": "initial"
     }
    }
   }
  }
 },
 "nbformat": 4,
 "nbformat_minor": 1
}
