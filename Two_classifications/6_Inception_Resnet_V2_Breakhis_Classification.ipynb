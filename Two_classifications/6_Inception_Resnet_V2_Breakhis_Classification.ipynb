{
 "cells": [
  {
   "cell_type": "markdown",
   "metadata": {
    "colab_type": "text",
    "id": "j8d_U6iIAEbQ"
   },
   "source": [
    "### Build and train the Inception_Res_V2 network and retrain it by breast cancer data base"
   ]
  },
  {
   "cell_type": "code",
   "execution_count": null,
   "metadata": {
    "colab": {
     "base_uri": "https://localhost:8080/",
     "height": 123
    },
    "colab_type": "code",
    "executionInfo": {
     "elapsed": 23139,
     "status": "ok",
     "timestamp": 1591069079092,
     "user": {
      "displayName": "FAEZEHSADAT SHAHIDI MAN181002",
      "photoUrl": "",
      "userId": "15928786153813768879"
     },
     "user_tz": -480
    },
    "id": "gnZL28MH2TMQ",
    "outputId": "bcf7e217-d776-4995-d396-a79a2a6b3793"
   },
   "outputs": [],
   "source": [
    "from google.colab import drive\n",
    "drive.mount('/content/drive')"
   ]
  },
  {
   "cell_type": "markdown",
   "metadata": {
    "colab_type": "text",
    "id": "2ZTjlVNQAaty"
   },
   "source": [
    "### import the liberaries"
   ]
  },
  {
   "cell_type": "code",
   "execution_count": null,
   "metadata": {
    "colab": {
     "base_uri": "https://localhost:8080/",
     "height": 344
    },
    "colab_type": "code",
    "executionInfo": {
     "elapsed": 11888,
     "status": "ok",
     "timestamp": 1591069095338,
     "user": {
      "displayName": "FAEZEHSADAT SHAHIDI MAN181002",
      "photoUrl": "",
      "userId": "15928786153813768879"
     },
     "user_tz": -480
    },
    "id": "x1x11QDZ4gM-",
    "outputId": "2ffa758b-e632-4cde-bdf5-49f1ae1d703a"
   },
   "outputs": [],
   "source": [
    "# !pip install pretrainedmodels\n",
    "\n",
    "import torch\n",
    "from torch import nn, optim\n",
    "from torchvision import datasets ,transforms, models\n",
    "import numpy as np\n",
    "import matplotlib.pyplot as plt\n",
    "import helper\n",
    "import math\n",
    "import time as evaltime\n",
    "from torch import nn\n",
    "from collections import OrderedDict\n",
    "\n",
    "import pretrainedmodels\n",
    "import tqdm\n",
    "from tqdm import tqdm\n",
    "import pandas as pd\n",
    "\n",
    "#################################\n",
    "# If GPU is available, run the model in there \n",
    "device=torch.device('cuda:0' if torch.cuda.is_available() else 'cpu')"
   ]
  },
  {
   "cell_type": "markdown",
   "metadata": {
    "colab_type": "text",
    "id": "dS06clwVAngY"
   },
   "source": [
    "## Load the pre trained model and change the FC layer to taylor the number of classes 2."
   ]
  },
  {
   "cell_type": "code",
   "execution_count": 4,
   "metadata": {
    "colab": {
     "base_uri": "https://localhost:8080/",
     "height": 83,
     "referenced_widgets": [
      "eef0bb7ef97043529d48f0dc4a3166f0",
      "ff204455f3354d38bf15861b778d978a",
      "99b9febe1e6e4b5bbd59ff974e177336",
      "0112bbca4ab24e4fb159d2fbbda906b6",
      "a946d5f218294445bd72da8a8ffddd60",
      "427face167244e89aa25a9d0ba055132",
      "e958e6e6b77b42b183152556e491c1dc",
      "935d73118b2a41bba5064f438a58828b"
     ]
    },
    "colab_type": "code",
    "executionInfo": {
     "elapsed": 633154,
     "status": "ok",
     "timestamp": 1591069747550,
     "user": {
      "displayName": "FAEZEHSADAT SHAHIDI MAN181002",
      "photoUrl": "",
      "userId": "15928786153813768879"
     },
     "user_tz": -480
    },
    "id": "IOS1NXpCrYft",
    "outputId": "238db817-283d-4f97-f4bd-447e8d07c484"
   },
   "outputs": [
    {
     "name": "stderr",
     "output_type": "stream",
     "text": [
      "Downloading: \"http://data.lip6.fr/cadene/pretrainedmodels/inceptionresnetv2-520b38e4.pth\" to /root/.cache/torch/checkpoints/inceptionresnetv2-520b38e4.pth\n"
     ]
    },
    {
     "data": {
      "application/vnd.jupyter.widget-view+json": {
       "model_id": "eef0bb7ef97043529d48f0dc4a3166f0",
       "version_major": 2,
       "version_minor": 0
      },
      "text/plain": [
       "HBox(children=(FloatProgress(value=0.0, max=223774246.0), HTML(value='')))"
      ]
     },
     "metadata": {
      "tags": []
     },
     "output_type": "display_data"
    },
    {
     "name": "stdout",
     "output_type": "stream",
     "text": [
      "\n"
     ]
    }
   ],
   "source": [
    "# Once, trying to use pretrained model (dpn131) from torchvision, an error was raised. So, to solve the issue:\n",
    "import ssl\n",
    "ssl._create_default_https_context = ssl._create_unverified_context\n",
    "\n",
    "# Load the pretrained model \n",
    "inceptionresnetv2 = 'inceptionresnetv2' \n",
    "Inception_Res_V2 = pretrainedmodels.__dict__[inceptionresnetv2](num_classes=1000, pretrained='imagenet')\n"
   ]
  },
  {
   "cell_type": "code",
   "execution_count": 0,
   "metadata": {
    "colab": {},
    "colab_type": "code",
    "id": "CPqfxJOyr_Rd"
   },
   "outputs": [],
   "source": [
    "# Define the classifier\n",
    "classifier= nn.Sequential(OrderedDict([\n",
    "    ('0', nn.Linear(1536,1024)),\n",
    "    ('1',nn.ReLU(inplace=True)),\n",
    "    ('2', nn.Dropout(p=0.5)),\n",
    "    ('3', nn.Linear(1024,1024)),\n",
    "    ('4',nn.ReLU(inplace=True)),\n",
    "    ('5', nn.Dropout(p=0.5)),\n",
    "    ('6', nn.Linear(1024,2)),\n",
    "    ('output', nn.LogSoftmax(dim=1))\n",
    "    \n",
    "]))\n",
    "# Add the classifier to the model as the final layers \n",
    "Inception_Res_V2.last_linear=classifier\n"
   ]
  },
  {
   "cell_type": "markdown",
   "metadata": {
    "colab_type": "text",
    "id": "IwfQ9qVHB2Rb"
   },
   "source": [
    "## Define the loss and optimization. in order to retrain the model, define the require grad true for all the parameters in the network."
   ]
  },
  {
   "cell_type": "code",
   "execution_count": null,
   "metadata": {
    "colab": {
     "base_uri": "https://localhost:8080/",
     "height": 1000
    },
    "colab_type": "code",
    "executionInfo": {
     "elapsed": 1401,
     "status": "ok",
     "timestamp": 1591069835338,
     "user": {
      "displayName": "FAEZEHSADAT SHAHIDI MAN181002",
      "photoUrl": "",
      "userId": "15928786153813768879"
     },
     "user_tz": -480
    },
    "id": "xQhcL-6w3DQg",
    "outputId": "eaca9a3d-fcc5-40e1-d471-8b5829f3e949"
   },
   "outputs": [],
   "source": [
    "critirion= nn.NLLLoss()\n",
    "optimizer = optim.Adam(Inception_Res_V2.parameters(), lr=0.0002)\n",
    "\n",
    "# put the model into device that could be CPU or GPU if availble\n",
    "Inception_Res_V2.to(device)\n",
    "\n",
    "# Only the parameteres in the classifier needs to be retrained. \n",
    "for params in Inception_Res_V2.parameters():\n",
    "    params.required_grad=False\n",
    "for params in Inception_Res_V2.last_linear.parameters():\n",
    "    params.required_grad=True"
   ]
  },
  {
   "cell_type": "markdown",
   "metadata": {
    "colab_type": "text",
    "id": "UtNfhSBeCUlq"
   },
   "source": [
    "\n",
    "### load the images to the train and test loader, with the ratio of 90/10"
   ]
  },
  {
   "cell_type": "code",
   "execution_count": 8,
   "metadata": {
    "colab": {
     "base_uri": "https://localhost:8080/",
     "height": 34
    },
    "colab_type": "code",
    "executionInfo": {
     "elapsed": 118438,
     "status": "ok",
     "timestamp": 1591069960989,
     "user": {
      "displayName": "FAEZEHSADAT SHAHIDI MAN181002",
      "photoUrl": "",
      "userId": "15928786153813768879"
     },
     "user_tz": -480
    },
    "id": "a8BWg6-Y3Urt",
    "outputId": "d81a0820-348f-4f43-f95f-1c0804fed918"
   },
   "outputs": [
    {
     "data": {
      "text/plain": [
       "7909"
      ]
     },
     "execution_count": 8,
     "metadata": {
      "tags": []
     },
     "output_type": "execute_result"
    }
   ],
   "source": [
    "dir_two_Classes='To the brest cancer images for two classification/'\n",
    "dir_checkpoints='To the /checkpoints/'\n",
    "dir_statistics='To the/statistics/'\n",
    "\n",
    "# split the train and test datasets with the ration of 90/10\n",
    "ratio=0.9 \n",
    "train_transform = transforms.Compose([\n",
    "    transforms.Resize((299,299)),\n",
    "    transforms.RandomRotation(45),\n",
    "    transforms.RandomVerticalFlip(p=0.5),\n",
    "    transforms.RandomHorizontalFlip(p=0.5),\n",
    "    # transforms.RandomResizedCrop((224,224),scale=(0.08, 1.0), ratio=(0.75, 1.3333333333333333), interpolation=2),\n",
    "    transforms.ToTensor(),\n",
    "    transforms.Normalize((0.485, 0.456, 0.406),(0.229, 0.224, 0.225))\n",
    "])\n",
    "\n",
    "# load the images to the train and test loader \n",
    "dataset= datasets.ImageFolder(dir_two_Classes,transform=train_transform)\n",
    "train_sample_len=math.ceil(len(dataset)*ratio)\n",
    "test_sample_len=len(dataset)-train_sample_len\n",
    "trainset,testset=torch.utils.data.random_split(dataset,[train_sample_len,test_sample_len] )\n",
    "\n",
    "trainloader = torch.utils.data.DataLoader(trainset, batch_size=32, num_workers=4, shuffle=True)\n",
    "testloader =torch.utils.data.DataLoader(testset, batch_size=1, num_workers=4, shuffle=False)\n",
    "classes=trainset.dataset.classes\n",
    "len(dataset)"
   ]
  },
  {
   "cell_type": "markdown",
   "metadata": {
    "colab_type": "text",
    "id": "3fwNVR8IChX_"
   },
   "source": [
    "### Displaying one image out of all to be confirmed that the trainset is already loaded"
   ]
  },
  {
   "cell_type": "code",
   "execution_count": 9,
   "metadata": {
    "colab": {
     "base_uri": "https://localhost:8080/",
     "height": 303
    },
    "colab_type": "code",
    "executionInfo": {
     "elapsed": 4483,
     "status": "ok",
     "timestamp": 1591069965480,
     "user": {
      "displayName": "FAEZEHSADAT SHAHIDI MAN181002",
      "photoUrl": "",
      "userId": "15928786153813768879"
     },
     "user_tz": -480
    },
    "id": "WaOcXU_GCmQ3",
    "outputId": "a00b46f9-5598-452a-e358-4de73e429c8b"
   },
   "outputs": [
    {
     "name": "stderr",
     "output_type": "stream",
     "text": [
      "Clipping input data to the valid range for imshow with RGB data ([0..1] for floats or [0..255] for integers).\n"
     ]
    },
    {
     "data": {
      "text/plain": [
       "<matplotlib.image.AxesImage at 0x7fb387e8b860>"
      ]
     },
     "execution_count": 9,
     "metadata": {
      "tags": []
     },
     "output_type": "execute_result"
    },
    {
     "data": {
      "image/png": "[encoded data removed]",
      "text/plain": [
       "<Figure size 432x288 with 1 Axes>"
      ]
     },
     "metadata": {
      "needs_background": "light",
      "tags": []
     },
     "output_type": "display_data"
    }
   ],
   "source": [
    "images=iter(testloader).next()\n",
    "type(images)\n",
    "images[0][0].shape\n",
    "img=images[0][0].permute(1,2,0)\n",
    "\n",
    "plt.imshow(img)"
   ]
  },
  {
   "cell_type": "markdown",
   "metadata": {
    "colab_type": "text",
    "id": "rExcZPB4I-oy"
   },
   "source": [
    "### Train and test the model"
   ]
  },
  {
   "cell_type": "code",
   "execution_count": null,
   "metadata": {
    "colab": {
     "base_uri": "https://localhost:8080/",
     "height": 1000
    },
    "colab_type": "code",
    "executionInfo": {
     "elapsed": 19704869,
     "status": "ok",
     "timestamp": 1591089680357,
     "user": {
      "displayName": "FAEZEHSADAT SHAHIDI MAN181002",
      "photoUrl": "",
      "userId": "15928786153813768879"
     },
     "user_tz": -480
    },
    "id": "UVLZprO9Rbck",
    "outputId": "3a965622-9695-4b2a-de83-06fa1b2f0bc7"
   },
   "outputs": [],
   "source": [
    "epochs = 100\n",
    "steps= 0\n",
    "print_every=100\n",
    "running_loss=0\n",
    "min_val_loss = np.Inf\n",
    "results={'epoch':[],'training_loss':[], 'test_loss':[], 'test_accuracy':[], 'training_accuracy':[]}\n",
    "\n",
    "# Iterate through the epoches\n",
    "for e in range(1,epochs+1):\n",
    "  running_results={'loss':0, 'accuracy':0,'minutes':0,'steps':0}\n",
    "  Inception_Res_V2.train()\n",
    "  train_bar=tqdm(trainloader)\n",
    "  running_loss=0\n",
    "    \n",
    "   # Trian the model \n",
    "  for images, labels in train_bar:\n",
    "      start_time= evaltime.time()\n",
    "      images, labels = images.to(device), labels.to(device)\n",
    "      running_results['steps']+=1\n",
    "      optimizer.zero_grad()\n",
    "      output=Inception_Res_V2.forward(images)\n",
    "      ps=torch.exp(output)\n",
    "      loss=critirion(output,labels)\n",
    "      loss.backward()\n",
    "      optimizer.step()\n",
    "      # running_loss+=loss.item()\n",
    "      running_results['loss']+=loss.item()\n",
    "      equality = (ps.max(dim=1)[1]==labels.data)\n",
    "      running_results['accuracy']+=equality.type(torch.FloatTensor).mean()\n",
    "      train_bar.set_description(desc='[%d/%d], training_loss: %.4f, training_accuracy: %.4f '% \n",
    "                                (e,epochs, running_results['loss']/running_results['steps'],running_results['accuracy']/running_results['steps']))\n",
    "  test_bar=tqdm(testloader, desc='Validation Results:')\n",
    "  Inception_Res_V2.eval()\n",
    "  valing_results={'test_loss':0, 'test_accuracy':0, 'min_loss':0, 'steps':0}\n",
    "\n",
    "  # Do not change the parameters while evaluating the model \n",
    "  with torch.no_grad():\n",
    "    # Test the model\n",
    "    for images, labels in test_bar: \n",
    "      valing_results['steps']+=1\n",
    "      images, labels = images.to(device), labels.to(device)\n",
    "      output=Inception_Res_V2.forward(images)\n",
    "      loss=critirion(output,labels)\n",
    "      valing_results['test_loss']+= loss.item()\n",
    "      ps=torch.exp(output)\n",
    "      equality = (ps.max(dim=1)[1]==labels.data)\n",
    "      valing_results['test_accuracy']+=equality.type(torch.FloatTensor).mean()\n",
    "      test_bar.set_description(desc='test_loss: %.4f, test_accuracy: %.4f'%\n",
    "                               (valing_results['test_loss']/valing_results['steps'], valing_results['test_accuracy']/valing_results['steps'] ))\n",
    "    if (valing_results['test_loss']/valing_results['steps']< min_val_loss):\n",
    "            min_val_loss=valing_results['test_loss']/valing_results['steps']\n",
    "            print('saving the model with min loss of : '+ str(min_val_loss))\n",
    "            torch.save(Inception_Res_V2.state_dict(),dir_checkpoints+\"dataaug_checkpoint_Inception_Res_V2_2c.pth\")\n",
    "\n",
    "  # update the results for each epoch        \n",
    "  results['training_loss'].append(running_results['loss']/running_results['steps'])\n",
    "  results['test_loss'].append(valing_results['test_loss']/valing_results['steps'])\n",
    "  results['test_accuracy'].append(valing_results['test_accuracy'].item()/valing_results['steps'])\n",
    "  results['training_accuracy'].append(running_results['accuracy'].item()/running_results['steps'])\n",
    "  \n",
    "  data_frame=pd.DataFrame(\n",
    "        data={\n",
    "            # 'Epoch':1,\n",
    "            'Training_Loss':results['training_loss'],\n",
    "            'Test_Loss': results['test_loss'],\n",
    "            'Test_Accuracy':results['test_accuracy'],\n",
    "            'Training_Accuracy':results['training_accuracy'],\n",
    "           \n",
    "                 },\n",
    "        index=range(1,e+1)\n",
    "    )\n",
    "    \n",
    "  # Save the results into a CSV file \n",
    "  data_frame.to_csv(dir_statistics+ 'dataaug_Inception_Res_V2_eval_results.csv',  index_label=\"Epoch\")    \n"
   ]
  },
  {
   "cell_type": "code",
   "execution_count": 0,
   "metadata": {
    "colab": {},
    "colab_type": "code",
    "id": "e88zcuxCSBFT"
   },
   "outputs": [],
   "source": []
  }
 ],
 "metadata": {
  "accelerator": "GPU",
  "colab": {
   "collapsed_sections": [],
   "machine_shape": "hm",
   "name": "6_Inception_Resnet_V2_Breakhis_Classification.ipynb",
   "provenance": []
  },
  "kernelspec": {
   "display_name": "Python 3 (ipykernel)",
   "language": "python",
   "name": "python3"
  },
  "language_info": {
   "codemirror_mode": {
    "name": "ipython",
    "version": 3
   },
   "file_extension": ".py",
   "mimetype": "text/x-python",
   "name": "python",
   "nbconvert_exporter": "python",
   "pygments_lexer": "ipython3",
   "version": "3.8.8"
  },
  "widgets": {
   "application/vnd.jupyter.widget-state+json": {
    "0112bbca4ab24e4fb159d2fbbda906b6": {
     "model_module": "@jupyter-widgets/controls",
     "model_name": "HTMLModel",
     "state": {
      "_dom_classes": [],
      "_model_module": "@jupyter-widgets/controls",
      "_model_module_version": "1.5.0",
      "_model_name": "HTMLModel",
      "_view_count": null,
      "_view_module": "@jupyter-widgets/controls",
      "_view_module_version": "1.5.0",
      "_view_name": "HTMLView",
      "description": "",
      "description_tooltip": null,
      "layout": "IPY_MODEL_935d73118b2a41bba5064f438a58828b",
      "placeholder": "​",
      "style": "IPY_MODEL_e958e6e6b77b42b183152556e491c1dc",
      "value": " 213M/213M [10:29&lt;00:00, 355kB/s]"
     }
    },
    "427face167244e89aa25a9d0ba055132": {
     "model_module": "@jupyter-widgets/base",
     "model_name": "LayoutModel",
     "state": {
      "_model_module": "@jupyter-widgets/base",
      "_model_module_version": "1.2.0",
      "_model_name": "LayoutModel",
      "_view_count": null,
      "_view_module": "@jupyter-widgets/base",
      "_view_module_version": "1.2.0",
      "_view_name": "LayoutView",
      "align_content": null,
      "align_items": null,
      "align_self": null,
      "border": null,
      "bottom": null,
      "display": null,
      "flex": null,
      "flex_flow": null,
      "grid_area": null,
      "grid_auto_columns": null,
      "grid_auto_flow": null,
      "grid_auto_rows": null,
      "grid_column": null,
      "grid_gap": null,
      "grid_row": null,
      "grid_template_areas": null,
      "grid_template_columns": null,
      "grid_template_rows": null,
      "height": null,
      "justify_content": null,
      "justify_items": null,
      "left": null,
      "margin": null,
      "max_height": null,
      "max_width": null,
      "min_height": null,
      "min_width": null,
      "object_fit": null,
      "object_position": null,
      "order": null,
      "overflow": null,
      "overflow_x": null,
      "overflow_y": null,
      "padding": null,
      "right": null,
      "top": null,
      "visibility": null,
      "width": null
     }
    },
    "935d73118b2a41bba5064f438a58828b": {
     "model_module": "@jupyter-widgets/base",
     "model_name": "LayoutModel",
     "state": {
      "_model_module": "@jupyter-widgets/base",
      "_model_module_version": "1.2.0",
      "_model_name": "LayoutModel",
      "_view_count": null,
      "_view_module": "@jupyter-widgets/base",
      "_view_module_version": "1.2.0",
      "_view_name": "LayoutView",
      "align_content": null,
      "align_items": null,
      "align_self": null,
      "border": null,
      "bottom": null,
      "display": null,
      "flex": null,
      "flex_flow": null,
      "grid_area": null,
      "grid_auto_columns": null,
      "grid_auto_flow": null,
      "grid_auto_rows": null,
      "grid_column": null,
      "grid_gap": null,
      "grid_row": null,
      "grid_template_areas": null,
      "grid_template_columns": null,
      "grid_template_rows": null,
      "height": null,
      "justify_content": null,
      "justify_items": null,
      "left": null,
      "margin": null,
      "max_height": null,
      "max_width": null,
      "min_height": null,
      "min_width": null,
      "object_fit": null,
      "object_position": null,
      "order": null,
      "overflow": null,
      "overflow_x": null,
      "overflow_y": null,
      "padding": null,
      "right": null,
      "top": null,
      "visibility": null,
      "width": null
     }
    },
    "99b9febe1e6e4b5bbd59ff974e177336": {
     "model_module": "@jupyter-widgets/controls",
     "model_name": "FloatProgressModel",
     "state": {
      "_dom_classes": [],
      "_model_module": "@jupyter-widgets/controls",
      "_model_module_version": "1.5.0",
      "_model_name": "FloatProgressModel",
      "_view_count": null,
      "_view_module": "@jupyter-widgets/controls",
      "_view_module_version": "1.5.0",
      "_view_name": "ProgressView",
      "bar_style": "success",
      "description": "100%",
      "description_tooltip": null,
      "layout": "IPY_MODEL_427face167244e89aa25a9d0ba055132",
      "max": 223774246,
      "min": 0,
      "orientation": "horizontal",
      "style": "IPY_MODEL_a946d5f218294445bd72da8a8ffddd60",
      "value": 223774246
     }
    },
    "a946d5f218294445bd72da8a8ffddd60": {
     "model_module": "@jupyter-widgets/controls",
     "model_name": "ProgressStyleModel",
     "state": {
      "_model_module": "@jupyter-widgets/controls",
      "_model_module_version": "1.5.0",
      "_model_name": "ProgressStyleModel",
      "_view_count": null,
      "_view_module": "@jupyter-widgets/base",
      "_view_module_version": "1.2.0",
      "_view_name": "StyleView",
      "bar_color": null,
      "description_width": "initial"
     }
    },
    "e958e6e6b77b42b183152556e491c1dc": {
     "model_module": "@jupyter-widgets/controls",
     "model_name": "DescriptionStyleModel",
     "state": {
      "_model_module": "@jupyter-widgets/controls",
      "_model_module_version": "1.5.0",
      "_model_name": "DescriptionStyleModel",
      "_view_count": null,
      "_view_module": "@jupyter-widgets/base",
      "_view_module_version": "1.2.0",
      "_view_name": "StyleView",
      "description_width": ""
     }
    },
    "eef0bb7ef97043529d48f0dc4a3166f0": {
     "model_module": "@jupyter-widgets/controls",
     "model_name": "HBoxModel",
     "state": {
      "_dom_classes": [],
      "_model_module": "@jupyter-widgets/controls",
      "_model_module_version": "1.5.0",
      "_model_name": "HBoxModel",
      "_view_count": null,
      "_view_module": "@jupyter-widgets/controls",
      "_view_module_version": "1.5.0",
      "_view_name": "HBoxView",
      "box_style": "",
      "children": [
       "IPY_MODEL_99b9febe1e6e4b5bbd59ff974e177336",
       "IPY_MODEL_0112bbca4ab24e4fb159d2fbbda906b6"
      ],
      "layout": "IPY_MODEL_ff204455f3354d38bf15861b778d978a"
     }
    },
    "ff204455f3354d38bf15861b778d978a": {
     "model_module": "@jupyter-widgets/base",
     "model_name": "LayoutModel",
     "state": {
      "_model_module": "@jupyter-widgets/base",
      "_model_module_version": "1.2.0",
      "_model_name": "LayoutModel",
      "_view_count": null,
      "_view_module": "@jupyter-widgets/base",
      "_view_module_version": "1.2.0",
      "_view_name": "LayoutView",
      "align_content": null,
      "align_items": null,
      "align_self": null,
      "border": null,
      "bottom": null,
      "display": null,
      "flex": null,
      "flex_flow": null,
      "grid_area": null,
      "grid_auto_columns": null,
      "grid_auto_flow": null,
      "grid_auto_rows": null,
      "grid_column": null,
      "grid_gap": null,
      "grid_row": null,
      "grid_template_areas": null,
      "grid_template_columns": null,
      "grid_template_rows": null,
      "height": null,
      "justify_content": null,
      "justify_items": null,
      "left": null,
      "margin": null,
      "max_height": null,
      "max_width": null,
      "min_height": null,
      "min_width": null,
      "object_fit": null,
      "object_position": null,
      "order": null,
      "overflow": null,
      "overflow_x": null,
      "overflow_y": null,
      "padding": null,
      "right": null,
      "top": null,
      "visibility": null,
      "width": null
     }
    }
   }
  }
 },
 "nbformat": 4,
 "nbformat_minor": 1
}
