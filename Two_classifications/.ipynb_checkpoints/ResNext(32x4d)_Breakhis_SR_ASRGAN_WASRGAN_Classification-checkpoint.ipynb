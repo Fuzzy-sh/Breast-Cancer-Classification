{
 "cells": [
  {
   "cell_type": "markdown",
   "metadata": {
    "id": "j8d_U6iIAEbQ"
   },
   "source": [
    "### Build and train the CNN network and retrain it by the enlarged images created by genertor model"
   ]
  },
  {
   "cell_type": "code",
   "execution_count": 1,
   "metadata": {
    "colab": {
     "base_uri": "https://localhost:8080/"
    },
    "executionInfo": {
     "elapsed": 23217,
     "status": "ok",
     "timestamp": 1610846459043,
     "user": {
      "displayName": "FAEZEHSADAT SHAHIDI MAN181002",
      "photoUrl": "",
      "userId": "15928786153813768879"
     },
     "user_tz": -480
    },
    "id": "gnZL28MH2TMQ",
    "outputId": "754cb419-f9a0-439a-cce3-23d5ab21f1bc"
   },
   "outputs": [
    {
     "name": "stdout",
     "output_type": "stream",
     "text": [
      "Mounted at /content/drive\n"
     ]
    }
   ],
   "source": [
    "from google.colab import drive\n",
    "drive.mount('/content/drive')"
   ]
  },
  {
   "cell_type": "markdown",
   "metadata": {
    "id": "2ZTjlVNQAaty"
   },
   "source": [
    "### import the liberaries"
   ]
  },
  {
   "cell_type": "code",
   "execution_count": 2,
   "metadata": {
    "executionInfo": {
     "elapsed": 26420,
     "status": "ok",
     "timestamp": 1610846462261,
     "user": {
      "displayName": "FAEZEHSADAT SHAHIDI MAN181002",
      "photoUrl": "",
      "userId": "15928786153813768879"
     },
     "user_tz": -480
    },
    "id": "x1x11QDZ4gM-"
   },
   "outputs": [],
   "source": [
    "import torch\n",
    "from torch import nn, optim\n",
    "from torchvision import datasets ,transforms, models\n",
    "import numpy as np\n",
    "import matplotlib.pyplot as plt\n",
    "import helper\n",
    "import math\n",
    "import time as evaltime\n",
    "from torch import nn\n",
    "from collections import OrderedDict\n",
    "# !pip install pretrainedmodels\n",
    "# import pretrainedmodels\n",
    "import tqdm\n",
    "from tqdm import tqdm\n",
    "import pandas as pd\n",
    "import os\n",
    "from os import listdir\n",
    "from os.path import join\n",
    "from PIL import Image\n",
    "from torch.utils.data import Dataset\n",
    "import torchvision.transforms\n",
    "from torchvision.transforms import Compose, RandomCrop, CenterCrop, Resize, ToTensor, ToPILImage, Normalize\n",
    "import torch\n",
    "from torchvision import models, datasets\n",
    "from torch import nn,optim\n",
    "from collections import OrderedDict\n",
    "import torch.autograd as autograd\n",
    "import torch.nn.functional as F\n",
    "from torch.autograd import Variable\n",
    "import math\n",
    "from math import exp\n",
    "from torch import nn,optim\n",
    "from torch.nn import SyncBatchNorm\n",
    "from torch.nn.utils import weight_norm\n",
    "import random\n",
    "#################################\n",
    "device=torch.device('cuda:0' if torch.cuda.is_available() else 'cpu')"
   ]
  },
  {
   "cell_type": "markdown",
   "metadata": {
    "id": "dS06clwVAngY"
   },
   "source": [
    "Load the pre trained model and change the FC layer to taylor the number of classes 2 and 8"
   ]
  },
  {
   "cell_type": "markdown",
   "metadata": {
    "id": "UtNfhSBeCUlq"
   },
   "source": [
    "\n",
    "### load the images to the train and test loader, with the ratio of 65/35"
   ]
  },
  {
   "cell_type": "code",
   "execution_count": 3,
   "metadata": {
    "executionInfo": {
     "elapsed": 75728,
     "status": "ok",
     "timestamp": 1610846511576,
     "user": {
      "displayName": "FAEZEHSADAT SHAHIDI MAN181002",
      "photoUrl": "",
      "userId": "15928786153813768879"
     },
     "user_tz": -480
    },
    "id": "a8BWg6-Y3Urt"
   },
   "outputs": [],
   "source": [
    "dir_two_Classes='/content/drive/My Drive/Breast-cancer/Breakhis_IEEE_ACCESS/data/breakhis/BreaKHis_v1/BreaKHis_v1/histology_slides/breast/'\n",
    "dir_checkpoints='/content/drive/My Drive/Breast-cancer/Breakhis_IEEE_ACCESS/checkpoints/'\n",
    "dir_statistics='/content/drive/My Drive/Breast-cancer/Breakhis_IEEE_ACCESS/statistics/'\n",
    "train_transform = transforms.Compose([\n",
    "                  #  ToPILImage(),\n",
    "                    transforms.Resize((64, 64),interpolation=Image.BICUBIC),\n",
    "                    transforms.RandomRotation(45),\n",
    "                    transforms.RandomVerticalFlip(p=0.5),\n",
    "                    transforms.RandomHorizontalFlip(p=0.5),\n",
    "                    transforms.ToTensor(),\n",
    "                    # transforms.Normalize((0.485, 0.456, 0.406),(0.229, 0.224, 0.225))\n",
    "])\n",
    "ratio=0.9 # split the train and test datasets with the ration of 90/10\n",
    "# dataset= DatasetFromFolder(dir_two_Classes, size=64)\n",
    "dataset= datasets.ImageFolder(dir_two_Classes,transform=train_transform)\n",
    "train_sample_len=math.ceil(len(dataset)*ratio)\n",
    "test_sample_len=len(dataset)-train_sample_len\n",
    "trainset,testset=torch.utils.data.random_split(dataset,[train_sample_len,test_sample_len])\n",
    "trainloader = torch.utils.data.DataLoader(trainset, batch_size=16, num_workers=4, shuffle=True)\n",
    "testloader =torch.utils.data.DataLoader(testset, batch_size=1, num_workers=4, shuffle=False)"
   ]
  },
  {
   "cell_type": "code",
   "execution_count": 4,
   "metadata": {
    "executionInfo": {
     "elapsed": 91178,
     "status": "ok",
     "timestamp": 1610846527030,
     "user": {
      "displayName": "FAEZEHSADAT SHAHIDI MAN181002",
      "photoUrl": "",
      "userId": "15928786153813768879"
     },
     "user_tz": -480
    },
    "id": "SOr5wX2ydsOM"
   },
   "outputs": [],
   "source": [
    "from pydrive.auth import GoogleAuth\n",
    "from pydrive.drive import GoogleDrive\n",
    "from google.colab import auth\n",
    "from oauth2client.client import GoogleCredentials\n",
    "\n",
    "# 1. Authenticate and create the PyDrive client.\n",
    "auth.authenticate_user()\n",
    "gauth = GoogleAuth()\n",
    "gauth.credentials = GoogleCredentials.get_application_default()\n",
    "drive = GoogleDrive(gauth)\n",
    "# helper= drive.CreateFile({'id': '1Ga-0QtsBF_O8YyR7JVYJiPEW8GEOn7mB'})\n",
    "# helper.GetContentFile('helper.py')\n",
    "\n",
    "models= drive.CreateFile({'id': '10lgbGUoW2FmERrYkOHuv4IBRDIpptltX'})\n",
    "models.GetContentFile('models.py')\n",
    "\n",
    "\n",
    "from models import *\n"
   ]
  },
  {
   "cell_type": "markdown",
   "metadata": {
    "id": "3fwNVR8IChX_"
   },
   "source": [
    "### showing one image out of all to be confirmed that the trainset is already loaded"
   ]
  },
  {
   "cell_type": "code",
   "execution_count": 5,
   "metadata": {
    "colab": {
     "base_uri": "https://localhost:8080/"
    },
    "executionInfo": {
     "elapsed": 112681,
     "status": "ok",
     "timestamp": 1610846548539,
     "user": {
      "displayName": "FAEZEHSADAT SHAHIDI MAN181002",
      "photoUrl": "",
      "userId": "15928786153813768879"
     },
     "user_tz": -480
    },
    "id": "JNPtMTah9m-t",
    "outputId": "8e577216-9571-4cc2-9698-1fe54ad9ed72"
   },
   "outputs": [
    {
     "name": "stdout",
     "output_type": "stream",
     "text": [
      "Generator_Self_Attention_WGAN(\n",
      "  (block1): Sequential(\n",
      "    (0): Conv2d(3, 64, kernel_size=(9, 9), stride=(1, 1), padding=(4, 4))\n",
      "    (1): PReLU(num_parameters=1)\n",
      "  )\n",
      "  (Resblocks): Sequential(\n",
      "    (0): ResidualBlocks(\n",
      "      (conv1): Conv2d(64, 64, kernel_size=(3, 3), stride=(1, 1), padding=(1, 1))\n",
      "      (bn1): BatchNorm2d(64, eps=1e-05, momentum=0.1, affine=True, track_running_stats=True)\n",
      "      (prelu): PReLU(num_parameters=1)\n",
      "      (conv2): Conv2d(64, 64, kernel_size=(3, 3), stride=(1, 1), padding=(1, 1))\n",
      "      (bn2): BatchNorm2d(64, eps=1e-05, momentum=0.1, affine=True, track_running_stats=True)\n",
      "    )\n",
      "    (1): ResidualBlocks(\n",
      "      (conv1): Conv2d(64, 64, kernel_size=(3, 3), stride=(1, 1), padding=(1, 1))\n",
      "      (bn1): BatchNorm2d(64, eps=1e-05, momentum=0.1, affine=True, track_running_stats=True)\n",
      "      (prelu): PReLU(num_parameters=1)\n",
      "      (conv2): Conv2d(64, 64, kernel_size=(3, 3), stride=(1, 1), padding=(1, 1))\n",
      "      (bn2): BatchNorm2d(64, eps=1e-05, momentum=0.1, affine=True, track_running_stats=True)\n",
      "    )\n",
      "    (2): ResidualBlocks(\n",
      "      (conv1): Conv2d(64, 64, kernel_size=(3, 3), stride=(1, 1), padding=(1, 1))\n",
      "      (bn1): BatchNorm2d(64, eps=1e-05, momentum=0.1, affine=True, track_running_stats=True)\n",
      "      (prelu): PReLU(num_parameters=1)\n",
      "      (conv2): Conv2d(64, 64, kernel_size=(3, 3), stride=(1, 1), padding=(1, 1))\n",
      "      (bn2): BatchNorm2d(64, eps=1e-05, momentum=0.1, affine=True, track_running_stats=True)\n",
      "    )\n",
      "    (3): ResidualBlocks(\n",
      "      (conv1): Conv2d(64, 64, kernel_size=(3, 3), stride=(1, 1), padding=(1, 1))\n",
      "      (bn1): BatchNorm2d(64, eps=1e-05, momentum=0.1, affine=True, track_running_stats=True)\n",
      "      (prelu): PReLU(num_parameters=1)\n",
      "      (conv2): Conv2d(64, 64, kernel_size=(3, 3), stride=(1, 1), padding=(1, 1))\n",
      "      (bn2): BatchNorm2d(64, eps=1e-05, momentum=0.1, affine=True, track_running_stats=True)\n",
      "    )\n",
      "    (4): ResidualBlocks(\n",
      "      (conv1): Conv2d(64, 64, kernel_size=(3, 3), stride=(1, 1), padding=(1, 1))\n",
      "      (bn1): BatchNorm2d(64, eps=1e-05, momentum=0.1, affine=True, track_running_stats=True)\n",
      "      (prelu): PReLU(num_parameters=1)\n",
      "      (conv2): Conv2d(64, 64, kernel_size=(3, 3), stride=(1, 1), padding=(1, 1))\n",
      "      (bn2): BatchNorm2d(64, eps=1e-05, momentum=0.1, affine=True, track_running_stats=True)\n",
      "    )\n",
      "    (5): ResidualBlocks(\n",
      "      (conv1): Conv2d(64, 64, kernel_size=(3, 3), stride=(1, 1), padding=(1, 1))\n",
      "      (bn1): BatchNorm2d(64, eps=1e-05, momentum=0.1, affine=True, track_running_stats=True)\n",
      "      (prelu): PReLU(num_parameters=1)\n",
      "      (conv2): Conv2d(64, 64, kernel_size=(3, 3), stride=(1, 1), padding=(1, 1))\n",
      "      (bn2): BatchNorm2d(64, eps=1e-05, momentum=0.1, affine=True, track_running_stats=True)\n",
      "    )\n",
      "    (6): ResidualBlocks(\n",
      "      (conv1): Conv2d(64, 64, kernel_size=(3, 3), stride=(1, 1), padding=(1, 1))\n",
      "      (bn1): BatchNorm2d(64, eps=1e-05, momentum=0.1, affine=True, track_running_stats=True)\n",
      "      (prelu): PReLU(num_parameters=1)\n",
      "      (conv2): Conv2d(64, 64, kernel_size=(3, 3), stride=(1, 1), padding=(1, 1))\n",
      "      (bn2): BatchNorm2d(64, eps=1e-05, momentum=0.1, affine=True, track_running_stats=True)\n",
      "    )\n",
      "    (7): ResidualBlocks(\n",
      "      (conv1): Conv2d(64, 64, kernel_size=(3, 3), stride=(1, 1), padding=(1, 1))\n",
      "      (bn1): BatchNorm2d(64, eps=1e-05, momentum=0.1, affine=True, track_running_stats=True)\n",
      "      (prelu): PReLU(num_parameters=1)\n",
      "      (conv2): Conv2d(64, 64, kernel_size=(3, 3), stride=(1, 1), padding=(1, 1))\n",
      "      (bn2): BatchNorm2d(64, eps=1e-05, momentum=0.1, affine=True, track_running_stats=True)\n",
      "    )\n",
      "  )\n",
      "  (block10): Sequential(\n",
      "    (0): Conv2d(64, 64, kernel_size=(3, 3), stride=(1, 1), padding=(1, 1))\n",
      "    (1): BatchNorm2d(64, eps=1e-05, momentum=0.1, affine=True, track_running_stats=True)\n",
      "  )\n",
      "  (self_atten): Self_Attention(\n",
      "    (query_conv): Conv2d(64, 8, kernel_size=(1, 1), stride=(1, 1))\n",
      "    (key_conv): Conv2d(64, 8, kernel_size=(1, 1), stride=(1, 1))\n",
      "    (value_conv): Conv2d(64, 64, kernel_size=(1, 1), stride=(1, 1))\n",
      "    (softmax): Softmax(dim=-1)\n",
      "  )\n",
      "  (block11): Sequential(\n",
      "    (0): UpsampleBlocks(\n",
      "      (conv1): Conv2d(64, 256, kernel_size=(3, 3), stride=(1, 1), padding=(1, 1))\n",
      "      (pixel_shuffle): PixelShuffle(upscale_factor=2)\n",
      "      (prelu): PReLU(num_parameters=1)\n",
      "    )\n",
      "    (1): UpsampleBlocks(\n",
      "      (conv1): Conv2d(64, 256, kernel_size=(3, 3), stride=(1, 1), padding=(1, 1))\n",
      "      (pixel_shuffle): PixelShuffle(upscale_factor=2)\n",
      "      (prelu): PReLU(num_parameters=1)\n",
      "    )\n",
      "    (2): Conv2d(64, 3, kernel_size=(9, 9), stride=(1, 1), padding=(4, 4))\n",
      "  )\n",
      ")\n",
      "Discriminator_Self_Attention_WGAN(\n",
      "  (layer1): Sequential(\n",
      "    (0): Conv2d(3, 64, kernel_size=(3, 3), stride=(1, 1), padding=(1, 1))\n",
      "    (1): PReLU(num_parameters=1)\n",
      "    (2): Conv2d(64, 64, kernel_size=(3, 3), stride=(2, 2), padding=(1, 1))\n",
      "    (3): BatchNorm2d(64, eps=1e-05, momentum=0.1, affine=True, track_running_stats=True)\n",
      "    (4): PReLU(num_parameters=1)\n",
      "    (5): Conv2d(64, 128, kernel_size=(3, 3), stride=(1, 1), padding=(1, 1))\n",
      "    (6): BatchNorm2d(128, eps=1e-05, momentum=0.1, affine=True, track_running_stats=True)\n",
      "    (7): PReLU(num_parameters=1)\n",
      "    (8): Conv2d(128, 128, kernel_size=(3, 3), stride=(2, 2), padding=(1, 1))\n",
      "    (9): BatchNorm2d(128, eps=1e-05, momentum=0.1, affine=True, track_running_stats=True)\n",
      "    (10): PReLU(num_parameters=1)\n",
      "    (11): Conv2d(128, 256, kernel_size=(3, 3), stride=(1, 1), padding=(1, 1))\n",
      "    (12): BatchNorm2d(256, eps=1e-05, momentum=0.1, affine=True, track_running_stats=True)\n",
      "    (13): PReLU(num_parameters=1)\n",
      "    (14): Conv2d(256, 256, kernel_size=(3, 3), stride=(2, 2), padding=(1, 1))\n",
      "    (15): BatchNorm2d(256, eps=1e-05, momentum=0.1, affine=True, track_running_stats=True)\n",
      "    (16): PReLU(num_parameters=1)\n",
      "  )\n",
      "  (layer2): Sequential(\n",
      "    (0): Self_Attention(\n",
      "      (query_conv): Conv2d(256, 32, kernel_size=(1, 1), stride=(1, 1))\n",
      "      (key_conv): Conv2d(256, 32, kernel_size=(1, 1), stride=(1, 1))\n",
      "      (value_conv): Conv2d(256, 256, kernel_size=(1, 1), stride=(1, 1))\n",
      "      (softmax): Softmax(dim=-1)\n",
      "    )\n",
      "  )\n",
      "  (layer3): Sequential(\n",
      "    (0): Conv2d(256, 512, kernel_size=(3, 3), stride=(1, 1), padding=(1, 1))\n",
      "    (1): BatchNorm2d(512, eps=1e-05, momentum=0.1, affine=True, track_running_stats=True)\n",
      "    (2): PReLU(num_parameters=1)\n",
      "    (3): Conv2d(512, 512, kernel_size=(3, 3), stride=(2, 2), padding=(1, 1))\n",
      "    (4): BatchNorm2d(512, eps=1e-05, momentum=0.1, affine=True, track_running_stats=True)\n",
      "    (5): PReLU(num_parameters=1)\n",
      "    (6): AdaptiveAvgPool2d(output_size=1)\n",
      "    (7): Conv2d(512, 1024, kernel_size=(1, 1), stride=(1, 1))\n",
      "    (8): PReLU(num_parameters=1)\n",
      "    (9): Conv2d(1024, 1, kernel_size=(1, 1), stride=(1, 1))\n",
      "  )\n",
      ")\n"
     ]
    }
   ],
   "source": [
    "import torch\n",
    "from torchvision import models, datasets\n",
    "from torch import nn,optim\n",
    "from collections import OrderedDict\n",
    "import torch.autograd as autograd\n",
    "import torch.nn.functional as F\n",
    "from torch.autograd import Variable\n",
    "import math\n",
    "from math import exp\n",
    "from torch import nn,optim\n",
    "from torch.nn import SyncBatchNorm\n",
    "from torch.nn.utils import weight_norm\n",
    "import random\n",
    "        \n",
    "\n",
    "        \n",
    "\n",
    "#train and validation the model \n",
    "\n",
    "#####################################\n",
    "crop_size =256\n",
    "upscale_factor=4\n",
    "num_batch_size= 16\n",
    "model='sa_srgan'\n",
    "num_epoch=500\n",
    "chech_point=-1\n",
    "n_epoch_pretrain = 2\n",
    "#################################\n",
    "\n",
    "\n",
    "\n",
    "learning_rate=1e-3\n",
    "lr_decay_steps=200\n",
    "lr_decay_gamma=0.5\n",
    "seed=1\n",
    "\n",
    "torch.backends.cudnn.benchmark=True\n",
    "device= ('cuda:0' if torch.cuda.is_available() else 'cpu')\n",
    "# device= 'cpu'\n",
    "random.seed(seed)\n",
    "torch.manual_seed(seed)\n",
    "# if run_from_colab:\n",
    "str_root='/content/drive/My Drive/Breast-cancer/SRGAN-Project-Weight_norm/'\n",
    "# else:\n",
    "#     str_root=''\n",
    "\n",
    "# train_dataset_dir= str_root+'data/Data/train_HR'\n",
    "# val_dataset_dir= str_root+'data/Data/valid_HR'\n",
    "# epoch_path_valing= str_root+'data/epoch/'\n",
    "# str_statistics= str_root+'data/statistics/'\n",
    "# str_results= str_root+'data/training_results/'\n",
    "state_dict_vgg=torch.load(str_root+\"vgg19.pth\")\n",
    "\n",
    "if model == 'sa_srgan':\n",
    "  netG=Generator_Self_Attention_WGAN(upscale_factor)\n",
    "  netD=Discriminator_Self_Attention_WGAN()\n",
    "  critirion=nn.MSELoss()\n",
    "  generator_critirion=GeneratorLoss(state_dict_vgg,model)\n",
    "  optimizerG=optim.Adam(netG.parameters(),lr=1e-4)\n",
    "  optimizerD=optim.Adam(netD.parameters(),lr=1e-4)\n",
    "\n",
    "elif model == 'srgan':\n",
    "  netG=Generator_WGAN(upscale_factor)\n",
    "  netD=Discriminator_WGAN()\n",
    "  critirion=nn.MSELoss()\n",
    "  generator_critirion=GeneratorLoss(state_dict_vgg,model)\n",
    "  optimizerG=optim.Adam(netG.parameters(),lr=1e-4)\n",
    "  optimizerD=optim.Adam(netD.parameters(),lr=1e-4)\n",
    "\n",
    "elif model == 'wa_srgan':\n",
    "  netG=Generator_Self_Attention_WGAN_WDSR(upscale_factor)\n",
    "  netD=Discriminator_Self_Attention_WGAN()\n",
    "  critirion=nn.MSELoss()\n",
    "  generator_critirion=GeneratorLoss(state_dict_vgg,model)\n",
    "  optimizerG=optim.Adam(netG.parameters(),lr=1e-4)\n",
    "  optimizerD=optim.Adam(netD.parameters(),lr=1e-4)\n",
    "\n",
    "elif model == 'wa_srgan_WN':\n",
    "  netG=Generator_Self_Attention_WGAN_WDSR_WN(upscale_factor)\n",
    "  netD=Discriminator_Self_Attention_WGAN_WN()\n",
    "  critirion=nn.MSELoss()\n",
    "  generator_critirion=GeneratorLoss(state_dict_vgg,model)\n",
    "  optimizerG=optim.Adam(netG.parameters(),lr=1e-4)\n",
    "  optimizerD=optim.Adam(netD.parameters(),lr=1e-4)\n",
    "\n",
    "print(netG)\n",
    "print(netD)"
   ]
  },
  {
   "cell_type": "code",
   "execution_count": 6,
   "metadata": {
    "colab": {
     "base_uri": "https://localhost:8080/"
    },
    "executionInfo": {
     "elapsed": 113031,
     "status": "ok",
     "timestamp": 1610846548900,
     "user": {
      "displayName": "FAEZEHSADAT SHAHIDI MAN181002",
      "photoUrl": "",
      "userId": "15928786153813768879"
     },
     "user_tz": -480
    },
    "id": "JC0s0SkDFoig",
    "outputId": "5f647d8a-36fd-4bfa-ce7d-797e38e4ad83"
   },
   "outputs": [
    {
     "data": {
      "text/plain": [
       "<All keys matched successfully>"
      ]
     },
     "execution_count": 6,
     "metadata": {
      "tags": []
     },
     "output_type": "execute_result"
    }
   ],
   "source": [
    "state_dict_netG=torch.load(str_root+\"ASRGAN_netG_epoch_21_256_4.pth\")\n",
    "# state_dict_netD=torch.load(str_root+\"wa_srgan_netD_epoch_25_256_2.pth\")\n",
    "netG.load_state_dict(state_dict_netG)\n",
    "# netD.load_state_dict(state_dict_netD)"
   ]
  },
  {
   "cell_type": "code",
   "execution_count": 7,
   "metadata": {
    "colab": {
     "base_uri": "https://localhost:8080/",
     "height": 269
    },
    "executionInfo": {
     "elapsed": 141556,
     "status": "ok",
     "timestamp": 1610846577439,
     "user": {
      "displayName": "FAEZEHSADAT SHAHIDI MAN181002",
      "photoUrl": "",
      "userId": "15928786153813768879"
     },
     "user_tz": -480
    },
    "id": "WaOcXU_GCmQ3",
    "outputId": "c283c48e-21d4-42e1-a529-b26d3afa4669"
   },
   "outputs": [
    {
     "data": {
      "image/png": "[encoded data removed]",
      "text/plain": [
       "<Figure size 432x288 with 1 Axes>"
      ]
     },
     "metadata": {
      "needs_background": "light",
      "tags": []
     },
     "output_type": "display_data"
    }
   ],
   "source": [
    "netG.eval()\n",
    "with torch.no_grad():\n",
    "  images, labels=iter(trainloader).next()\n",
    "  sr_img=netG(images)\n",
    "  img=sr_img\n",
    "  # images[0][0].shape\n",
    "\n",
    "  # images.size\n",
    "  # img=torch.squeeze(img,0)\n",
    "  batch_number_count=img.size(0)\n",
    "  sr_img=sr_img.permute(0,2,3,1)\n",
    "  sr_img=torch.squeeze(sr_img,0)\n",
    "  plt.imshow(sr_img[0])\n",
    "\n",
    "  for i in range(batch_number_count):\n",
    "    img[i,0,:,:] = (img[i,0,:,:] - 0.485)/0.229\n",
    "    img[i,1,:,:] = (img[i,1,:,:] - 0.456)/0.224\n",
    "    img[i,2,:,:] = (img[i,2,:,:] - 0.406)/0.225\n",
    "\n",
    "\n",
    "  # images[0][0]\n",
    "  # sr_img.shape"
   ]
  },
  {
   "cell_type": "code",
   "execution_count": 8,
   "metadata": {
    "colab": {
     "base_uri": "https://localhost:8080/",
     "height": 303
    },
    "executionInfo": {
     "elapsed": 141544,
     "status": "ok",
     "timestamp": 1610846577440,
     "user": {
      "displayName": "FAEZEHSADAT SHAHIDI MAN181002",
      "photoUrl": "",
      "userId": "15928786153813768879"
     },
     "user_tz": -480
    },
    "id": "4JQ36EM4aBdc",
    "outputId": "dd1c2c61-a634-4eec-e649-47d8b843c289"
   },
   "outputs": [
    {
     "name": "stderr",
     "output_type": "stream",
     "text": [
      "Clipping input data to the valid range for imshow with RGB data ([0..1] for floats or [0..255] for integers).\n"
     ]
    },
    {
     "data": {
      "text/plain": [
       "<matplotlib.image.AxesImage at 0x7fb7b1539400>"
      ]
     },
     "execution_count": 8,
     "metadata": {
      "tags": []
     },
     "output_type": "execute_result"
    },
    {
     "data": {
      "image/png": "[encoded data removed]",
      "text/plain": [
       "<Figure size 432x288 with 1 Axes>"
      ]
     },
     "metadata": {
      "needs_background": "light",
      "tags": []
     },
     "output_type": "display_data"
    }
   ],
   "source": [
    "  img=img.permute(0,2,3,1)\n",
    "  img=torch.squeeze(img,0)\n",
    "  plt.imshow(img[0])"
   ]
  },
  {
   "cell_type": "code",
   "execution_count": 9,
   "metadata": {
    "colab": {
     "base_uri": "https://localhost:8080/",
     "height": 1000,
     "referenced_widgets": [
      "3360503cf21e4213bd496c19cba1c2d7",
      "7ee95d9da9fa4153b94bb94cb8c3436e",
      "2d5da869ae7b4ad39c8c9dc2a7cc589e",
      "e25898573428487da5a91c074405d88a",
      "cfb37849881448f1be5ca3242dd2e263",
      "694ad37381fc4f6a9c7542484bd40577",
      "cb8bb18befb0483ca1d38f7b1ec2fd4b",
      "3aa2f4f4eba44d8d993cc20c42eb8d86"
     ]
    },
    "executionInfo": {
     "elapsed": 149082,
     "status": "ok",
     "timestamp": 1610846584988,
     "user": {
      "displayName": "FAEZEHSADAT SHAHIDI MAN181002",
      "photoUrl": "",
      "userId": "15928786153813768879"
     },
     "user_tz": -480
    },
    "id": "gBOjYi1woPSN",
    "outputId": "679a0297-d17e-419c-fb9f-7eff5321e5d0"
   },
   "outputs": [
    {
     "name": "stderr",
     "output_type": "stream",
     "text": [
      "Downloading: \"https://download.pytorch.org/models/resnext101_32x8d-8ba56ff5.pth\" to /root/.cache/torch/hub/checkpoints/resnext101_32x8d-8ba56ff5.pth\n"
     ]
    },
    {
     "data": {
      "application/vnd.jupyter.widget-view+json": {
       "model_id": "3360503cf21e4213bd496c19cba1c2d7",
       "version_major": 2,
       "version_minor": 0
      },
      "text/plain": [
       "HBox(children=(FloatProgress(value=0.0, max=356082095.0), HTML(value='')))"
      ]
     },
     "metadata": {
      "tags": []
     },
     "output_type": "display_data"
    },
    {
     "name": "stdout",
     "output_type": "stream",
     "text": [
      "\n"
     ]
    },
    {
     "data": {
      "text/plain": [
       "ResNet(\n",
       "  (conv1): Conv2d(3, 64, kernel_size=(7, 7), stride=(2, 2), padding=(3, 3), bias=False)\n",
       "  (bn1): BatchNorm2d(64, eps=1e-05, momentum=0.1, affine=True, track_running_stats=True)\n",
       "  (relu): ReLU(inplace=True)\n",
       "  (maxpool): MaxPool2d(kernel_size=3, stride=2, padding=1, dilation=1, ceil_mode=False)\n",
       "  (layer1): Sequential(\n",
       "    (0): Bottleneck(\n",
       "      (conv1): Conv2d(64, 256, kernel_size=(1, 1), stride=(1, 1), bias=False)\n",
       "      (bn1): BatchNorm2d(256, eps=1e-05, momentum=0.1, affine=True, track_running_stats=True)\n",
       "      (conv2): Conv2d(256, 256, kernel_size=(3, 3), stride=(1, 1), padding=(1, 1), groups=32, bias=False)\n",
       "      (bn2): BatchNorm2d(256, eps=1e-05, momentum=0.1, affine=True, track_running_stats=True)\n",
       "      (conv3): Conv2d(256, 256, kernel_size=(1, 1), stride=(1, 1), bias=False)\n",
       "      (bn3): BatchNorm2d(256, eps=1e-05, momentum=0.1, affine=True, track_running_stats=True)\n",
       "      (relu): ReLU(inplace=True)\n",
       "      (downsample): Sequential(\n",
       "        (0): Conv2d(64, 256, kernel_size=(1, 1), stride=(1, 1), bias=False)\n",
       "        (1): BatchNorm2d(256, eps=1e-05, momentum=0.1, affine=True, track_running_stats=True)\n",
       "      )\n",
       "    )\n",
       "    (1): Bottleneck(\n",
       "      (conv1): Conv2d(256, 256, kernel_size=(1, 1), stride=(1, 1), bias=False)\n",
       "      (bn1): BatchNorm2d(256, eps=1e-05, momentum=0.1, affine=True, track_running_stats=True)\n",
       "      (conv2): Conv2d(256, 256, kernel_size=(3, 3), stride=(1, 1), padding=(1, 1), groups=32, bias=False)\n",
       "      (bn2): BatchNorm2d(256, eps=1e-05, momentum=0.1, affine=True, track_running_stats=True)\n",
       "      (conv3): Conv2d(256, 256, kernel_size=(1, 1), stride=(1, 1), bias=False)\n",
       "      (bn3): BatchNorm2d(256, eps=1e-05, momentum=0.1, affine=True, track_running_stats=True)\n",
       "      (relu): ReLU(inplace=True)\n",
       "    )\n",
       "    (2): Bottleneck(\n",
       "      (conv1): Conv2d(256, 256, kernel_size=(1, 1), stride=(1, 1), bias=False)\n",
       "      (bn1): BatchNorm2d(256, eps=1e-05, momentum=0.1, affine=True, track_running_stats=True)\n",
       "      (conv2): Conv2d(256, 256, kernel_size=(3, 3), stride=(1, 1), padding=(1, 1), groups=32, bias=False)\n",
       "      (bn2): BatchNorm2d(256, eps=1e-05, momentum=0.1, affine=True, track_running_stats=True)\n",
       "      (conv3): Conv2d(256, 256, kernel_size=(1, 1), stride=(1, 1), bias=False)\n",
       "      (bn3): BatchNorm2d(256, eps=1e-05, momentum=0.1, affine=True, track_running_stats=True)\n",
       "      (relu): ReLU(inplace=True)\n",
       "    )\n",
       "  )\n",
       "  (layer2): Sequential(\n",
       "    (0): Bottleneck(\n",
       "      (conv1): Conv2d(256, 512, kernel_size=(1, 1), stride=(1, 1), bias=False)\n",
       "      (bn1): BatchNorm2d(512, eps=1e-05, momentum=0.1, affine=True, track_running_stats=True)\n",
       "      (conv2): Conv2d(512, 512, kernel_size=(3, 3), stride=(2, 2), padding=(1, 1), groups=32, bias=False)\n",
       "      (bn2): BatchNorm2d(512, eps=1e-05, momentum=0.1, affine=True, track_running_stats=True)\n",
       "      (conv3): Conv2d(512, 512, kernel_size=(1, 1), stride=(1, 1), bias=False)\n",
       "      (bn3): BatchNorm2d(512, eps=1e-05, momentum=0.1, affine=True, track_running_stats=True)\n",
       "      (relu): ReLU(inplace=True)\n",
       "      (downsample): Sequential(\n",
       "        (0): Conv2d(256, 512, kernel_size=(1, 1), stride=(2, 2), bias=False)\n",
       "        (1): BatchNorm2d(512, eps=1e-05, momentum=0.1, affine=True, track_running_stats=True)\n",
       "      )\n",
       "    )\n",
       "    (1): Bottleneck(\n",
       "      (conv1): Conv2d(512, 512, kernel_size=(1, 1), stride=(1, 1), bias=False)\n",
       "      (bn1): BatchNorm2d(512, eps=1e-05, momentum=0.1, affine=True, track_running_stats=True)\n",
       "      (conv2): Conv2d(512, 512, kernel_size=(3, 3), stride=(1, 1), padding=(1, 1), groups=32, bias=False)\n",
       "      (bn2): BatchNorm2d(512, eps=1e-05, momentum=0.1, affine=True, track_running_stats=True)\n",
       "      (conv3): Conv2d(512, 512, kernel_size=(1, 1), stride=(1, 1), bias=False)\n",
       "      (bn3): BatchNorm2d(512, eps=1e-05, momentum=0.1, affine=True, track_running_stats=True)\n",
       "      (relu): ReLU(inplace=True)\n",
       "    )\n",
       "    (2): Bottleneck(\n",
       "      (conv1): Conv2d(512, 512, kernel_size=(1, 1), stride=(1, 1), bias=False)\n",
       "      (bn1): BatchNorm2d(512, eps=1e-05, momentum=0.1, affine=True, track_running_stats=True)\n",
       "      (conv2): Conv2d(512, 512, kernel_size=(3, 3), stride=(1, 1), padding=(1, 1), groups=32, bias=False)\n",
       "      (bn2): BatchNorm2d(512, eps=1e-05, momentum=0.1, affine=True, track_running_stats=True)\n",
       "      (conv3): Conv2d(512, 512, kernel_size=(1, 1), stride=(1, 1), bias=False)\n",
       "      (bn3): BatchNorm2d(512, eps=1e-05, momentum=0.1, affine=True, track_running_stats=True)\n",
       "      (relu): ReLU(inplace=True)\n",
       "    )\n",
       "    (3): Bottleneck(\n",
       "      (conv1): Conv2d(512, 512, kernel_size=(1, 1), stride=(1, 1), bias=False)\n",
       "      (bn1): BatchNorm2d(512, eps=1e-05, momentum=0.1, affine=True, track_running_stats=True)\n",
       "      (conv2): Conv2d(512, 512, kernel_size=(3, 3), stride=(1, 1), padding=(1, 1), groups=32, bias=False)\n",
       "      (bn2): BatchNorm2d(512, eps=1e-05, momentum=0.1, affine=True, track_running_stats=True)\n",
       "      (conv3): Conv2d(512, 512, kernel_size=(1, 1), stride=(1, 1), bias=False)\n",
       "      (bn3): BatchNorm2d(512, eps=1e-05, momentum=0.1, affine=True, track_running_stats=True)\n",
       "      (relu): ReLU(inplace=True)\n",
       "    )\n",
       "  )\n",
       "  (layer3): Sequential(\n",
       "    (0): Bottleneck(\n",
       "      (conv1): Conv2d(512, 1024, kernel_size=(1, 1), stride=(1, 1), bias=False)\n",
       "      (bn1): BatchNorm2d(1024, eps=1e-05, momentum=0.1, affine=True, track_running_stats=True)\n",
       "      (conv2): Conv2d(1024, 1024, kernel_size=(3, 3), stride=(2, 2), padding=(1, 1), groups=32, bias=False)\n",
       "      (bn2): BatchNorm2d(1024, eps=1e-05, momentum=0.1, affine=True, track_running_stats=True)\n",
       "      (conv3): Conv2d(1024, 1024, kernel_size=(1, 1), stride=(1, 1), bias=False)\n",
       "      (bn3): BatchNorm2d(1024, eps=1e-05, momentum=0.1, affine=True, track_running_stats=True)\n",
       "      (relu): ReLU(inplace=True)\n",
       "      (downsample): Sequential(\n",
       "        (0): Conv2d(512, 1024, kernel_size=(1, 1), stride=(2, 2), bias=False)\n",
       "        (1): BatchNorm2d(1024, eps=1e-05, momentum=0.1, affine=True, track_running_stats=True)\n",
       "      )\n",
       "    )\n",
       "    (1): Bottleneck(\n",
       "      (conv1): Conv2d(1024, 1024, kernel_size=(1, 1), stride=(1, 1), bias=False)\n",
       "      (bn1): BatchNorm2d(1024, eps=1e-05, momentum=0.1, affine=True, track_running_stats=True)\n",
       "      (conv2): Conv2d(1024, 1024, kernel_size=(3, 3), stride=(1, 1), padding=(1, 1), groups=32, bias=False)\n",
       "      (bn2): BatchNorm2d(1024, eps=1e-05, momentum=0.1, affine=True, track_running_stats=True)\n",
       "      (conv3): Conv2d(1024, 1024, kernel_size=(1, 1), stride=(1, 1), bias=False)\n",
       "      (bn3): BatchNorm2d(1024, eps=1e-05, momentum=0.1, affine=True, track_running_stats=True)\n",
       "      (relu): ReLU(inplace=True)\n",
       "    )\n",
       "    (2): Bottleneck(\n",
       "      (conv1): Conv2d(1024, 1024, kernel_size=(1, 1), stride=(1, 1), bias=False)\n",
       "      (bn1): BatchNorm2d(1024, eps=1e-05, momentum=0.1, affine=True, track_running_stats=True)\n",
       "      (conv2): Conv2d(1024, 1024, kernel_size=(3, 3), stride=(1, 1), padding=(1, 1), groups=32, bias=False)\n",
       "      (bn2): BatchNorm2d(1024, eps=1e-05, momentum=0.1, affine=True, track_running_stats=True)\n",
       "      (conv3): Conv2d(1024, 1024, kernel_size=(1, 1), stride=(1, 1), bias=False)\n",
       "      (bn3): BatchNorm2d(1024, eps=1e-05, momentum=0.1, affine=True, track_running_stats=True)\n",
       "      (relu): ReLU(inplace=True)\n",
       "    )\n",
       "    (3): Bottleneck(\n",
       "      (conv1): Conv2d(1024, 1024, kernel_size=(1, 1), stride=(1, 1), bias=False)\n",
       "      (bn1): BatchNorm2d(1024, eps=1e-05, momentum=0.1, affine=True, track_running_stats=True)\n",
       "      (conv2): Conv2d(1024, 1024, kernel_size=(3, 3), stride=(1, 1), padding=(1, 1), groups=32, bias=False)\n",
       "      (bn2): BatchNorm2d(1024, eps=1e-05, momentum=0.1, affine=True, track_running_stats=True)\n",
       "      (conv3): Conv2d(1024, 1024, kernel_size=(1, 1), stride=(1, 1), bias=False)\n",
       "      (bn3): BatchNorm2d(1024, eps=1e-05, momentum=0.1, affine=True, track_running_stats=True)\n",
       "      (relu): ReLU(inplace=True)\n",
       "    )\n",
       "    (4): Bottleneck(\n",
       "      (conv1): Conv2d(1024, 1024, kernel_size=(1, 1), stride=(1, 1), bias=False)\n",
       "      (bn1): BatchNorm2d(1024, eps=1e-05, momentum=0.1, affine=True, track_running_stats=True)\n",
       "      (conv2): Conv2d(1024, 1024, kernel_size=(3, 3), stride=(1, 1), padding=(1, 1), groups=32, bias=False)\n",
       "      (bn2): BatchNorm2d(1024, eps=1e-05, momentum=0.1, affine=True, track_running_stats=True)\n",
       "      (conv3): Conv2d(1024, 1024, kernel_size=(1, 1), stride=(1, 1), bias=False)\n",
       "      (bn3): BatchNorm2d(1024, eps=1e-05, momentum=0.1, affine=True, track_running_stats=True)\n",
       "      (relu): ReLU(inplace=True)\n",
       "    )\n",
       "    (5): Bottleneck(\n",
       "      (conv1): Conv2d(1024, 1024, kernel_size=(1, 1), stride=(1, 1), bias=False)\n",
       "      (bn1): BatchNorm2d(1024, eps=1e-05, momentum=0.1, affine=True, track_running_stats=True)\n",
       "      (conv2): Conv2d(1024, 1024, kernel_size=(3, 3), stride=(1, 1), padding=(1, 1), groups=32, bias=False)\n",
       "      (bn2): BatchNorm2d(1024, eps=1e-05, momentum=0.1, affine=True, track_running_stats=True)\n",
       "      (conv3): Conv2d(1024, 1024, kernel_size=(1, 1), stride=(1, 1), bias=False)\n",
       "      (bn3): BatchNorm2d(1024, eps=1e-05, momentum=0.1, affine=True, track_running_stats=True)\n",
       "      (relu): ReLU(inplace=True)\n",
       "    )\n",
       "    (6): Bottleneck(\n",
       "      (conv1): Conv2d(1024, 1024, kernel_size=(1, 1), stride=(1, 1), bias=False)\n",
       "      (bn1): BatchNorm2d(1024, eps=1e-05, momentum=0.1, affine=True, track_running_stats=True)\n",
       "      (conv2): Conv2d(1024, 1024, kernel_size=(3, 3), stride=(1, 1), padding=(1, 1), groups=32, bias=False)\n",
       "      (bn2): BatchNorm2d(1024, eps=1e-05, momentum=0.1, affine=True, track_running_stats=True)\n",
       "      (conv3): Conv2d(1024, 1024, kernel_size=(1, 1), stride=(1, 1), bias=False)\n",
       "      (bn3): BatchNorm2d(1024, eps=1e-05, momentum=0.1, affine=True, track_running_stats=True)\n",
       "      (relu): ReLU(inplace=True)\n",
       "    )\n",
       "    (7): Bottleneck(\n",
       "      (conv1): Conv2d(1024, 1024, kernel_size=(1, 1), stride=(1, 1), bias=False)\n",
       "      (bn1): BatchNorm2d(1024, eps=1e-05, momentum=0.1, affine=True, track_running_stats=True)\n",
       "      (conv2): Conv2d(1024, 1024, kernel_size=(3, 3), stride=(1, 1), padding=(1, 1), groups=32, bias=False)\n",
       "      (bn2): BatchNorm2d(1024, eps=1e-05, momentum=0.1, affine=True, track_running_stats=True)\n",
       "      (conv3): Conv2d(1024, 1024, kernel_size=(1, 1), stride=(1, 1), bias=False)\n",
       "      (bn3): BatchNorm2d(1024, eps=1e-05, momentum=0.1, affine=True, track_running_stats=True)\n",
       "      (relu): ReLU(inplace=True)\n",
       "    )\n",
       "    (8): Bottleneck(\n",
       "      (conv1): Conv2d(1024, 1024, kernel_size=(1, 1), stride=(1, 1), bias=False)\n",
       "      (bn1): BatchNorm2d(1024, eps=1e-05, momentum=0.1, affine=True, track_running_stats=True)\n",
       "      (conv2): Conv2d(1024, 1024, kernel_size=(3, 3), stride=(1, 1), padding=(1, 1), groups=32, bias=False)\n",
       "      (bn2): BatchNorm2d(1024, eps=1e-05, momentum=0.1, affine=True, track_running_stats=True)\n",
       "      (conv3): Conv2d(1024, 1024, kernel_size=(1, 1), stride=(1, 1), bias=False)\n",
       "      (bn3): BatchNorm2d(1024, eps=1e-05, momentum=0.1, affine=True, track_running_stats=True)\n",
       "      (relu): ReLU(inplace=True)\n",
       "    )\n",
       "    (9): Bottleneck(\n",
       "      (conv1): Conv2d(1024, 1024, kernel_size=(1, 1), stride=(1, 1), bias=False)\n",
       "      (bn1): BatchNorm2d(1024, eps=1e-05, momentum=0.1, affine=True, track_running_stats=True)\n",
       "      (conv2): Conv2d(1024, 1024, kernel_size=(3, 3), stride=(1, 1), padding=(1, 1), groups=32, bias=False)\n",
       "      (bn2): BatchNorm2d(1024, eps=1e-05, momentum=0.1, affine=True, track_running_stats=True)\n",
       "      (conv3): Conv2d(1024, 1024, kernel_size=(1, 1), stride=(1, 1), bias=False)\n",
       "      (bn3): BatchNorm2d(1024, eps=1e-05, momentum=0.1, affine=True, track_running_stats=True)\n",
       "      (relu): ReLU(inplace=True)\n",
       "    )\n",
       "    (10): Bottleneck(\n",
       "      (conv1): Conv2d(1024, 1024, kernel_size=(1, 1), stride=(1, 1), bias=False)\n",
       "      (bn1): BatchNorm2d(1024, eps=1e-05, momentum=0.1, affine=True, track_running_stats=True)\n",
       "      (conv2): Conv2d(1024, 1024, kernel_size=(3, 3), stride=(1, 1), padding=(1, 1), groups=32, bias=False)\n",
       "      (bn2): BatchNorm2d(1024, eps=1e-05, momentum=0.1, affine=True, track_running_stats=True)\n",
       "      (conv3): Conv2d(1024, 1024, kernel_size=(1, 1), stride=(1, 1), bias=False)\n",
       "      (bn3): BatchNorm2d(1024, eps=1e-05, momentum=0.1, affine=True, track_running_stats=True)\n",
       "      (relu): ReLU(inplace=True)\n",
       "    )\n",
       "    (11): Bottleneck(\n",
       "      (conv1): Conv2d(1024, 1024, kernel_size=(1, 1), stride=(1, 1), bias=False)\n",
       "      (bn1): BatchNorm2d(1024, eps=1e-05, momentum=0.1, affine=True, track_running_stats=True)\n",
       "      (conv2): Conv2d(1024, 1024, kernel_size=(3, 3), stride=(1, 1), padding=(1, 1), groups=32, bias=False)\n",
       "      (bn2): BatchNorm2d(1024, eps=1e-05, momentum=0.1, affine=True, track_running_stats=True)\n",
       "      (conv3): Conv2d(1024, 1024, kernel_size=(1, 1), stride=(1, 1), bias=False)\n",
       "      (bn3): BatchNorm2d(1024, eps=1e-05, momentum=0.1, affine=True, track_running_stats=True)\n",
       "      (relu): ReLU(inplace=True)\n",
       "    )\n",
       "    (12): Bottleneck(\n",
       "      (conv1): Conv2d(1024, 1024, kernel_size=(1, 1), stride=(1, 1), bias=False)\n",
       "      (bn1): BatchNorm2d(1024, eps=1e-05, momentum=0.1, affine=True, track_running_stats=True)\n",
       "      (conv2): Conv2d(1024, 1024, kernel_size=(3, 3), stride=(1, 1), padding=(1, 1), groups=32, bias=False)\n",
       "      (bn2): BatchNorm2d(1024, eps=1e-05, momentum=0.1, affine=True, track_running_stats=True)\n",
       "      (conv3): Conv2d(1024, 1024, kernel_size=(1, 1), stride=(1, 1), bias=False)\n",
       "      (bn3): BatchNorm2d(1024, eps=1e-05, momentum=0.1, affine=True, track_running_stats=True)\n",
       "      (relu): ReLU(inplace=True)\n",
       "    )\n",
       "    (13): Bottleneck(\n",
       "      (conv1): Conv2d(1024, 1024, kernel_size=(1, 1), stride=(1, 1), bias=False)\n",
       "      (bn1): BatchNorm2d(1024, eps=1e-05, momentum=0.1, affine=True, track_running_stats=True)\n",
       "      (conv2): Conv2d(1024, 1024, kernel_size=(3, 3), stride=(1, 1), padding=(1, 1), groups=32, bias=False)\n",
       "      (bn2): BatchNorm2d(1024, eps=1e-05, momentum=0.1, affine=True, track_running_stats=True)\n",
       "      (conv3): Conv2d(1024, 1024, kernel_size=(1, 1), stride=(1, 1), bias=False)\n",
       "      (bn3): BatchNorm2d(1024, eps=1e-05, momentum=0.1, affine=True, track_running_stats=True)\n",
       "      (relu): ReLU(inplace=True)\n",
       "    )\n",
       "    (14): Bottleneck(\n",
       "      (conv1): Conv2d(1024, 1024, kernel_size=(1, 1), stride=(1, 1), bias=False)\n",
       "      (bn1): BatchNorm2d(1024, eps=1e-05, momentum=0.1, affine=True, track_running_stats=True)\n",
       "      (conv2): Conv2d(1024, 1024, kernel_size=(3, 3), stride=(1, 1), padding=(1, 1), groups=32, bias=False)\n",
       "      (bn2): BatchNorm2d(1024, eps=1e-05, momentum=0.1, affine=True, track_running_stats=True)\n",
       "      (conv3): Conv2d(1024, 1024, kernel_size=(1, 1), stride=(1, 1), bias=False)\n",
       "      (bn3): BatchNorm2d(1024, eps=1e-05, momentum=0.1, affine=True, track_running_stats=True)\n",
       "      (relu): ReLU(inplace=True)\n",
       "    )\n",
       "    (15): Bottleneck(\n",
       "      (conv1): Conv2d(1024, 1024, kernel_size=(1, 1), stride=(1, 1), bias=False)\n",
       "      (bn1): BatchNorm2d(1024, eps=1e-05, momentum=0.1, affine=True, track_running_stats=True)\n",
       "      (conv2): Conv2d(1024, 1024, kernel_size=(3, 3), stride=(1, 1), padding=(1, 1), groups=32, bias=False)\n",
       "      (bn2): BatchNorm2d(1024, eps=1e-05, momentum=0.1, affine=True, track_running_stats=True)\n",
       "      (conv3): Conv2d(1024, 1024, kernel_size=(1, 1), stride=(1, 1), bias=False)\n",
       "      (bn3): BatchNorm2d(1024, eps=1e-05, momentum=0.1, affine=True, track_running_stats=True)\n",
       "      (relu): ReLU(inplace=True)\n",
       "    )\n",
       "    (16): Bottleneck(\n",
       "      (conv1): Conv2d(1024, 1024, kernel_size=(1, 1), stride=(1, 1), bias=False)\n",
       "      (bn1): BatchNorm2d(1024, eps=1e-05, momentum=0.1, affine=True, track_running_stats=True)\n",
       "      (conv2): Conv2d(1024, 1024, kernel_size=(3, 3), stride=(1, 1), padding=(1, 1), groups=32, bias=False)\n",
       "      (bn2): BatchNorm2d(1024, eps=1e-05, momentum=0.1, affine=True, track_running_stats=True)\n",
       "      (conv3): Conv2d(1024, 1024, kernel_size=(1, 1), stride=(1, 1), bias=False)\n",
       "      (bn3): BatchNorm2d(1024, eps=1e-05, momentum=0.1, affine=True, track_running_stats=True)\n",
       "      (relu): ReLU(inplace=True)\n",
       "    )\n",
       "    (17): Bottleneck(\n",
       "      (conv1): Conv2d(1024, 1024, kernel_size=(1, 1), stride=(1, 1), bias=False)\n",
       "      (bn1): BatchNorm2d(1024, eps=1e-05, momentum=0.1, affine=True, track_running_stats=True)\n",
       "      (conv2): Conv2d(1024, 1024, kernel_size=(3, 3), stride=(1, 1), padding=(1, 1), groups=32, bias=False)\n",
       "      (bn2): BatchNorm2d(1024, eps=1e-05, momentum=0.1, affine=True, track_running_stats=True)\n",
       "      (conv3): Conv2d(1024, 1024, kernel_size=(1, 1), stride=(1, 1), bias=False)\n",
       "      (bn3): BatchNorm2d(1024, eps=1e-05, momentum=0.1, affine=True, track_running_stats=True)\n",
       "      (relu): ReLU(inplace=True)\n",
       "    )\n",
       "    (18): Bottleneck(\n",
       "      (conv1): Conv2d(1024, 1024, kernel_size=(1, 1), stride=(1, 1), bias=False)\n",
       "      (bn1): BatchNorm2d(1024, eps=1e-05, momentum=0.1, affine=True, track_running_stats=True)\n",
       "      (conv2): Conv2d(1024, 1024, kernel_size=(3, 3), stride=(1, 1), padding=(1, 1), groups=32, bias=False)\n",
       "      (bn2): BatchNorm2d(1024, eps=1e-05, momentum=0.1, affine=True, track_running_stats=True)\n",
       "      (conv3): Conv2d(1024, 1024, kernel_size=(1, 1), stride=(1, 1), bias=False)\n",
       "      (bn3): BatchNorm2d(1024, eps=1e-05, momentum=0.1, affine=True, track_running_stats=True)\n",
       "      (relu): ReLU(inplace=True)\n",
       "    )\n",
       "    (19): Bottleneck(\n",
       "      (conv1): Conv2d(1024, 1024, kernel_size=(1, 1), stride=(1, 1), bias=False)\n",
       "      (bn1): BatchNorm2d(1024, eps=1e-05, momentum=0.1, affine=True, track_running_stats=True)\n",
       "      (conv2): Conv2d(1024, 1024, kernel_size=(3, 3), stride=(1, 1), padding=(1, 1), groups=32, bias=False)\n",
       "      (bn2): BatchNorm2d(1024, eps=1e-05, momentum=0.1, affine=True, track_running_stats=True)\n",
       "      (conv3): Conv2d(1024, 1024, kernel_size=(1, 1), stride=(1, 1), bias=False)\n",
       "      (bn3): BatchNorm2d(1024, eps=1e-05, momentum=0.1, affine=True, track_running_stats=True)\n",
       "      (relu): ReLU(inplace=True)\n",
       "    )\n",
       "    (20): Bottleneck(\n",
       "      (conv1): Conv2d(1024, 1024, kernel_size=(1, 1), stride=(1, 1), bias=False)\n",
       "      (bn1): BatchNorm2d(1024, eps=1e-05, momentum=0.1, affine=True, track_running_stats=True)\n",
       "      (conv2): Conv2d(1024, 1024, kernel_size=(3, 3), stride=(1, 1), padding=(1, 1), groups=32, bias=False)\n",
       "      (bn2): BatchNorm2d(1024, eps=1e-05, momentum=0.1, affine=True, track_running_stats=True)\n",
       "      (conv3): Conv2d(1024, 1024, kernel_size=(1, 1), stride=(1, 1), bias=False)\n",
       "      (bn3): BatchNorm2d(1024, eps=1e-05, momentum=0.1, affine=True, track_running_stats=True)\n",
       "      (relu): ReLU(inplace=True)\n",
       "    )\n",
       "    (21): Bottleneck(\n",
       "      (conv1): Conv2d(1024, 1024, kernel_size=(1, 1), stride=(1, 1), bias=False)\n",
       "      (bn1): BatchNorm2d(1024, eps=1e-05, momentum=0.1, affine=True, track_running_stats=True)\n",
       "      (conv2): Conv2d(1024, 1024, kernel_size=(3, 3), stride=(1, 1), padding=(1, 1), groups=32, bias=False)\n",
       "      (bn2): BatchNorm2d(1024, eps=1e-05, momentum=0.1, affine=True, track_running_stats=True)\n",
       "      (conv3): Conv2d(1024, 1024, kernel_size=(1, 1), stride=(1, 1), bias=False)\n",
       "      (bn3): BatchNorm2d(1024, eps=1e-05, momentum=0.1, affine=True, track_running_stats=True)\n",
       "      (relu): ReLU(inplace=True)\n",
       "    )\n",
       "    (22): Bottleneck(\n",
       "      (conv1): Conv2d(1024, 1024, kernel_size=(1, 1), stride=(1, 1), bias=False)\n",
       "      (bn1): BatchNorm2d(1024, eps=1e-05, momentum=0.1, affine=True, track_running_stats=True)\n",
       "      (conv2): Conv2d(1024, 1024, kernel_size=(3, 3), stride=(1, 1), padding=(1, 1), groups=32, bias=False)\n",
       "      (bn2): BatchNorm2d(1024, eps=1e-05, momentum=0.1, affine=True, track_running_stats=True)\n",
       "      (conv3): Conv2d(1024, 1024, kernel_size=(1, 1), stride=(1, 1), bias=False)\n",
       "      (bn3): BatchNorm2d(1024, eps=1e-05, momentum=0.1, affine=True, track_running_stats=True)\n",
       "      (relu): ReLU(inplace=True)\n",
       "    )\n",
       "  )\n",
       "  (layer4): Sequential(\n",
       "    (0): Bottleneck(\n",
       "      (conv1): Conv2d(1024, 2048, kernel_size=(1, 1), stride=(1, 1), bias=False)\n",
       "      (bn1): BatchNorm2d(2048, eps=1e-05, momentum=0.1, affine=True, track_running_stats=True)\n",
       "      (conv2): Conv2d(2048, 2048, kernel_size=(3, 3), stride=(2, 2), padding=(1, 1), groups=32, bias=False)\n",
       "      (bn2): BatchNorm2d(2048, eps=1e-05, momentum=0.1, affine=True, track_running_stats=True)\n",
       "      (conv3): Conv2d(2048, 2048, kernel_size=(1, 1), stride=(1, 1), bias=False)\n",
       "      (bn3): BatchNorm2d(2048, eps=1e-05, momentum=0.1, affine=True, track_running_stats=True)\n",
       "      (relu): ReLU(inplace=True)\n",
       "      (downsample): Sequential(\n",
       "        (0): Conv2d(1024, 2048, kernel_size=(1, 1), stride=(2, 2), bias=False)\n",
       "        (1): BatchNorm2d(2048, eps=1e-05, momentum=0.1, affine=True, track_running_stats=True)\n",
       "      )\n",
       "    )\n",
       "    (1): Bottleneck(\n",
       "      (conv1): Conv2d(2048, 2048, kernel_size=(1, 1), stride=(1, 1), bias=False)\n",
       "      (bn1): BatchNorm2d(2048, eps=1e-05, momentum=0.1, affine=True, track_running_stats=True)\n",
       "      (conv2): Conv2d(2048, 2048, kernel_size=(3, 3), stride=(1, 1), padding=(1, 1), groups=32, bias=False)\n",
       "      (bn2): BatchNorm2d(2048, eps=1e-05, momentum=0.1, affine=True, track_running_stats=True)\n",
       "      (conv3): Conv2d(2048, 2048, kernel_size=(1, 1), stride=(1, 1), bias=False)\n",
       "      (bn3): BatchNorm2d(2048, eps=1e-05, momentum=0.1, affine=True, track_running_stats=True)\n",
       "      (relu): ReLU(inplace=True)\n",
       "    )\n",
       "    (2): Bottleneck(\n",
       "      (conv1): Conv2d(2048, 2048, kernel_size=(1, 1), stride=(1, 1), bias=False)\n",
       "      (bn1): BatchNorm2d(2048, eps=1e-05, momentum=0.1, affine=True, track_running_stats=True)\n",
       "      (conv2): Conv2d(2048, 2048, kernel_size=(3, 3), stride=(1, 1), padding=(1, 1), groups=32, bias=False)\n",
       "      (bn2): BatchNorm2d(2048, eps=1e-05, momentum=0.1, affine=True, track_running_stats=True)\n",
       "      (conv3): Conv2d(2048, 2048, kernel_size=(1, 1), stride=(1, 1), bias=False)\n",
       "      (bn3): BatchNorm2d(2048, eps=1e-05, momentum=0.1, affine=True, track_running_stats=True)\n",
       "      (relu): ReLU(inplace=True)\n",
       "    )\n",
       "  )\n",
       "  (avgpool): AdaptiveAvgPool2d(output_size=(1, 1))\n",
       "  (fc): Sequential(\n",
       "    (0): Linear(in_features=2048, out_features=1024, bias=True)\n",
       "    (1): ReLU(inplace=True)\n",
       "    (2): Dropout(p=0.5, inplace=False)\n",
       "    (3): Linear(in_features=1024, out_features=1024, bias=True)\n",
       "    (4): ReLU(inplace=True)\n",
       "    (5): Dropout(p=0.5, inplace=False)\n",
       "    (6): Linear(in_features=1024, out_features=2, bias=True)\n",
       "    (output): LogSoftmax(dim=1)\n",
       "  )\n",
       ")"
      ]
     },
     "execution_count": 9,
     "metadata": {
      "tags": []
     },
     "output_type": "execute_result"
    }
   ],
   "source": [
    "ResNext101_2c= models.resnext101_32x8d(pretrained=True)\n",
    "for params in ResNext101_2c.parameters():\n",
    "    params.required_grad=False\n",
    "classifier= nn.Sequential(OrderedDict([\n",
    "    ('0', nn.Linear(2048,1024)),\n",
    "    ('1',nn.ReLU(inplace=True)),\n",
    "    ('2', nn.Dropout(p=0.5)),\n",
    "    ('3', nn.Linear(1024,1024)),\n",
    "    ('4',nn.ReLU(inplace=True)),\n",
    "    ('5', nn.Dropout(p=0.5)),\n",
    "    ('6', nn.Linear(1024,2)),\n",
    "    ('output', nn.LogSoftmax(dim=1))\n",
    "    \n",
    "]))\n",
    "ResNext101_2c.fc=classifier\n",
    "for params in ResNext101_2c.fc.parameters():\n",
    "    params.required_grad=True\n",
    "\n",
    "critirion= nn.NLLLoss()\n",
    "optimizer = optim.Adam(ResNext101_2c.parameters(), lr=0.0002)\n",
    "ResNext101_2c.to(device)"
   ]
  },
  {
   "cell_type": "markdown",
   "metadata": {
    "id": "rExcZPB4I-oy"
   },
   "source": [
    "### train the model"
   ]
  },
  {
   "cell_type": "code",
   "execution_count": null,
   "metadata": {
    "colab": {
     "base_uri": "https://localhost:8080/"
    },
    "id": "UVLZprO9Rbck",
    "outputId": "e7631f55-e4c0-4bc5-cd4f-8d389b968ff8"
   },
   "outputs": [
    {
     "name": "stderr",
     "output_type": "stream",
     "text": [
      "[1/100], training_loss: 0.3712, training_accuracy: 0.8437 : 100%|██████████| 445/445 [10:17<00:00,  1.39s/it]\n",
      "test_loss: 0.3083, test_accuracy: 0.8772: 100%|██████████| 790/790 [01:05<00:00, 12.08it/s]\n"
     ]
    },
    {
     "name": "stdout",
     "output_type": "stream",
     "text": [
      "saving the model with min loss of : 0.3083246534867627\n"
     ]
    },
    {
     "name": "stderr",
     "output_type": "stream",
     "text": [
      "[2/100], training_loss: 0.2835, training_accuracy: 0.8862 : 100%|██████████| 445/445 [10:04<00:00,  1.36s/it]\n",
      "test_loss: 0.1942, test_accuracy: 0.9316: 100%|██████████| 790/790 [00:38<00:00, 20.53it/s]\n"
     ]
    },
    {
     "name": "stdout",
     "output_type": "stream",
     "text": [
      "saving the model with min loss of : 0.19421079005015715\n"
     ]
    },
    {
     "name": "stderr",
     "output_type": "stream",
     "text": [
      "[3/100], training_loss: 0.2524, training_accuracy: 0.8994 : 100%|██████████| 445/445 [10:04<00:00,  1.36s/it]\n",
      "test_loss: 0.2429, test_accuracy: 0.8873: 100%|██████████| 790/790 [00:38<00:00, 20.54it/s]\n",
      "[4/100], training_loss: 0.2338, training_accuracy: 0.9093 : 100%|██████████| 445/445 [10:03<00:00,  1.36s/it]\n",
      "test_loss: 0.2088, test_accuracy: 0.9203: 100%|██████████| 790/790 [00:38<00:00, 20.57it/s]\n",
      "[5/100], training_loss: 0.2102, training_accuracy: 0.9174 : 100%|██████████| 445/445 [10:03<00:00,  1.36s/it]\n",
      "test_loss: 0.1628, test_accuracy: 0.9380: 100%|██████████| 790/790 [00:37<00:00, 21.22it/s]\n"
     ]
    },
    {
     "name": "stdout",
     "output_type": "stream",
     "text": [
      "saving the model with min loss of : 0.16275550151104304\n"
     ]
    },
    {
     "name": "stderr",
     "output_type": "stream",
     "text": [
      "[6/100], training_loss: 0.1963, training_accuracy: 0.9233 : 100%|██████████| 445/445 [10:03<00:00,  1.36s/it]\n",
      "test_loss: 0.1261, test_accuracy: 0.9494: 100%|██████████| 790/790 [00:36<00:00, 21.54it/s]\n"
     ]
    },
    {
     "name": "stdout",
     "output_type": "stream",
     "text": [
      "saving the model with min loss of : 0.12605631978041645\n"
     ]
    },
    {
     "name": "stderr",
     "output_type": "stream",
     "text": [
      "[7/100], training_loss: 0.1801, training_accuracy: 0.9305 : 100%|██████████| 445/445 [10:03<00:00,  1.36s/it]\n",
      "test_loss: 0.1232, test_accuracy: 0.9506: 100%|██████████| 790/790 [00:37<00:00, 20.97it/s]\n"
     ]
    },
    {
     "name": "stdout",
     "output_type": "stream",
     "text": [
      "saving the model with min loss of : 0.12317532370458657\n"
     ]
    },
    {
     "name": "stderr",
     "output_type": "stream",
     "text": [
      "[8/100], training_loss: 0.1846, training_accuracy: 0.9303 : 100%|██████████| 445/445 [10:03<00:00,  1.36s/it]\n",
      "test_loss: 0.2177, test_accuracy: 0.9139: 100%|██████████| 790/790 [00:39<00:00, 20.03it/s]\n",
      "[9/100], training_loss: 0.1796, training_accuracy: 0.9352 : 100%|██████████| 445/445 [10:02<00:00,  1.35s/it]\n",
      "test_loss: 0.1059, test_accuracy: 0.9646: 100%|██████████| 790/790 [00:39<00:00, 20.15it/s]\n"
     ]
    },
    {
     "name": "stdout",
     "output_type": "stream",
     "text": [
      "saving the model with min loss of : 0.10590365096345122\n"
     ]
    },
    {
     "name": "stderr",
     "output_type": "stream",
     "text": [
      "[10/100], training_loss: 0.1606, training_accuracy: 0.9389 : 100%|██████████| 445/445 [10:02<00:00,  1.35s/it]\n",
      "test_loss: 0.1228, test_accuracy: 0.9506: 100%|██████████| 790/790 [00:39<00:00, 20.18it/s]\n",
      "[11/100], training_loss: 0.1636, training_accuracy: 0.9368 : 100%|██████████| 445/445 [10:02<00:00,  1.35s/it]\n",
      "test_loss: 0.3516, test_accuracy: 0.9418: 100%|██████████| 790/790 [00:39<00:00, 20.16it/s]\n",
      "[12/100], training_loss: 0.1492, training_accuracy: 0.9459 : 100%|██████████| 445/445 [10:02<00:00,  1.35s/it]\n",
      "test_loss: 0.1163, test_accuracy: 0.9468: 100%|██████████| 790/790 [00:39<00:00, 20.09it/s]\n",
      "[13/100], training_loss: 0.1399, training_accuracy: 0.9492 : 100%|██████████| 445/445 [10:01<00:00,  1.35s/it]\n",
      "test_loss: 0.0804, test_accuracy: 0.9696: 100%|██████████| 790/790 [00:36<00:00, 21.93it/s]\n"
     ]
    },
    {
     "name": "stdout",
     "output_type": "stream",
     "text": [
      "saving the model with min loss of : 0.08044170875707059\n"
     ]
    },
    {
     "name": "stderr",
     "output_type": "stream",
     "text": [
      "[14/100], training_loss: 0.1241, training_accuracy: 0.9535 : 100%|██████████| 445/445 [10:00<00:00,  1.35s/it]\n",
      "test_loss: 0.1449, test_accuracy: 0.9342: 100%|██████████| 790/790 [00:36<00:00, 21.79it/s]\n",
      "[15/100], training_loss: 0.1320, training_accuracy: 0.9513 : 100%|██████████| 445/445 [10:00<00:00,  1.35s/it]\n",
      "test_loss: 0.0855, test_accuracy: 0.9633: 100%|██████████| 790/790 [00:36<00:00, 21.78it/s]\n",
      "[16/100], training_loss: 0.1223, training_accuracy: 0.9567 : 100%|██████████| 445/445 [10:00<00:00,  1.35s/it]\n",
      "test_loss: 0.0630, test_accuracy: 0.9772: 100%|██████████| 790/790 [00:36<00:00, 21.75it/s]\n"
     ]
    },
    {
     "name": "stdout",
     "output_type": "stream",
     "text": [
      "saving the model with min loss of : 0.06303629365196171\n"
     ]
    },
    {
     "name": "stderr",
     "output_type": "stream",
     "text": [
      "[17/100], training_loss: 0.1040, training_accuracy: 0.9635 : 100%|██████████| 445/445 [10:00<00:00,  1.35s/it]\n",
      "test_loss: 0.0777, test_accuracy: 0.9759: 100%|██████████| 790/790 [00:35<00:00, 21.99it/s]\n",
      "[18/100], training_loss: 0.1012, training_accuracy: 0.9622 : 100%|██████████| 445/445 [09:59<00:00,  1.35s/it]\n",
      "test_loss: 0.0784, test_accuracy: 0.9734: 100%|██████████| 790/790 [00:35<00:00, 22.08it/s]\n",
      "[19/100], training_loss: 0.1114, training_accuracy: 0.9588 : 100%|██████████| 445/445 [09:59<00:00,  1.35s/it]\n",
      "test_loss: 0.0584, test_accuracy: 0.9823: 100%|██████████| 790/790 [00:36<00:00, 21.65it/s]\n"
     ]
    },
    {
     "name": "stdout",
     "output_type": "stream",
     "text": [
      "saving the model with min loss of : 0.058404687806670734\n"
     ]
    },
    {
     "name": "stderr",
     "output_type": "stream",
     "text": [
      "[20/100], training_loss: 0.0873, training_accuracy: 0.9674 : 100%|██████████| 445/445 [09:59<00:00,  1.35s/it]\n",
      "test_loss: 0.0655, test_accuracy: 0.9722: 100%|██████████| 790/790 [00:36<00:00, 21.94it/s]\n",
      "[21/100], training_loss: 0.0946, training_accuracy: 0.9649 : 100%|██████████| 445/445 [09:59<00:00,  1.35s/it]\n",
      "test_loss: 0.1786, test_accuracy: 0.9392: 100%|██████████| 790/790 [00:36<00:00, 21.77it/s]\n",
      "[22/100], training_loss: 0.0915, training_accuracy: 0.9668 : 100%|██████████| 445/445 [09:59<00:00,  1.35s/it]\n",
      "test_loss: 0.0807, test_accuracy: 0.9684: 100%|██████████| 790/790 [00:36<00:00, 21.93it/s]\n",
      "[23/100], training_loss: 0.0829, training_accuracy: 0.9692 : 100%|██████████| 445/445 [09:58<00:00,  1.35s/it]\n",
      "test_loss: 0.0746, test_accuracy: 0.9722: 100%|██████████| 790/790 [00:35<00:00, 22.05it/s]\n",
      "[24/100], training_loss: 0.0903, training_accuracy: 0.9687 : 100%|██████████| 445/445 [09:59<00:00,  1.35s/it]\n",
      "test_loss: 0.0714, test_accuracy: 0.9772: 100%|██████████| 790/790 [00:36<00:00, 21.75it/s]\n",
      "[25/100], training_loss: 0.0757, training_accuracy: 0.9737 : 100%|██████████| 445/445 [09:58<00:00,  1.35s/it]\n",
      "test_loss: 0.0480, test_accuracy: 0.9873: 100%|██████████| 790/790 [00:35<00:00, 22.07it/s]\n"
     ]
    },
    {
     "name": "stdout",
     "output_type": "stream",
     "text": [
      "saving the model with min loss of : 0.04802606943978547\n"
     ]
    },
    {
     "name": "stderr",
     "output_type": "stream",
     "text": [
      "[26/100], training_loss: 0.0784, training_accuracy: 0.9718 : 100%|██████████| 445/445 [09:58<00:00,  1.35s/it]\n",
      "test_loss: 0.0475, test_accuracy: 0.9810: 100%|██████████| 790/790 [00:36<00:00, 21.49it/s]\n"
     ]
    },
    {
     "name": "stdout",
     "output_type": "stream",
     "text": [
      "saving the model with min loss of : 0.04749708504520901\n"
     ]
    },
    {
     "name": "stderr",
     "output_type": "stream",
     "text": [
      "[27/100], training_loss: 0.0759, training_accuracy: 0.9747 : 100%|██████████| 445/445 [09:58<00:00,  1.34s/it]\n",
      "test_loss: 0.0548, test_accuracy: 0.9835: 100%|██████████| 790/790 [00:37<00:00, 21.06it/s]\n",
      "[28/100], training_loss: 0.0746, training_accuracy: 0.9740 : 100%|██████████| 445/445 [09:57<00:00,  1.34s/it]\n",
      "test_loss: 0.0656, test_accuracy: 0.9759: 100%|██████████| 790/790 [00:36<00:00, 21.77it/s]\n",
      "[29/100], training_loss: 0.0637, training_accuracy: 0.9771 : 100%|██████████| 445/445 [09:57<00:00,  1.34s/it]\n",
      "test_loss: 0.0797, test_accuracy: 0.9709: 100%|██████████| 790/790 [00:35<00:00, 22.18it/s]\n",
      "[30/100], training_loss: 0.0667, training_accuracy: 0.9763 : 100%|██████████| 445/445 [09:57<00:00,  1.34s/it]\n",
      "test_loss: 0.0636, test_accuracy: 0.9696: 100%|██████████| 790/790 [00:36<00:00, 21.69it/s]\n",
      "[31/100], training_loss: 0.0673, training_accuracy: 0.9757 : 100%|██████████| 445/445 [09:57<00:00,  1.34s/it]\n",
      "test_loss: 0.0761, test_accuracy: 0.9747: 100%|██████████| 790/790 [00:35<00:00, 22.08it/s]\n",
      "[32/100], training_loss: 0.0648, training_accuracy: 0.9764 : 100%|██████████| 445/445 [09:57<00:00,  1.34s/it]\n",
      "test_loss: 0.0829, test_accuracy: 0.9759: 100%|██████████| 790/790 [00:36<00:00, 21.73it/s]\n",
      "[33/100], training_loss: 0.0660, training_accuracy: 0.9757 : 100%|██████████| 445/445 [09:57<00:00,  1.34s/it]\n",
      "test_loss: 0.1001, test_accuracy: 0.9608: 100%|██████████| 790/790 [00:35<00:00, 22.39it/s]\n",
      "[34/100], training_loss: 0.0612, training_accuracy: 0.9757 : 100%|██████████| 445/445 [09:56<00:00,  1.34s/it]\n",
      "test_loss: 0.0688, test_accuracy: 0.9671: 100%|██████████| 790/790 [00:35<00:00, 21.96it/s]\n",
      "[35/100], training_loss: 0.0557, training_accuracy: 0.9802 : 100%|██████████| 445/445 [09:56<00:00,  1.34s/it]\n",
      "test_loss: 0.0430, test_accuracy: 0.9835: 100%|██████████| 790/790 [00:36<00:00, 21.54it/s]\n"
     ]
    },
    {
     "name": "stdout",
     "output_type": "stream",
     "text": [
      "saving the model with min loss of : 0.043039997542959146\n"
     ]
    },
    {
     "name": "stderr",
     "output_type": "stream",
     "text": [
      "[36/100], training_loss: 0.0585, training_accuracy: 0.9781 : 100%|██████████| 445/445 [09:56<00:00,  1.34s/it]\n",
      "test_loss: 0.0871, test_accuracy: 0.9684: 100%|██████████| 790/790 [00:36<00:00, 21.76it/s]\n",
      "[37/100], training_loss: 0.1221, training_accuracy: 0.9587 : 100%|██████████| 445/445 [09:56<00:00,  1.34s/it]\n",
      "test_loss: 0.1036, test_accuracy: 0.9557: 100%|██████████| 790/790 [00:36<00:00, 21.92it/s]\n",
      "[38/100], training_loss: 0.0748, training_accuracy: 0.9709 : 100%|██████████| 445/445 [09:56<00:00,  1.34s/it]\n",
      "test_loss: 0.0516, test_accuracy: 0.9835: 100%|██████████| 790/790 [00:36<00:00, 21.73it/s]\n",
      "[39/100], training_loss: 0.0560, training_accuracy: 0.9796 : 100%|██████████| 445/445 [09:56<00:00,  1.34s/it]\n",
      "test_loss: 0.0486, test_accuracy: 0.9785: 100%|██████████| 790/790 [00:36<00:00, 21.74it/s]\n",
      "[40/100], training_loss: 0.0573, training_accuracy: 0.9787 : 100%|██████████| 445/445 [09:56<00:00,  1.34s/it]\n",
      "test_loss: 0.0535, test_accuracy: 0.9823: 100%|██████████| 790/790 [00:37<00:00, 20.80it/s]\n",
      "[41/100], training_loss: 0.0505, training_accuracy: 0.9827 : 100%|██████████| 445/445 [09:56<00:00,  1.34s/it]\n",
      "test_loss: 0.0464, test_accuracy: 0.9823: 100%|██████████| 790/790 [00:38<00:00, 20.67it/s]\n",
      "[42/100], training_loss: 0.0497, training_accuracy: 0.9823 : 100%|██████████| 445/445 [09:56<00:00,  1.34s/it]\n",
      "test_loss: 0.0738, test_accuracy: 0.9785: 100%|██████████| 790/790 [00:37<00:00, 21.29it/s]\n",
      "[43/100], training_loss: 0.0548, training_accuracy: 0.9810 : 100%|██████████| 445/445 [09:56<00:00,  1.34s/it]\n",
      "test_loss: 0.0442, test_accuracy: 0.9810: 100%|██████████| 790/790 [00:37<00:00, 21.29it/s]\n",
      "[44/100], training_loss: 0.0452, training_accuracy: 0.9823 : 100%|██████████| 445/445 [09:55<00:00,  1.34s/it]\n",
      "test_loss: 0.0520, test_accuracy: 0.9848: 100%|██████████| 790/790 [00:37<00:00, 21.29it/s]\n",
      "[45/100], training_loss: 0.0466, training_accuracy: 0.9838 : 100%|██████████| 445/445 [09:56<00:00,  1.34s/it]\n",
      "test_loss: 0.0584, test_accuracy: 0.9772: 100%|██████████| 790/790 [00:38<00:00, 20.40it/s]\n",
      "[46/100], training_loss: 0.0528, training_accuracy: 0.9809 : 100%|██████████| 445/445 [09:56<00:00,  1.34s/it]\n",
      "test_loss: 0.0609, test_accuracy: 0.9785: 100%|██████████| 790/790 [00:38<00:00, 20.75it/s]\n",
      "[47/100], training_loss: 0.0468, training_accuracy: 0.9846 : 100%|██████████| 445/445 [09:56<00:00,  1.34s/it]\n",
      "test_loss: 0.0890, test_accuracy: 0.9734: 100%|██████████| 790/790 [00:37<00:00, 21.24it/s]\n",
      "[48/100], training_loss: 0.0459, training_accuracy: 0.9847 : 100%|██████████| 445/445 [09:55<00:00,  1.34s/it]\n",
      "test_loss: 0.0548, test_accuracy: 0.9797: 100%|██████████| 790/790 [00:36<00:00, 21.69it/s]\n",
      "[49/100], training_loss: 0.0485, training_accuracy: 0.9820 : 100%|██████████| 445/445 [09:55<00:00,  1.34s/it]\n",
      "test_loss: 0.0343, test_accuracy: 0.9823: 100%|██████████| 790/790 [00:36<00:00, 21.72it/s]\n"
     ]
    },
    {
     "name": "stdout",
     "output_type": "stream",
     "text": [
      "saving the model with min loss of : 0.03431983399432706\n"
     ]
    },
    {
     "name": "stderr",
     "output_type": "stream",
     "text": [
      "[50/100], training_loss: 0.1349, training_accuracy: 0.9663 : 100%|██████████| 445/445 [09:55<00:00,  1.34s/it]\n",
      "test_loss: 0.0568, test_accuracy: 0.9797: 100%|██████████| 790/790 [00:36<00:00, 21.44it/s]\n",
      "[51/100], training_loss: 0.0620, training_accuracy: 0.9778 : 100%|██████████| 445/445 [09:55<00:00,  1.34s/it]\n",
      "test_loss: 0.0553, test_accuracy: 0.9785: 100%|██████████| 790/790 [00:36<00:00, 21.65it/s]\n",
      "[52/100], training_loss: 0.0386, training_accuracy: 0.9871 : 100%|██████████| 445/445 [09:55<00:00,  1.34s/it]\n",
      "test_loss: 0.0493, test_accuracy: 0.9848: 100%|██████████| 790/790 [00:36<00:00, 21.94it/s]\n",
      "[53/100], training_loss: 0.0359, training_accuracy: 0.9865 : 100%|██████████| 445/445 [09:55<00:00,  1.34s/it]\n",
      "test_loss: 0.0926, test_accuracy: 0.9759: 100%|██████████| 790/790 [00:36<00:00, 21.42it/s]\n",
      "[54/100], training_loss: 0.0430, training_accuracy: 0.9869 : 100%|██████████| 445/445 [09:55<00:00,  1.34s/it]\n",
      "test_loss: 0.0484, test_accuracy: 0.9835: 100%|██████████| 790/790 [00:35<00:00, 22.29it/s]\n",
      "[55/100], training_loss: 0.0422, training_accuracy: 0.9864 : 100%|██████████| 445/445 [09:55<00:00,  1.34s/it]\n",
      "test_loss: 0.0428, test_accuracy: 0.9848: 100%|██████████| 790/790 [00:36<00:00, 21.82it/s]\n",
      "[56/100], training_loss: 0.0493, training_accuracy: 0.9816 : 100%|██████████| 445/445 [09:55<00:00,  1.34s/it]\n",
      "test_loss: 0.0655, test_accuracy: 0.9684: 100%|██████████| 790/790 [00:35<00:00, 21.98it/s]\n",
      "[57/100], training_loss: 0.0393, training_accuracy: 0.9868 :  80%|███████▉  | 354/445 [07:54<02:01,  1.34s/it]"
     ]
    }
   ],
   "source": [
    "epochs = 100\n",
    "steps= 0\n",
    "print_every=100\n",
    "running_loss=0\n",
    "min_val_loss = np.Inf\n",
    "results={'epoch':[],'training_loss':[], 'test_loss':[], 'test_accuracy':[], 'training_accuracy':[]}\n",
    "\n",
    "for params in netG.parameters():\n",
    "    params.required_grad=False\n",
    "netG.to(device)\n",
    "netG.eval()\n",
    "\n",
    "for e in range(1,epochs+1):\n",
    "  running_results={'loss':0, 'accuracy':0,'minutes':0,'steps':0}\n",
    "  ResNext101_2c.train()\n",
    "  train_bar=tqdm(trainloader)\n",
    "  running_loss=0\n",
    "\n",
    "  for images, labels in train_bar:\n",
    "      start_time= evaltime.time()\n",
    "      images, labels = images.to(device), labels.to(device)\n",
    "      sr_img=netG(images).to(device)\n",
    "      batch_number_count=images.size(0)\n",
    "      for i in range(batch_number_count):\n",
    "        sr_img[i,0,:,:] = (sr_img[i,0,:,:] - 0.485)/0.229\n",
    "        sr_img[i,1,:,:] = (sr_img[i,1,:,:] - 0.456)/0.224\n",
    "        sr_img[i,2,:,:] = (sr_img[i,2,:,:] - 0.406)/0.225\n",
    "      running_results['steps']+=1\n",
    "      optimizer.zero_grad()\n",
    "      output=ResNext101_2c.forward(sr_img)\n",
    "      ps=torch.exp(output)\n",
    "      loss=critirion(output,labels)\n",
    "      loss.backward()\n",
    "      optimizer.step()\n",
    "      # running_loss+=loss.item()\n",
    "      running_results['loss']+=loss.item()\n",
    "      equality = (ps.max(dim=1)[1]==labels.data)\n",
    "      running_results['accuracy']+=equality.type(torch.FloatTensor).mean()\n",
    "      train_bar.set_description(desc='[%d/%d], training_loss: %.4f, training_accuracy: %.4f '% \n",
    "                                (e,epochs, running_results['loss']/running_results['steps'],running_results['accuracy']/running_results['steps']))\n",
    "  test_bar=tqdm(testloader, desc='Validation Results:')\n",
    "  ResNext101_2c.eval()\n",
    "  valing_results={'test_loss':0, 'test_accuracy':0, 'min_loss':0, 'steps':0}\n",
    "  with torch.no_grad():\n",
    "    for images, labels in test_bar: \n",
    "      valing_results['steps']+=1\n",
    "      images, labels = images.to(device), labels.to(device)\n",
    "      sr_img=netG(images).to(device)\n",
    "      batch_number_count=images.size(0)\n",
    "      for i in range(batch_number_count):\n",
    "        sr_img[i,0,:,:] = (sr_img[i,0,:,:] - 0.485)/0.229\n",
    "        sr_img[i,1,:,:] = (sr_img[i,1,:,:] - 0.456)/0.224\n",
    "        sr_img[i,2,:,:] = (sr_img[i,2,:,:] - 0.406)/0.225\n",
    "      output=ResNext101_2c.forward(sr_img)\n",
    "      loss=critirion(output,labels)\n",
    "      valing_results['test_loss']+= loss.item()\n",
    "      ps=torch.exp(output)\n",
    "      equality = (ps.max(dim=1)[1]==labels.data)\n",
    "      valing_results['test_accuracy']+=equality.type(torch.FloatTensor).mean()\n",
    "      test_bar.set_description(desc='test_loss: %.4f, test_accuracy: %.4f'%\n",
    "                               (valing_results['test_loss']/valing_results['steps'], valing_results['test_accuracy']/valing_results['steps'] ))\n",
    "    if (valing_results['test_loss']/valing_results['steps']< min_val_loss):\n",
    "            min_val_loss=valing_results['test_loss']/valing_results['steps']\n",
    "            print('saving the model with min loss of : '+ str(min_val_loss))\n",
    "            torch.save(ResNext101_2c.state_dict(),dir_checkpoints+\"checkpoint_ResNext101_A_SRGAN_.pth\")\n",
    "\n",
    "     \n",
    "  results['training_loss'].append(running_results['loss']/running_results['steps'])\n",
    "  results['test_loss'].append(valing_results['test_loss']/valing_results['steps'])\n",
    "  results['test_accuracy'].append(valing_results['test_accuracy'].item()/valing_results['steps'])\n",
    "  results['training_accuracy'].append(running_results['accuracy'].item()/running_results['steps'])\n",
    "  \n",
    "  data_frame=pd.DataFrame(\n",
    "        data={\n",
    "            # 'Epoch':1,\n",
    "            'Training_Loss':results['training_loss'],\n",
    "            'Test_Loss': results['test_loss'],\n",
    "            'Test_Accuracy':results['test_accuracy'],\n",
    "            'Training_Accuracy':results['training_accuracy'],\n",
    "           \n",
    "                 },\n",
    "        index=range(1,e+1)\n",
    "    )\n",
    "  data_frame.to_csv(dir_statistics+ 'ResNext101_A_SRGAN_eval_results_.csv',  index_label=\"Epoch\")    \n",
    "  "
   ]
  },
  {
   "cell_type": "code",
   "execution_count": null,
   "metadata": {
    "id": "e88zcuxCSBFT"
   },
   "outputs": [],
   "source": []
  }
 ],
 "metadata": {
  "accelerator": "GPU",
  "colab": {
   "collapsed_sections": [],
   "name": "ResNext(32x4d)_Breakhis_SR_ASRGAN_WASRGAN_Classification.ipynb",
   "provenance": []
  },
  "kernelspec": {
   "display_name": "Python 3 (ipykernel)",
   "language": "python",
   "name": "python3"
  },
  "language_info": {
   "codemirror_mode": {
    "name": "ipython",
    "version": 3
   },
   "file_extension": ".py",
   "mimetype": "text/x-python",
   "name": "python",
   "nbconvert_exporter": "python",
   "pygments_lexer": "ipython3",
   "version": "3.8.8"
  },
  "widgets": {
   "application/vnd.jupyter.widget-state+json": {
    "2d5da869ae7b4ad39c8c9dc2a7cc589e": {
     "model_module": "@jupyter-widgets/controls",
     "model_name": "FloatProgressModel",
     "state": {
      "_dom_classes": [],
      "_model_module": "@jupyter-widgets/controls",
      "_model_module_version": "1.5.0",
      "_model_name": "FloatProgressModel",
      "_view_count": null,
      "_view_module": "@jupyter-widgets/controls",
      "_view_module_version": "1.5.0",
      "_view_name": "ProgressView",
      "bar_style": "success",
      "description": "100%",
      "description_tooltip": null,
      "layout": "IPY_MODEL_694ad37381fc4f6a9c7542484bd40577",
      "max": 356082095,
      "min": 0,
      "orientation": "horizontal",
      "style": "IPY_MODEL_cfb37849881448f1be5ca3242dd2e263",
      "value": 356082095
     }
    },
    "3360503cf21e4213bd496c19cba1c2d7": {
     "model_module": "@jupyter-widgets/controls",
     "model_name": "HBoxModel",
     "state": {
      "_dom_classes": [],
      "_model_module": "@jupyter-widgets/controls",
      "_model_module_version": "1.5.0",
      "_model_name": "HBoxModel",
      "_view_count": null,
      "_view_module": "@jupyter-widgets/controls",
      "_view_module_version": "1.5.0",
      "_view_name": "HBoxView",
      "box_style": "",
      "children": [
       "IPY_MODEL_2d5da869ae7b4ad39c8c9dc2a7cc589e",
       "IPY_MODEL_e25898573428487da5a91c074405d88a"
      ],
      "layout": "IPY_MODEL_7ee95d9da9fa4153b94bb94cb8c3436e"
     }
    },
    "3aa2f4f4eba44d8d993cc20c42eb8d86": {
     "model_module": "@jupyter-widgets/base",
     "model_name": "LayoutModel",
     "state": {
      "_model_module": "@jupyter-widgets/base",
      "_model_module_version": "1.2.0",
      "_model_name": "LayoutModel",
      "_view_count": null,
      "_view_module": "@jupyter-widgets/base",
      "_view_module_version": "1.2.0",
      "_view_name": "LayoutView",
      "align_content": null,
      "align_items": null,
      "align_self": null,
      "border": null,
      "bottom": null,
      "display": null,
      "flex": null,
      "flex_flow": null,
      "grid_area": null,
      "grid_auto_columns": null,
      "grid_auto_flow": null,
      "grid_auto_rows": null,
      "grid_column": null,
      "grid_gap": null,
      "grid_row": null,
      "grid_template_areas": null,
      "grid_template_columns": null,
      "grid_template_rows": null,
      "height": null,
      "justify_content": null,
      "justify_items": null,
      "left": null,
      "margin": null,
      "max_height": null,
      "max_width": null,
      "min_height": null,
      "min_width": null,
      "object_fit": null,
      "object_position": null,
      "order": null,
      "overflow": null,
      "overflow_x": null,
      "overflow_y": null,
      "padding": null,
      "right": null,
      "top": null,
      "visibility": null,
      "width": null
     }
    },
    "694ad37381fc4f6a9c7542484bd40577": {
     "model_module": "@jupyter-widgets/base",
     "model_name": "LayoutModel",
     "state": {
      "_model_module": "@jupyter-widgets/base",
      "_model_module_version": "1.2.0",
      "_model_name": "LayoutModel",
      "_view_count": null,
      "_view_module": "@jupyter-widgets/base",
      "_view_module_version": "1.2.0",
      "_view_name": "LayoutView",
      "align_content": null,
      "align_items": null,
      "align_self": null,
      "border": null,
      "bottom": null,
      "display": null,
      "flex": null,
      "flex_flow": null,
      "grid_area": null,
      "grid_auto_columns": null,
      "grid_auto_flow": null,
      "grid_auto_rows": null,
      "grid_column": null,
      "grid_gap": null,
      "grid_row": null,
      "grid_template_areas": null,
      "grid_template_columns": null,
      "grid_template_rows": null,
      "height": null,
      "justify_content": null,
      "justify_items": null,
      "left": null,
      "margin": null,
      "max_height": null,
      "max_width": null,
      "min_height": null,
      "min_width": null,
      "object_fit": null,
      "object_position": null,
      "order": null,
      "overflow": null,
      "overflow_x": null,
      "overflow_y": null,
      "padding": null,
      "right": null,
      "top": null,
      "visibility": null,
      "width": null
     }
    },
    "7ee95d9da9fa4153b94bb94cb8c3436e": {
     "model_module": "@jupyter-widgets/base",
     "model_name": "LayoutModel",
     "state": {
      "_model_module": "@jupyter-widgets/base",
      "_model_module_version": "1.2.0",
      "_model_name": "LayoutModel",
      "_view_count": null,
      "_view_module": "@jupyter-widgets/base",
      "_view_module_version": "1.2.0",
      "_view_name": "LayoutView",
      "align_content": null,
      "align_items": null,
      "align_self": null,
      "border": null,
      "bottom": null,
      "display": null,
      "flex": null,
      "flex_flow": null,
      "grid_area": null,
      "grid_auto_columns": null,
      "grid_auto_flow": null,
      "grid_auto_rows": null,
      "grid_column": null,
      "grid_gap": null,
      "grid_row": null,
      "grid_template_areas": null,
      "grid_template_columns": null,
      "grid_template_rows": null,
      "height": null,
      "justify_content": null,
      "justify_items": null,
      "left": null,
      "margin": null,
      "max_height": null,
      "max_width": null,
      "min_height": null,
      "min_width": null,
      "object_fit": null,
      "object_position": null,
      "order": null,
      "overflow": null,
      "overflow_x": null,
      "overflow_y": null,
      "padding": null,
      "right": null,
      "top": null,
      "visibility": null,
      "width": null
     }
    },
    "cb8bb18befb0483ca1d38f7b1ec2fd4b": {
     "model_module": "@jupyter-widgets/controls",
     "model_name": "DescriptionStyleModel",
     "state": {
      "_model_module": "@jupyter-widgets/controls",
      "_model_module_version": "1.5.0",
      "_model_name": "DescriptionStyleModel",
      "_view_count": null,
      "_view_module": "@jupyter-widgets/base",
      "_view_module_version": "1.2.0",
      "_view_name": "StyleView",
      "description_width": ""
     }
    },
    "cfb37849881448f1be5ca3242dd2e263": {
     "model_module": "@jupyter-widgets/controls",
     "model_name": "ProgressStyleModel",
     "state": {
      "_model_module": "@jupyter-widgets/controls",
      "_model_module_version": "1.5.0",
      "_model_name": "ProgressStyleModel",
      "_view_count": null,
      "_view_module": "@jupyter-widgets/base",
      "_view_module_version": "1.2.0",
      "_view_name": "StyleView",
      "bar_color": null,
      "description_width": "initial"
     }
    },
    "e25898573428487da5a91c074405d88a": {
     "model_module": "@jupyter-widgets/controls",
     "model_name": "HTMLModel",
     "state": {
      "_dom_classes": [],
      "_model_module": "@jupyter-widgets/controls",
      "_model_module_version": "1.5.0",
      "_model_name": "HTMLModel",
      "_view_count": null,
      "_view_module": "@jupyter-widgets/controls",
      "_view_module_version": "1.5.0",
      "_view_name": "HTMLView",
      "description": "",
      "description_tooltip": null,
      "layout": "IPY_MODEL_3aa2f4f4eba44d8d993cc20c42eb8d86",
      "placeholder": "​",
      "style": "IPY_MODEL_cb8bb18befb0483ca1d38f7b1ec2fd4b",
      "value": " 340M/340M [00:06&lt;00:00, 58.0MB/s]"
     }
    }
   }
  }
 },
 "nbformat": 4,
 "nbformat_minor": 1
}
