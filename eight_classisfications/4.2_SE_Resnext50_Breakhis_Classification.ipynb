{
 "cells": [
  {
   "cell_type": "markdown",
   "metadata": {
    "colab_type": "text",
    "id": "j8d_U6iIAEbQ"
   },
   "source": [
    "### Build and train the SeNET 154 network and retrain it by breast cancer data base"
   ]
  },
  {
   "cell_type": "code",
   "execution_count": null,
   "metadata": {
    "colab": {
     "base_uri": "https://localhost:8080/",
     "height": 123
    },
    "colab_type": "code",
    "executionInfo": {
     "elapsed": 18056,
     "status": "ok",
     "timestamp": 1590881771254,
     "user": {
      "displayName": "FAEZEHSADAT SHAHIDI MAN181002",
      "photoUrl": "",
      "userId": "15928786153813768879"
     },
     "user_tz": -480
    },
    "id": "gnZL28MH2TMQ",
    "outputId": "dc055a10-ed92-48df-a3f3-8fa46e5a9303"
   },
   "outputs": [],
   "source": [
    "from google.colab import drive\n",
    "drive.mount('/content/drive')"
   ]
  },
  {
   "cell_type": "markdown",
   "metadata": {
    "colab_type": "text",
    "id": "2ZTjlVNQAaty"
   },
   "source": [
    "### Import the liberaries"
   ]
  },
  {
   "cell_type": "code",
   "execution_count": null,
   "metadata": {
    "colab": {
     "base_uri": "https://localhost:8080/",
     "height": 344
    },
    "colab_type": "code",
    "executionInfo": {
     "elapsed": 28740,
     "status": "ok",
     "timestamp": 1590881781951,
     "user": {
      "displayName": "FAEZEHSADAT SHAHIDI MAN181002",
      "photoUrl": "",
      "userId": "15928786153813768879"
     },
     "user_tz": -480
    },
    "id": "x1x11QDZ4gM-",
    "outputId": "3a94039f-eb8f-4acb-e9bd-ce938705139a"
   },
   "outputs": [],
   "source": [
    "# !pip install pretrainedmodels\n",
    "import torch\n",
    "from torch import nn, optim\n",
    "from torchvision import datasets ,transforms, models\n",
    "import numpy as np\n",
    "import matplotlib.pyplot as plt\n",
    "import helper\n",
    "import math\n",
    "import time as evaltime\n",
    "from torch import nn\n",
    "from collections import OrderedDict\n",
    "\n",
    "import pretrainedmodels\n",
    "import tqdm\n",
    "from tqdm import tqdm\n",
    "import pandas as pd\n",
    "#################################\n",
    "device=torch.device('cuda:0' if torch.cuda.is_available() else 'cpu')"
   ]
  },
  {
   "cell_type": "code",
   "execution_count": null,
   "metadata": {
    "colab": {},
    "colab_type": "code",
    "id": "zWQnUdfI8X77"
   },
   "outputs": [],
   "source": [
    "pretrainedmodels.se_resnext50_32x4d"
   ]
  },
  {
   "cell_type": "markdown",
   "metadata": {
    "colab_type": "text",
    "id": "dS06clwVAngY"
   },
   "source": [
    "## Load the pre trained model and change the FC layer to taylor the number of classes: 8"
   ]
  },
  {
   "cell_type": "code",
   "execution_count": null,
   "metadata": {
    "colab": {
     "base_uri": "https://localhost:8080/",
     "height": 83,
     "referenced_widgets": [
      "232196a91a2a48299dfa4ee0ac4e0af8",
      "4415bd125e3140f89101d952bd2f7c8e",
      "923f45c95e8e4741bc7a2f24f36c0552",
      "4afacad171a64a4eac61bbbe13dfbe69",
      "86d8e91d2ff948c2ab19303594ddb849",
      "9466d68da1cd402eaaec1a98c3478435",
      "2ff89899b5be415d9fdff24b8757cea8",
      "34e24fdcfb464178bfebbccb839d4bbd"
     ]
    },
    "colab_type": "code",
    "executionInfo": {
     "elapsed": 312588,
     "status": "ok",
     "timestamp": 1590882410821,
     "user": {
      "displayName": "FAEZEHSADAT SHAHIDI MAN181002",
      "photoUrl": "",
      "userId": "15928786153813768879"
     },
     "user_tz": -480
    },
    "id": "IOS1NXpCrYft",
    "outputId": "25b4446c-dd9a-43ba-a4b9-6c517a28754d"
   },
   "outputs": [],
   "source": [
    "import ssl\n",
    "ssl._create_default_https_context = ssl._create_unverified_context\n",
    "se_resnext50_32x4d = 'se_resnext50_32x4d' \n",
    "\n",
    "se_resnext50_32x4d_2c = pretrainedmodels.__dict__[se_resnext50_32x4d](num_classes=1000, pretrained='imagenet')\n"
   ]
  },
  {
   "cell_type": "code",
   "execution_count": null,
   "metadata": {
    "colab": {
     "base_uri": "https://localhost:8080/",
     "height": 1000
    },
    "colab_type": "code",
    "executionInfo": {
     "elapsed": 783,
     "status": "ok",
     "timestamp": 1590882433860,
     "user": {
      "displayName": "FAEZEHSADAT SHAHIDI MAN181002",
      "photoUrl": "",
      "userId": "15928786153813768879"
     },
     "user_tz": -480
    },
    "id": "dA73Lug5pMjz",
    "outputId": "1c042dcc-83f2-4935-83e7-ed9ef17b6bf1"
   },
   "outputs": [],
   "source": [
    "se_resnext50_32x4d_2c"
   ]
  },
  {
   "cell_type": "code",
   "execution_count": null,
   "metadata": {
    "colab": {},
    "colab_type": "code",
    "id": "CPqfxJOyr_Rd"
   },
   "outputs": [],
   "source": [
    "classifier= nn.Sequential(OrderedDict([\n",
    "    ('0', nn.Linear(2048,8)),\n",
    "    ('output', nn.LogSoftmax(dim=1))\n",
    "    \n",
    "]))\n",
    "\n",
    "se_resnext50_32x4d_2c.last_linear=classifier\n"
   ]
  },
  {
   "cell_type": "markdown",
   "metadata": {
    "colab_type": "text",
    "id": "IwfQ9qVHB2Rb"
   },
   "source": [
    "## Define the loss and optimization. in order to retrain the model, define the require grad true for all the parameters in the network."
   ]
  },
  {
   "cell_type": "code",
   "execution_count": null,
   "metadata": {
    "colab": {
     "base_uri": "https://localhost:8080/",
     "height": 1000
    },
    "colab_type": "code",
    "executionInfo": {
     "elapsed": 10346,
     "status": "ok",
     "timestamp": 1590882509987,
     "user": {
      "displayName": "FAEZEHSADAT SHAHIDI MAN181002",
      "photoUrl": "",
      "userId": "15928786153813768879"
     },
     "user_tz": -480
    },
    "id": "xQhcL-6w3DQg",
    "outputId": "a2fac12c-7b49-4aaa-ba1c-241c2bf491a1"
   },
   "outputs": [],
   "source": [
    "critirion= nn.NLLLoss()\n",
    "optimizer = optim.Adam(se_resnext50_32x4d_2c.parameters(), lr=0.0002)\n",
    "\n",
    "for params in se_resnext50_32x4d_2c.parameters():\n",
    "    params.required_grad=True\n",
    "\n",
    "se_resnext50_32x4d_2c.to(device)"
   ]
  },
  {
   "cell_type": "markdown",
   "metadata": {
    "colab_type": "text",
    "id": "UtNfhSBeCUlq"
   },
   "source": [
    "\n",
    "### Load the images to the train and test loader, with the ratio of 90/10"
   ]
  },
  {
   "cell_type": "code",
   "execution_count": null,
   "metadata": {
    "colab": {
     "base_uri": "https://localhost:8080/",
     "height": 34
    },
    "colab_type": "code",
    "executionInfo": {
     "elapsed": 1186,
     "status": "ok",
     "timestamp": 1590882713572,
     "user": {
      "displayName": "FAEZEHSADAT SHAHIDI MAN181002",
      "photoUrl": "",
      "userId": "15928786153813768879"
     },
     "user_tz": -480
    },
    "id": "a8BWg6-Y3Urt",
    "outputId": "0d79b7a1-e1b6-4eb1-9eb5-83b0f779a255"
   },
   "outputs": [],
   "source": [
    "dir_eight_Classes='To the brest cancer images for eight classifications/'\n",
    "dir_checkpoints='To the /checkpoints/'\n",
    "dir_statistics='To the/statistics/'\n",
    "\n",
    "ratio=0.9 # split the train and test datasets with the ration of 90/10\n",
    "train_transform = transforms.Compose([\n",
    "    transforms.Resize((224,224)),\n",
    "    # transforms.RandomRotation(45),\n",
    "    # transforms.RandomVerticalFlip(p=0.5),\n",
    "    # transforms.RandomHorizontalFlip(p=0.5),\n",
    "    # transforms.RandomResizedCrop((224,224),scale=(0.08, 1.0), ratio=(0.75, 1.3333333333333333), interpolation=2),\n",
    "    transforms.ToTensor(),\n",
    "    transforms.Normalize((0.485, 0.456, 0.406),(0.229, 0.224, 0.225))\n",
    "])\n",
    "\n",
    "dataset= datasets.ImageFolder(dir_two_Classes,transform=train_transform)\n",
    "train_sample_len=math.ceil(len(dataset)*ratio)\n",
    "test_sample_len=len(dataset)-train_sample_len\n",
    "trainset,testset=torch.utils.data.random_split(dataset,[train_sample_len,test_sample_len] )\n",
    "\n",
    "trainloader = torch.utils.data.DataLoader(trainset, batch_size=32, num_workers=4, shuffle=True)\n",
    "testloader =torch.utils.data.DataLoader(testset, batch_size=1, num_workers=4, shuffle=False)\n",
    "classes=trainset.dataset.classes\n",
    "print(len(dataset), classes)"
   ]
  },
  {
   "cell_type": "markdown",
   "metadata": {
    "colab_type": "text",
    "id": "3fwNVR8IChX_"
   },
   "source": [
    "### Showing one image out of all to be confirmed that the trainset is already loaded"
   ]
  },
  {
   "cell_type": "code",
   "execution_count": null,
   "metadata": {
    "colab": {
     "base_uri": "https://localhost:8080/",
     "height": 303
    },
    "colab_type": "code",
    "executionInfo": {
     "elapsed": 6822,
     "status": "ok",
     "timestamp": 1590376885792,
     "user": {
      "displayName": "FAEZEHSADAT SHAHIDI MAN181002",
      "photoUrl": "",
      "userId": "15928786153813768879"
     },
     "user_tz": -480
    },
    "id": "WaOcXU_GCmQ3",
    "outputId": "4e1a8c03-ff74-4bbd-f646-740f1ad7bb2f"
   },
   "outputs": [],
   "source": [
    "images=iter(testloader).next()\n",
    "type(images)\n",
    "images[0][0].shape\n",
    "img=images[0][0].permute(1,2,0)\n",
    "# images.size\n",
    "plt.imshow(img)"
   ]
  },
  {
   "cell_type": "markdown",
   "metadata": {
    "colab_type": "text",
    "id": "rExcZPB4I-oy"
   },
   "source": [
    "### Train and test the model"
   ]
  },
  {
   "cell_type": "code",
   "execution_count": null,
   "metadata": {
    "colab": {
     "base_uri": "https://localhost:8080/",
     "height": 1000
    },
    "colab_type": "code",
    "executionInfo": {
     "elapsed": 13044494,
     "status": "ok",
     "timestamp": 1590895773868,
     "user": {
      "displayName": "FAEZEHSADAT SHAHIDI MAN181002",
      "photoUrl": "",
      "userId": "15928786153813768879"
     },
     "user_tz": -480
    },
    "id": "UVLZprO9Rbck",
    "outputId": "33c83458-f162-4833-a91f-a943a7eb6549"
   },
   "outputs": [],
   "source": [
    "\n",
    "epochs = 100\n",
    "steps= 0\n",
    "print_every=100\n",
    "running_loss=0\n",
    "min_val_loss = np.Inf\n",
    "results={'epoch':[],'training_loss':[], 'test_loss':[], 'test_accuracy':[], 'training_accuracy':[]}\n",
    "\n",
    "for e in range(1,epochs+1):\n",
    "  running_results={'loss':0, 'accuracy':0,'minutes':0,'steps':0}\n",
    "  se_resnext50_32x4d_2c.train()\n",
    "  train_bar=tqdm(trainloader)\n",
    "  running_loss=0\n",
    "\n",
    "  for images, labels in train_bar:\n",
    "      start_time= evaltime.time()\n",
    "      images, labels = images.to(device), labels.to(device)\n",
    "      running_results['steps']+=1\n",
    "      optimizer.zero_grad()\n",
    "      output=se_resnext50_32x4d_2c.forward(images)\n",
    "      ps=torch.exp(output)\n",
    "      loss=critirion(output,labels)\n",
    "      loss.backward()\n",
    "      optimizer.step()\n",
    "      # running_loss+=loss.item()\n",
    "      running_results['loss']+=loss.item()\n",
    "      equality = (ps.max(dim=1)[1]==labels.data)\n",
    "      running_results['accuracy']+=equality.type(torch.FloatTensor).mean()\n",
    "      train_bar.set_description(desc='[%d/%d], training_loss: %.4f, training_accuracy: %.4f '% \n",
    "                                (e,epochs, running_results['loss']/running_results['steps'],running_results['accuracy']/running_results['steps']))\n",
    "  test_bar=tqdm(testloader, desc='Validation Results:')\n",
    "  se_resnext50_32x4d_2c.eval()\n",
    "  valing_results={'test_loss':0, 'test_accuracy':0, 'min_loss':0, 'steps':0}\n",
    "  with torch.no_grad():\n",
    "    for images, labels in test_bar: \n",
    "      valing_results['steps']+=1\n",
    "      images, labels = images.to(device), labels.to(device)\n",
    "      output=se_resnext50_32x4d_2c.forward(images)\n",
    "      loss=critirion(output,labels)\n",
    "      valing_results['test_loss']+= loss.item()\n",
    "      ps=torch.exp(output)\n",
    "      equality = (ps.max(dim=1)[1]==labels.data)\n",
    "      valing_results['test_accuracy']+=equality.type(torch.FloatTensor).mean()\n",
    "      test_bar.set_description(desc='test_loss: %.4f, test_accuracy: %.4f'%\n",
    "                               (valing_results['test_loss']/valing_results['steps'], valing_results['test_accuracy']/valing_results['steps'] ))\n",
    "    if (valing_results['test_loss']/valing_results['steps']< min_val_loss):\n",
    "            min_val_loss=valing_results['test_loss']/valing_results['steps']\n",
    "            print('saving the model with min loss of : '+ str(min_val_loss))\n",
    "            torch.save(se_resnext50_32x4d_2c.state_dict(),dir_checkpoints+\"checkpoint_se_resnext50_32x4d_2c_finetune.pth\")\n",
    "\n",
    "     \n",
    "  results['training_loss'].append(running_results['loss']/running_results['steps'])\n",
    "  results['test_loss'].append(valing_results['test_loss']/valing_results['steps'])\n",
    "  results['test_accuracy'].append(valing_results['test_accuracy'].item()/valing_results['steps'])\n",
    "  results['training_accuracy'].append(running_results['accuracy'].item()/running_results['steps'])\n",
    "  \n",
    "  data_frame=pd.DataFrame(\n",
    "        data={\n",
    "            # 'Epoch':1,\n",
    "            'Training_Loss':results['training_loss'],\n",
    "            'Test_Loss': results['test_loss'],\n",
    "            'Test_Accuracy':results['test_accuracy'],\n",
    "            'Training_Accuracy':results['training_accuracy'],\n",
    "           \n",
    "                 },\n",
    "        index=range(1,e+1)\n",
    "    )\n",
    "  data_frame.to_csv(dir_statistics+ 'se_resnext50_32x4d_2c_finetune_eval_results.csv',  index_label=\"Epoch\")   "
   ]
  },
  {
   "cell_type": "code",
   "execution_count": null,
   "metadata": {
    "colab": {},
    "colab_type": "code",
    "id": "e88zcuxCSBFT"
   },
   "outputs": [],
   "source": []
  }
 ],
 "metadata": {
  "accelerator": "GPU",
  "colab": {
   "collapsed_sections": [],
   "machine_shape": "hm",
   "name": "4.2_SE_Resnext50_Breakhis_Classification.ipynb",
   "provenance": []
  },
  "kernelspec": {
   "display_name": "Python 3 (ipykernel)",
   "language": "python",
   "name": "python3"
  },
  "language_info": {
   "codemirror_mode": {
    "name": "ipython",
    "version": 3
   },
   "file_extension": ".py",
   "mimetype": "text/x-python",
   "name": "python",
   "nbconvert_exporter": "python",
   "pygments_lexer": "ipython3",
   "version": "3.8.8"
  },
  "widgets": {
   "application/vnd.jupyter.widget-state+json": {
    "232196a91a2a48299dfa4ee0ac4e0af8": {
     "model_module": "@jupyter-widgets/controls",
     "model_name": "HBoxModel",
     "state": {
      "_dom_classes": [],
      "_model_module": "@jupyter-widgets/controls",
      "_model_module_version": "1.5.0",
      "_model_name": "HBoxModel",
      "_view_count": null,
      "_view_module": "@jupyter-widgets/controls",
      "_view_module_version": "1.5.0",
      "_view_name": "HBoxView",
      "box_style": "",
      "children": [
       "IPY_MODEL_923f45c95e8e4741bc7a2f24f36c0552",
       "IPY_MODEL_4afacad171a64a4eac61bbbe13dfbe69"
      ],
      "layout": "IPY_MODEL_4415bd125e3140f89101d952bd2f7c8e"
     }
    },
    "2ff89899b5be415d9fdff24b8757cea8": {
     "model_module": "@jupyter-widgets/controls",
     "model_name": "DescriptionStyleModel",
     "state": {
      "_model_module": "@jupyter-widgets/controls",
      "_model_module_version": "1.5.0",
      "_model_name": "DescriptionStyleModel",
      "_view_count": null,
      "_view_module": "@jupyter-widgets/base",
      "_view_module_version": "1.2.0",
      "_view_name": "StyleView",
      "description_width": ""
     }
    },
    "34e24fdcfb464178bfebbccb839d4bbd": {
     "model_module": "@jupyter-widgets/base",
     "model_name": "LayoutModel",
     "state": {
      "_model_module": "@jupyter-widgets/base",
      "_model_module_version": "1.2.0",
      "_model_name": "LayoutModel",
      "_view_count": null,
      "_view_module": "@jupyter-widgets/base",
      "_view_module_version": "1.2.0",
      "_view_name": "LayoutView",
      "align_content": null,
      "align_items": null,
      "align_self": null,
      "border": null,
      "bottom": null,
      "display": null,
      "flex": null,
      "flex_flow": null,
      "grid_area": null,
      "grid_auto_columns": null,
      "grid_auto_flow": null,
      "grid_auto_rows": null,
      "grid_column": null,
      "grid_gap": null,
      "grid_row": null,
      "grid_template_areas": null,
      "grid_template_columns": null,
      "grid_template_rows": null,
      "height": null,
      "justify_content": null,
      "justify_items": null,
      "left": null,
      "margin": null,
      "max_height": null,
      "max_width": null,
      "min_height": null,
      "min_width": null,
      "object_fit": null,
      "object_position": null,
      "order": null,
      "overflow": null,
      "overflow_x": null,
      "overflow_y": null,
      "padding": null,
      "right": null,
      "top": null,
      "visibility": null,
      "width": null
     }
    },
    "4415bd125e3140f89101d952bd2f7c8e": {
     "model_module": "@jupyter-widgets/base",
     "model_name": "LayoutModel",
     "state": {
      "_model_module": "@jupyter-widgets/base",
      "_model_module_version": "1.2.0",
      "_model_name": "LayoutModel",
      "_view_count": null,
      "_view_module": "@jupyter-widgets/base",
      "_view_module_version": "1.2.0",
      "_view_name": "LayoutView",
      "align_content": null,
      "align_items": null,
      "align_self": null,
      "border": null,
      "bottom": null,
      "display": null,
      "flex": null,
      "flex_flow": null,
      "grid_area": null,
      "grid_auto_columns": null,
      "grid_auto_flow": null,
      "grid_auto_rows": null,
      "grid_column": null,
      "grid_gap": null,
      "grid_row": null,
      "grid_template_areas": null,
      "grid_template_columns": null,
      "grid_template_rows": null,
      "height": null,
      "justify_content": null,
      "justify_items": null,
      "left": null,
      "margin": null,
      "max_height": null,
      "max_width": null,
      "min_height": null,
      "min_width": null,
      "object_fit": null,
      "object_position": null,
      "order": null,
      "overflow": null,
      "overflow_x": null,
      "overflow_y": null,
      "padding": null,
      "right": null,
      "top": null,
      "visibility": null,
      "width": null
     }
    },
    "4afacad171a64a4eac61bbbe13dfbe69": {
     "model_module": "@jupyter-widgets/controls",
     "model_name": "HTMLModel",
     "state": {
      "_dom_classes": [],
      "_model_module": "@jupyter-widgets/controls",
      "_model_module_version": "1.5.0",
      "_model_name": "HTMLModel",
      "_view_count": null,
      "_view_module": "@jupyter-widgets/controls",
      "_view_module_version": "1.5.0",
      "_view_name": "HTMLView",
      "description": "",
      "description_tooltip": null,
      "layout": "IPY_MODEL_34e24fdcfb464178bfebbccb839d4bbd",
      "placeholder": "​",
      "style": "IPY_MODEL_2ff89899b5be415d9fdff24b8757cea8",
      "value": " 105M/105M [09:11&lt;00:00, 200kB/s]"
     }
    },
    "86d8e91d2ff948c2ab19303594ddb849": {
     "model_module": "@jupyter-widgets/controls",
     "model_name": "ProgressStyleModel",
     "state": {
      "_model_module": "@jupyter-widgets/controls",
      "_model_module_version": "1.5.0",
      "_model_name": "ProgressStyleModel",
      "_view_count": null,
      "_view_module": "@jupyter-widgets/base",
      "_view_module_version": "1.2.0",
      "_view_name": "StyleView",
      "bar_color": null,
      "description_width": "initial"
     }
    },
    "923f45c95e8e4741bc7a2f24f36c0552": {
     "model_module": "@jupyter-widgets/controls",
     "model_name": "FloatProgressModel",
     "state": {
      "_dom_classes": [],
      "_model_module": "@jupyter-widgets/controls",
      "_model_module_version": "1.5.0",
      "_model_name": "FloatProgressModel",
      "_view_count": null,
      "_view_module": "@jupyter-widgets/controls",
      "_view_module_version": "1.5.0",
      "_view_name": "ProgressView",
      "bar_style": "success",
      "description": "100%",
      "description_tooltip": null,
      "layout": "IPY_MODEL_9466d68da1cd402eaaec1a98c3478435",
      "max": 110559176,
      "min": 0,
      "orientation": "horizontal",
      "style": "IPY_MODEL_86d8e91d2ff948c2ab19303594ddb849",
      "value": 110559176
     }
    },
    "9466d68da1cd402eaaec1a98c3478435": {
     "model_module": "@jupyter-widgets/base",
     "model_name": "LayoutModel",
     "state": {
      "_model_module": "@jupyter-widgets/base",
      "_model_module_version": "1.2.0",
      "_model_name": "LayoutModel",
      "_view_count": null,
      "_view_module": "@jupyter-widgets/base",
      "_view_module_version": "1.2.0",
      "_view_name": "LayoutView",
      "align_content": null,
      "align_items": null,
      "align_self": null,
      "border": null,
      "bottom": null,
      "display": null,
      "flex": null,
      "flex_flow": null,
      "grid_area": null,
      "grid_auto_columns": null,
      "grid_auto_flow": null,
      "grid_auto_rows": null,
      "grid_column": null,
      "grid_gap": null,
      "grid_row": null,
      "grid_template_areas": null,
      "grid_template_columns": null,
      "grid_template_rows": null,
      "height": null,
      "justify_content": null,
      "justify_items": null,
      "left": null,
      "margin": null,
      "max_height": null,
      "max_width": null,
      "min_height": null,
      "min_width": null,
      "object_fit": null,
      "object_position": null,
      "order": null,
      "overflow": null,
      "overflow_x": null,
      "overflow_y": null,
      "padding": null,
      "right": null,
      "top": null,
      "visibility": null,
      "width": null
     }
    }
   }
  }
 },
 "nbformat": 4,
 "nbformat_minor": 1
}
